{
 "cells": [
  {
   "cell_type": "code",
   "execution_count": 1,
   "metadata": {},
   "outputs": [],
   "source": [
    "import pandas as pd\n",
    "import numpy as np\n",
    "import matplotlib.pyplot as plt\n",
    "import time\n",
    "import datetime\n",
    "\n",
    "%matplotlib inline"
   ]
  },
  {
   "cell_type": "code",
   "execution_count": 2,
   "metadata": {},
   "outputs": [],
   "source": [
    "df_raw = pd.read_csv('crypto_prices.csv')"
   ]
  },
  {
   "cell_type": "code",
   "execution_count": 3,
   "metadata": {},
   "outputs": [],
   "source": [
    "df_raw.set_index(\"dtime\", inplace = True)\n",
    "df_raw = df_raw.reindex(index=df_raw.index[::-1])\n",
    "#df_raw = df_raw.drop(columns = ['time'])"
   ]
  },
  {
   "cell_type": "code",
   "execution_count": 4,
   "metadata": {},
   "outputs": [
    {
     "data": {
      "text/html": [
       "<div>\n",
       "<style scoped>\n",
       "    .dataframe tbody tr th:only-of-type {\n",
       "        vertical-align: middle;\n",
       "    }\n",
       "\n",
       "    .dataframe tbody tr th {\n",
       "        vertical-align: top;\n",
       "    }\n",
       "\n",
       "    .dataframe thead th {\n",
       "        text-align: right;\n",
       "    }\n",
       "</style>\n",
       "<table border=\"1\" class=\"dataframe\">\n",
       "  <thead>\n",
       "    <tr style=\"text-align: right;\">\n",
       "      <th></th>\n",
       "      <th>open_BTC</th>\n",
       "      <th>high_BTC</th>\n",
       "      <th>low_BTC</th>\n",
       "      <th>close_BTC</th>\n",
       "      <th>vwap_BTC</th>\n",
       "      <th>volume_BTC</th>\n",
       "      <th>count_BTC</th>\n",
       "      <th>log_high_BTC</th>\n",
       "      <th>log_low_BTC</th>\n",
       "      <th>log_vwap_BTC</th>\n",
       "      <th>...</th>\n",
       "      <th>open_LTC</th>\n",
       "      <th>high_LTC</th>\n",
       "      <th>low_LTC</th>\n",
       "      <th>close_LTC</th>\n",
       "      <th>vwap_LTC</th>\n",
       "      <th>volume_LTC</th>\n",
       "      <th>count_LTC</th>\n",
       "      <th>log_high_LTC</th>\n",
       "      <th>log_low_LTC</th>\n",
       "      <th>log_vwap_LTC</th>\n",
       "    </tr>\n",
       "    <tr>\n",
       "      <th>dtime</th>\n",
       "      <th></th>\n",
       "      <th></th>\n",
       "      <th></th>\n",
       "      <th></th>\n",
       "      <th></th>\n",
       "      <th></th>\n",
       "      <th></th>\n",
       "      <th></th>\n",
       "      <th></th>\n",
       "      <th></th>\n",
       "      <th></th>\n",
       "      <th></th>\n",
       "      <th></th>\n",
       "      <th></th>\n",
       "      <th></th>\n",
       "      <th></th>\n",
       "      <th></th>\n",
       "      <th></th>\n",
       "      <th></th>\n",
       "      <th></th>\n",
       "      <th></th>\n",
       "    </tr>\n",
       "  </thead>\n",
       "  <tbody>\n",
       "    <tr>\n",
       "      <th>2018-10-13</th>\n",
       "      <td>6192.2</td>\n",
       "      <td>6219.1</td>\n",
       "      <td>6171.7</td>\n",
       "      <td>6197.9</td>\n",
       "      <td>6199.6</td>\n",
       "      <td>922.828331</td>\n",
       "      <td>3614</td>\n",
       "      <td>8.735380</td>\n",
       "      <td>8.727730</td>\n",
       "      <td>8.732240</td>\n",
       "      <td>...</td>\n",
       "      <td>52.84</td>\n",
       "      <td>53.88</td>\n",
       "      <td>52.42</td>\n",
       "      <td>52.84</td>\n",
       "      <td>53.02</td>\n",
       "      <td>5258.671260</td>\n",
       "      <td>668</td>\n",
       "      <td>3.986759</td>\n",
       "      <td>3.959288</td>\n",
       "      <td>3.970669</td>\n",
       "    </tr>\n",
       "    <tr>\n",
       "      <th>2018-10-14</th>\n",
       "      <td>6197.9</td>\n",
       "      <td>6289.9</td>\n",
       "      <td>6150.0</td>\n",
       "      <td>6181.8</td>\n",
       "      <td>6226.9</td>\n",
       "      <td>1237.100596</td>\n",
       "      <td>5098</td>\n",
       "      <td>8.746700</td>\n",
       "      <td>8.724207</td>\n",
       "      <td>8.736634</td>\n",
       "      <td>...</td>\n",
       "      <td>52.84</td>\n",
       "      <td>53.35</td>\n",
       "      <td>50.85</td>\n",
       "      <td>51.14</td>\n",
       "      <td>52.07</td>\n",
       "      <td>5024.065251</td>\n",
       "      <td>625</td>\n",
       "      <td>3.976874</td>\n",
       "      <td>3.928880</td>\n",
       "      <td>3.952589</td>\n",
       "    </tr>\n",
       "    <tr>\n",
       "      <th>2018-10-15</th>\n",
       "      <td>6181.9</td>\n",
       "      <td>6820.0</td>\n",
       "      <td>6151.0</td>\n",
       "      <td>6438.5</td>\n",
       "      <td>6449.8</td>\n",
       "      <td>11345.747326</td>\n",
       "      <td>28535</td>\n",
       "      <td>8.827615</td>\n",
       "      <td>8.724370</td>\n",
       "      <td>8.771804</td>\n",
       "      <td>...</td>\n",
       "      <td>51.14</td>\n",
       "      <td>58.09</td>\n",
       "      <td>50.86</td>\n",
       "      <td>53.48</td>\n",
       "      <td>53.71</td>\n",
       "      <td>38150.198318</td>\n",
       "      <td>3528</td>\n",
       "      <td>4.061994</td>\n",
       "      <td>3.929077</td>\n",
       "      <td>3.983599</td>\n",
       "    </tr>\n",
       "    <tr>\n",
       "      <th>2018-10-16</th>\n",
       "      <td>6438.5</td>\n",
       "      <td>6490.0</td>\n",
       "      <td>6391.5</td>\n",
       "      <td>6460.4</td>\n",
       "      <td>6441.8</td>\n",
       "      <td>3270.364601</td>\n",
       "      <td>8233</td>\n",
       "      <td>8.778018</td>\n",
       "      <td>8.762724</td>\n",
       "      <td>8.770563</td>\n",
       "      <td>...</td>\n",
       "      <td>53.48</td>\n",
       "      <td>54.19</td>\n",
       "      <td>52.54</td>\n",
       "      <td>53.10</td>\n",
       "      <td>53.35</td>\n",
       "      <td>11349.662323</td>\n",
       "      <td>702</td>\n",
       "      <td>3.992496</td>\n",
       "      <td>3.961575</td>\n",
       "      <td>3.976874</td>\n",
       "    </tr>\n",
       "    <tr>\n",
       "      <th>2018-10-17</th>\n",
       "      <td>6460.3</td>\n",
       "      <td>6469.8</td>\n",
       "      <td>6411.9</td>\n",
       "      <td>6442.5</td>\n",
       "      <td>6438.4</td>\n",
       "      <td>1683.992001</td>\n",
       "      <td>5375</td>\n",
       "      <td>8.774900</td>\n",
       "      <td>8.765911</td>\n",
       "      <td>8.770035</td>\n",
       "      <td>...</td>\n",
       "      <td>53.10</td>\n",
       "      <td>53.22</td>\n",
       "      <td>52.30</td>\n",
       "      <td>52.93</td>\n",
       "      <td>52.69</td>\n",
       "      <td>4882.802936</td>\n",
       "      <td>605</td>\n",
       "      <td>3.974434</td>\n",
       "      <td>3.956996</td>\n",
       "      <td>3.964426</td>\n",
       "    </tr>\n",
       "  </tbody>\n",
       "</table>\n",
       "<p>5 rows × 30 columns</p>\n",
       "</div>"
      ],
      "text/plain": [
       "            open_BTC  high_BTC  low_BTC  close_BTC  vwap_BTC    volume_BTC  \\\n",
       "dtime                                                                        \n",
       "2018-10-13    6192.2    6219.1   6171.7     6197.9    6199.6    922.828331   \n",
       "2018-10-14    6197.9    6289.9   6150.0     6181.8    6226.9   1237.100596   \n",
       "2018-10-15    6181.9    6820.0   6151.0     6438.5    6449.8  11345.747326   \n",
       "2018-10-16    6438.5    6490.0   6391.5     6460.4    6441.8   3270.364601   \n",
       "2018-10-17    6460.3    6469.8   6411.9     6442.5    6438.4   1683.992001   \n",
       "\n",
       "            count_BTC  log_high_BTC  log_low_BTC  log_vwap_BTC  ...  open_LTC  \\\n",
       "dtime                                                           ...             \n",
       "2018-10-13       3614      8.735380     8.727730      8.732240  ...     52.84   \n",
       "2018-10-14       5098      8.746700     8.724207      8.736634  ...     52.84   \n",
       "2018-10-15      28535      8.827615     8.724370      8.771804  ...     51.14   \n",
       "2018-10-16       8233      8.778018     8.762724      8.770563  ...     53.48   \n",
       "2018-10-17       5375      8.774900     8.765911      8.770035  ...     53.10   \n",
       "\n",
       "            high_LTC  low_LTC  close_LTC  vwap_LTC    volume_LTC  count_LTC  \\\n",
       "dtime                                                                         \n",
       "2018-10-13     53.88    52.42      52.84     53.02   5258.671260        668   \n",
       "2018-10-14     53.35    50.85      51.14     52.07   5024.065251        625   \n",
       "2018-10-15     58.09    50.86      53.48     53.71  38150.198318       3528   \n",
       "2018-10-16     54.19    52.54      53.10     53.35  11349.662323        702   \n",
       "2018-10-17     53.22    52.30      52.93     52.69   4882.802936        605   \n",
       "\n",
       "            log_high_LTC  log_low_LTC  log_vwap_LTC  \n",
       "dtime                                                \n",
       "2018-10-13      3.986759     3.959288      3.970669  \n",
       "2018-10-14      3.976874     3.928880      3.952589  \n",
       "2018-10-15      4.061994     3.929077      3.983599  \n",
       "2018-10-16      3.992496     3.961575      3.976874  \n",
       "2018-10-17      3.974434     3.956996      3.964426  \n",
       "\n",
       "[5 rows x 30 columns]"
      ]
     },
     "execution_count": 4,
     "metadata": {},
     "output_type": "execute_result"
    }
   ],
   "source": [
    "df_raw.head()"
   ]
  },
  {
   "cell_type": "code",
   "execution_count": 5,
   "metadata": {},
   "outputs": [],
   "source": [
    "df_copy = df_raw.copy()"
   ]
  },
  {
   "cell_type": "code",
   "execution_count": 6,
   "metadata": {},
   "outputs": [
    {
     "data": {
      "text/html": [
       "<div>\n",
       "<style scoped>\n",
       "    .dataframe tbody tr th:only-of-type {\n",
       "        vertical-align: middle;\n",
       "    }\n",
       "\n",
       "    .dataframe tbody tr th {\n",
       "        vertical-align: top;\n",
       "    }\n",
       "\n",
       "    .dataframe thead th {\n",
       "        text-align: right;\n",
       "    }\n",
       "</style>\n",
       "<table border=\"1\" class=\"dataframe\">\n",
       "  <thead>\n",
       "    <tr style=\"text-align: right;\">\n",
       "      <th></th>\n",
       "      <th>open_BTC</th>\n",
       "      <th>high_BTC</th>\n",
       "      <th>low_BTC</th>\n",
       "      <th>close_BTC</th>\n",
       "      <th>vwap_BTC</th>\n",
       "      <th>volume_BTC</th>\n",
       "      <th>count_BTC</th>\n",
       "      <th>log_high_BTC</th>\n",
       "      <th>log_low_BTC</th>\n",
       "      <th>log_vwap_BTC</th>\n",
       "      <th>...</th>\n",
       "      <th>open_LTC</th>\n",
       "      <th>high_LTC</th>\n",
       "      <th>low_LTC</th>\n",
       "      <th>close_LTC</th>\n",
       "      <th>vwap_LTC</th>\n",
       "      <th>volume_LTC</th>\n",
       "      <th>count_LTC</th>\n",
       "      <th>log_high_LTC</th>\n",
       "      <th>log_low_LTC</th>\n",
       "      <th>log_vwap_LTC</th>\n",
       "    </tr>\n",
       "    <tr>\n",
       "      <th>dtime</th>\n",
       "      <th></th>\n",
       "      <th></th>\n",
       "      <th></th>\n",
       "      <th></th>\n",
       "      <th></th>\n",
       "      <th></th>\n",
       "      <th></th>\n",
       "      <th></th>\n",
       "      <th></th>\n",
       "      <th></th>\n",
       "      <th></th>\n",
       "      <th></th>\n",
       "      <th></th>\n",
       "      <th></th>\n",
       "      <th></th>\n",
       "      <th></th>\n",
       "      <th></th>\n",
       "      <th></th>\n",
       "      <th></th>\n",
       "      <th></th>\n",
       "      <th></th>\n",
       "    </tr>\n",
       "  </thead>\n",
       "  <tbody>\n",
       "    <tr>\n",
       "      <th>2018-10-13</th>\n",
       "      <td>6192.2</td>\n",
       "      <td>6219.1</td>\n",
       "      <td>6171.7</td>\n",
       "      <td>6197.9</td>\n",
       "      <td>6199.6</td>\n",
       "      <td>922.828331</td>\n",
       "      <td>3614</td>\n",
       "      <td>8.735380</td>\n",
       "      <td>8.727730</td>\n",
       "      <td>8.732240</td>\n",
       "      <td>...</td>\n",
       "      <td>52.84</td>\n",
       "      <td>53.88</td>\n",
       "      <td>52.42</td>\n",
       "      <td>52.84</td>\n",
       "      <td>53.02</td>\n",
       "      <td>5258.671260</td>\n",
       "      <td>668</td>\n",
       "      <td>3.986759</td>\n",
       "      <td>3.959288</td>\n",
       "      <td>3.970669</td>\n",
       "    </tr>\n",
       "    <tr>\n",
       "      <th>2018-10-14</th>\n",
       "      <td>6197.9</td>\n",
       "      <td>6289.9</td>\n",
       "      <td>6150.0</td>\n",
       "      <td>6181.8</td>\n",
       "      <td>6226.9</td>\n",
       "      <td>1237.100596</td>\n",
       "      <td>5098</td>\n",
       "      <td>8.746700</td>\n",
       "      <td>8.724207</td>\n",
       "      <td>8.736634</td>\n",
       "      <td>...</td>\n",
       "      <td>52.84</td>\n",
       "      <td>53.35</td>\n",
       "      <td>50.85</td>\n",
       "      <td>51.14</td>\n",
       "      <td>52.07</td>\n",
       "      <td>5024.065251</td>\n",
       "      <td>625</td>\n",
       "      <td>3.976874</td>\n",
       "      <td>3.928880</td>\n",
       "      <td>3.952589</td>\n",
       "    </tr>\n",
       "    <tr>\n",
       "      <th>2018-10-15</th>\n",
       "      <td>6181.9</td>\n",
       "      <td>6820.0</td>\n",
       "      <td>6151.0</td>\n",
       "      <td>6438.5</td>\n",
       "      <td>6449.8</td>\n",
       "      <td>11345.747326</td>\n",
       "      <td>28535</td>\n",
       "      <td>8.827615</td>\n",
       "      <td>8.724370</td>\n",
       "      <td>8.771804</td>\n",
       "      <td>...</td>\n",
       "      <td>51.14</td>\n",
       "      <td>58.09</td>\n",
       "      <td>50.86</td>\n",
       "      <td>53.48</td>\n",
       "      <td>53.71</td>\n",
       "      <td>38150.198318</td>\n",
       "      <td>3528</td>\n",
       "      <td>4.061994</td>\n",
       "      <td>3.929077</td>\n",
       "      <td>3.983599</td>\n",
       "    </tr>\n",
       "    <tr>\n",
       "      <th>2018-10-16</th>\n",
       "      <td>6438.5</td>\n",
       "      <td>6490.0</td>\n",
       "      <td>6391.5</td>\n",
       "      <td>6460.4</td>\n",
       "      <td>6441.8</td>\n",
       "      <td>3270.364601</td>\n",
       "      <td>8233</td>\n",
       "      <td>8.778018</td>\n",
       "      <td>8.762724</td>\n",
       "      <td>8.770563</td>\n",
       "      <td>...</td>\n",
       "      <td>53.48</td>\n",
       "      <td>54.19</td>\n",
       "      <td>52.54</td>\n",
       "      <td>53.10</td>\n",
       "      <td>53.35</td>\n",
       "      <td>11349.662323</td>\n",
       "      <td>702</td>\n",
       "      <td>3.992496</td>\n",
       "      <td>3.961575</td>\n",
       "      <td>3.976874</td>\n",
       "    </tr>\n",
       "    <tr>\n",
       "      <th>2018-10-17</th>\n",
       "      <td>6460.3</td>\n",
       "      <td>6469.8</td>\n",
       "      <td>6411.9</td>\n",
       "      <td>6442.5</td>\n",
       "      <td>6438.4</td>\n",
       "      <td>1683.992001</td>\n",
       "      <td>5375</td>\n",
       "      <td>8.774900</td>\n",
       "      <td>8.765911</td>\n",
       "      <td>8.770035</td>\n",
       "      <td>...</td>\n",
       "      <td>53.10</td>\n",
       "      <td>53.22</td>\n",
       "      <td>52.30</td>\n",
       "      <td>52.93</td>\n",
       "      <td>52.69</td>\n",
       "      <td>4882.802936</td>\n",
       "      <td>605</td>\n",
       "      <td>3.974434</td>\n",
       "      <td>3.956996</td>\n",
       "      <td>3.964426</td>\n",
       "    </tr>\n",
       "  </tbody>\n",
       "</table>\n",
       "<p>5 rows × 30 columns</p>\n",
       "</div>"
      ],
      "text/plain": [
       "            open_BTC  high_BTC  low_BTC  close_BTC  vwap_BTC    volume_BTC  \\\n",
       "dtime                                                                        \n",
       "2018-10-13    6192.2    6219.1   6171.7     6197.9    6199.6    922.828331   \n",
       "2018-10-14    6197.9    6289.9   6150.0     6181.8    6226.9   1237.100596   \n",
       "2018-10-15    6181.9    6820.0   6151.0     6438.5    6449.8  11345.747326   \n",
       "2018-10-16    6438.5    6490.0   6391.5     6460.4    6441.8   3270.364601   \n",
       "2018-10-17    6460.3    6469.8   6411.9     6442.5    6438.4   1683.992001   \n",
       "\n",
       "            count_BTC  log_high_BTC  log_low_BTC  log_vwap_BTC  ...  open_LTC  \\\n",
       "dtime                                                           ...             \n",
       "2018-10-13       3614      8.735380     8.727730      8.732240  ...     52.84   \n",
       "2018-10-14       5098      8.746700     8.724207      8.736634  ...     52.84   \n",
       "2018-10-15      28535      8.827615     8.724370      8.771804  ...     51.14   \n",
       "2018-10-16       8233      8.778018     8.762724      8.770563  ...     53.48   \n",
       "2018-10-17       5375      8.774900     8.765911      8.770035  ...     53.10   \n",
       "\n",
       "            high_LTC  low_LTC  close_LTC  vwap_LTC    volume_LTC  count_LTC  \\\n",
       "dtime                                                                         \n",
       "2018-10-13     53.88    52.42      52.84     53.02   5258.671260        668   \n",
       "2018-10-14     53.35    50.85      51.14     52.07   5024.065251        625   \n",
       "2018-10-15     58.09    50.86      53.48     53.71  38150.198318       3528   \n",
       "2018-10-16     54.19    52.54      53.10     53.35  11349.662323        702   \n",
       "2018-10-17     53.22    52.30      52.93     52.69   4882.802936        605   \n",
       "\n",
       "            log_high_LTC  log_low_LTC  log_vwap_LTC  \n",
       "dtime                                                \n",
       "2018-10-13      3.986759     3.959288      3.970669  \n",
       "2018-10-14      3.976874     3.928880      3.952589  \n",
       "2018-10-15      4.061994     3.929077      3.983599  \n",
       "2018-10-16      3.992496     3.961575      3.976874  \n",
       "2018-10-17      3.974434     3.956996      3.964426  \n",
       "\n",
       "[5 rows x 30 columns]"
      ]
     },
     "execution_count": 6,
     "metadata": {},
     "output_type": "execute_result"
    }
   ],
   "source": [
    "df_copy.head()"
   ]
  },
  {
   "cell_type": "code",
   "execution_count": 7,
   "metadata": {},
   "outputs": [
    {
     "data": {
      "text/plain": [
       "open_BTC        0\n",
       "high_BTC        0\n",
       "low_BTC         0\n",
       "close_BTC       0\n",
       "vwap_BTC        0\n",
       "volume_BTC      0\n",
       "count_BTC       0\n",
       "log_high_BTC    0\n",
       "log_low_BTC     0\n",
       "log_vwap_BTC    0\n",
       "open_ETH        0\n",
       "high_ETH        0\n",
       "low_ETH         0\n",
       "close_ETH       0\n",
       "vwap_ETH        0\n",
       "volume_ETH      0\n",
       "count_ETH       0\n",
       "log_high_ETH    0\n",
       "log_low_ETH     0\n",
       "log_vwap_ETH    0\n",
       "open_LTC        0\n",
       "high_LTC        0\n",
       "low_LTC         0\n",
       "close_LTC       0\n",
       "vwap_LTC        0\n",
       "volume_LTC      0\n",
       "count_LTC       0\n",
       "log_high_LTC    0\n",
       "log_low_LTC     0\n",
       "log_vwap_LTC    0\n",
       "dtype: int64"
      ]
     },
     "execution_count": 7,
     "metadata": {},
     "output_type": "execute_result"
    }
   ],
   "source": [
    "#Ensuring no NA's in dataset.\n",
    "df_copy.isna().sum()"
   ]
  },
  {
   "cell_type": "markdown",
   "metadata": {},
   "source": [
    "---"
   ]
  },
  {
   "cell_type": "markdown",
   "metadata": {},
   "source": [
    "### Data Preprocessing"
   ]
  },
  {
   "cell_type": "code",
   "execution_count": 8,
   "metadata": {},
   "outputs": [],
   "source": [
    "# Creating daily returns columns for daily VWAP return\n",
    "df_copy['BTC_daily_return'] = df_copy['vwap_BTC'].pct_change()\n",
    "df_copy['ETH_daily_return'] = df_copy['vwap_ETH'].pct_change()\n",
    "df_copy['LTC_daily_return'] = df_copy['vwap_LTC'].pct_change()"
   ]
  },
  {
   "cell_type": "code",
   "execution_count": 9,
   "metadata": {},
   "outputs": [],
   "source": [
    "# Doing a log transformation of daily returns column for daily VWAP return\n",
    "df_copy['BTC_log_vwap_return'] = df_copy['log_vwap_BTC'].pct_change()\n",
    "df_copy['ETH_log_vwap_return'] = df_copy['log_vwap_ETH'].pct_change()\n",
    "df_copy['LTC_log_vwap_return'] = df_copy['log_vwap_LTC'].pct_change()"
   ]
  },
  {
   "cell_type": "code",
   "execution_count": 10,
   "metadata": {},
   "outputs": [],
   "source": [
    "# Split for Time-Series modeling, use a train_test_split for the regregression\n",
    "size = int(len(df_copy) * 0.8)"
   ]
  },
  {
   "cell_type": "code",
   "execution_count": 11,
   "metadata": {},
   "outputs": [],
   "source": [
    "df = df_copy.iloc[:size]"
   ]
  },
  {
   "cell_type": "code",
   "execution_count": 12,
   "metadata": {},
   "outputs": [],
   "source": [
    "df_test = df_copy.iloc[size:]"
   ]
  },
  {
   "cell_type": "code",
   "execution_count": 13,
   "metadata": {
    "scrolled": true
   },
   "outputs": [
    {
     "data": {
      "text/html": [
       "<div>\n",
       "<style scoped>\n",
       "    .dataframe tbody tr th:only-of-type {\n",
       "        vertical-align: middle;\n",
       "    }\n",
       "\n",
       "    .dataframe tbody tr th {\n",
       "        vertical-align: top;\n",
       "    }\n",
       "\n",
       "    .dataframe thead th {\n",
       "        text-align: right;\n",
       "    }\n",
       "</style>\n",
       "<table border=\"1\" class=\"dataframe\">\n",
       "  <thead>\n",
       "    <tr style=\"text-align: right;\">\n",
       "      <th></th>\n",
       "      <th>open_BTC</th>\n",
       "      <th>high_BTC</th>\n",
       "      <th>low_BTC</th>\n",
       "      <th>close_BTC</th>\n",
       "      <th>vwap_BTC</th>\n",
       "      <th>volume_BTC</th>\n",
       "      <th>count_BTC</th>\n",
       "      <th>log_high_BTC</th>\n",
       "      <th>log_low_BTC</th>\n",
       "      <th>log_vwap_BTC</th>\n",
       "      <th>...</th>\n",
       "      <th>count_LTC</th>\n",
       "      <th>log_high_LTC</th>\n",
       "      <th>log_low_LTC</th>\n",
       "      <th>log_vwap_LTC</th>\n",
       "      <th>BTC_daily_return</th>\n",
       "      <th>ETH_daily_return</th>\n",
       "      <th>LTC_daily_return</th>\n",
       "      <th>BTC_log_vwap_return</th>\n",
       "      <th>ETH_log_vwap_return</th>\n",
       "      <th>LTC_log_vwap_return</th>\n",
       "    </tr>\n",
       "    <tr>\n",
       "      <th>dtime</th>\n",
       "      <th></th>\n",
       "      <th></th>\n",
       "      <th></th>\n",
       "      <th></th>\n",
       "      <th></th>\n",
       "      <th></th>\n",
       "      <th></th>\n",
       "      <th></th>\n",
       "      <th></th>\n",
       "      <th></th>\n",
       "      <th></th>\n",
       "      <th></th>\n",
       "      <th></th>\n",
       "      <th></th>\n",
       "      <th></th>\n",
       "      <th></th>\n",
       "      <th></th>\n",
       "      <th></th>\n",
       "      <th></th>\n",
       "      <th></th>\n",
       "      <th></th>\n",
       "    </tr>\n",
       "  </thead>\n",
       "  <tbody>\n",
       "    <tr>\n",
       "      <th>2018-10-13</th>\n",
       "      <td>6192.2</td>\n",
       "      <td>6219.1</td>\n",
       "      <td>6171.7</td>\n",
       "      <td>6197.9</td>\n",
       "      <td>6199.6</td>\n",
       "      <td>922.828331</td>\n",
       "      <td>3614</td>\n",
       "      <td>8.735380</td>\n",
       "      <td>8.727730</td>\n",
       "      <td>8.732240</td>\n",
       "      <td>...</td>\n",
       "      <td>668</td>\n",
       "      <td>3.986759</td>\n",
       "      <td>3.959288</td>\n",
       "      <td>3.970669</td>\n",
       "      <td>NaN</td>\n",
       "      <td>NaN</td>\n",
       "      <td>NaN</td>\n",
       "      <td>NaN</td>\n",
       "      <td>NaN</td>\n",
       "      <td>NaN</td>\n",
       "    </tr>\n",
       "    <tr>\n",
       "      <th>2018-10-14</th>\n",
       "      <td>6197.9</td>\n",
       "      <td>6289.9</td>\n",
       "      <td>6150.0</td>\n",
       "      <td>6181.8</td>\n",
       "      <td>6226.9</td>\n",
       "      <td>1237.100596</td>\n",
       "      <td>5098</td>\n",
       "      <td>8.746700</td>\n",
       "      <td>8.724207</td>\n",
       "      <td>8.736634</td>\n",
       "      <td>...</td>\n",
       "      <td>625</td>\n",
       "      <td>3.976874</td>\n",
       "      <td>3.928880</td>\n",
       "      <td>3.952589</td>\n",
       "      <td>0.004404</td>\n",
       "      <td>-0.006953</td>\n",
       "      <td>-0.017918</td>\n",
       "      <td>0.000503</td>\n",
       "      <td>-0.001321</td>\n",
       "      <td>-0.004553</td>\n",
       "    </tr>\n",
       "    <tr>\n",
       "      <th>2018-10-15</th>\n",
       "      <td>6181.9</td>\n",
       "      <td>6820.0</td>\n",
       "      <td>6151.0</td>\n",
       "      <td>6438.5</td>\n",
       "      <td>6449.8</td>\n",
       "      <td>11345.747326</td>\n",
       "      <td>28535</td>\n",
       "      <td>8.827615</td>\n",
       "      <td>8.724370</td>\n",
       "      <td>8.771804</td>\n",
       "      <td>...</td>\n",
       "      <td>3528</td>\n",
       "      <td>4.061994</td>\n",
       "      <td>3.929077</td>\n",
       "      <td>3.983599</td>\n",
       "      <td>0.035796</td>\n",
       "      <td>0.044667</td>\n",
       "      <td>0.031496</td>\n",
       "      <td>0.004026</td>\n",
       "      <td>0.008282</td>\n",
       "      <td>0.007846</td>\n",
       "    </tr>\n",
       "    <tr>\n",
       "      <th>2018-10-16</th>\n",
       "      <td>6438.5</td>\n",
       "      <td>6490.0</td>\n",
       "      <td>6391.5</td>\n",
       "      <td>6460.4</td>\n",
       "      <td>6441.8</td>\n",
       "      <td>3270.364601</td>\n",
       "      <td>8233</td>\n",
       "      <td>8.778018</td>\n",
       "      <td>8.762724</td>\n",
       "      <td>8.770563</td>\n",
       "      <td>...</td>\n",
       "      <td>702</td>\n",
       "      <td>3.992496</td>\n",
       "      <td>3.961575</td>\n",
       "      <td>3.976874</td>\n",
       "      <td>-0.001240</td>\n",
       "      <td>0.000049</td>\n",
       "      <td>-0.006703</td>\n",
       "      <td>-0.000141</td>\n",
       "      <td>0.000009</td>\n",
       "      <td>-0.001688</td>\n",
       "    </tr>\n",
       "    <tr>\n",
       "      <th>2018-10-17</th>\n",
       "      <td>6460.3</td>\n",
       "      <td>6469.8</td>\n",
       "      <td>6411.9</td>\n",
       "      <td>6442.5</td>\n",
       "      <td>6438.4</td>\n",
       "      <td>1683.992001</td>\n",
       "      <td>5375</td>\n",
       "      <td>8.774900</td>\n",
       "      <td>8.765911</td>\n",
       "      <td>8.770035</td>\n",
       "      <td>...</td>\n",
       "      <td>605</td>\n",
       "      <td>3.974434</td>\n",
       "      <td>3.956996</td>\n",
       "      <td>3.964426</td>\n",
       "      <td>-0.000528</td>\n",
       "      <td>-0.003326</td>\n",
       "      <td>-0.012371</td>\n",
       "      <td>-0.000060</td>\n",
       "      <td>-0.000626</td>\n",
       "      <td>-0.003130</td>\n",
       "    </tr>\n",
       "  </tbody>\n",
       "</table>\n",
       "<p>5 rows × 36 columns</p>\n",
       "</div>"
      ],
      "text/plain": [
       "            open_BTC  high_BTC  low_BTC  close_BTC  vwap_BTC    volume_BTC  \\\n",
       "dtime                                                                        \n",
       "2018-10-13    6192.2    6219.1   6171.7     6197.9    6199.6    922.828331   \n",
       "2018-10-14    6197.9    6289.9   6150.0     6181.8    6226.9   1237.100596   \n",
       "2018-10-15    6181.9    6820.0   6151.0     6438.5    6449.8  11345.747326   \n",
       "2018-10-16    6438.5    6490.0   6391.5     6460.4    6441.8   3270.364601   \n",
       "2018-10-17    6460.3    6469.8   6411.9     6442.5    6438.4   1683.992001   \n",
       "\n",
       "            count_BTC  log_high_BTC  log_low_BTC  log_vwap_BTC  ...  \\\n",
       "dtime                                                           ...   \n",
       "2018-10-13       3614      8.735380     8.727730      8.732240  ...   \n",
       "2018-10-14       5098      8.746700     8.724207      8.736634  ...   \n",
       "2018-10-15      28535      8.827615     8.724370      8.771804  ...   \n",
       "2018-10-16       8233      8.778018     8.762724      8.770563  ...   \n",
       "2018-10-17       5375      8.774900     8.765911      8.770035  ...   \n",
       "\n",
       "            count_LTC  log_high_LTC  log_low_LTC  log_vwap_LTC  \\\n",
       "dtime                                                            \n",
       "2018-10-13        668      3.986759     3.959288      3.970669   \n",
       "2018-10-14        625      3.976874     3.928880      3.952589   \n",
       "2018-10-15       3528      4.061994     3.929077      3.983599   \n",
       "2018-10-16        702      3.992496     3.961575      3.976874   \n",
       "2018-10-17        605      3.974434     3.956996      3.964426   \n",
       "\n",
       "            BTC_daily_return  ETH_daily_return  LTC_daily_return  \\\n",
       "dtime                                                              \n",
       "2018-10-13               NaN               NaN               NaN   \n",
       "2018-10-14          0.004404         -0.006953         -0.017918   \n",
       "2018-10-15          0.035796          0.044667          0.031496   \n",
       "2018-10-16         -0.001240          0.000049         -0.006703   \n",
       "2018-10-17         -0.000528         -0.003326         -0.012371   \n",
       "\n",
       "            BTC_log_vwap_return  ETH_log_vwap_return  LTC_log_vwap_return  \n",
       "dtime                                                                      \n",
       "2018-10-13                  NaN                  NaN                  NaN  \n",
       "2018-10-14             0.000503            -0.001321            -0.004553  \n",
       "2018-10-15             0.004026             0.008282             0.007846  \n",
       "2018-10-16            -0.000141             0.000009            -0.001688  \n",
       "2018-10-17            -0.000060            -0.000626            -0.003130  \n",
       "\n",
       "[5 rows x 36 columns]"
      ]
     },
     "execution_count": 13,
     "metadata": {},
     "output_type": "execute_result"
    }
   ],
   "source": [
    "df.head()"
   ]
  },
  {
   "cell_type": "code",
   "execution_count": 14,
   "metadata": {},
   "outputs": [
    {
     "data": {
      "text/html": [
       "<div>\n",
       "<style scoped>\n",
       "    .dataframe tbody tr th:only-of-type {\n",
       "        vertical-align: middle;\n",
       "    }\n",
       "\n",
       "    .dataframe tbody tr th {\n",
       "        vertical-align: top;\n",
       "    }\n",
       "\n",
       "    .dataframe thead th {\n",
       "        text-align: right;\n",
       "    }\n",
       "</style>\n",
       "<table border=\"1\" class=\"dataframe\">\n",
       "  <thead>\n",
       "    <tr style=\"text-align: right;\">\n",
       "      <th></th>\n",
       "      <th>open_BTC</th>\n",
       "      <th>high_BTC</th>\n",
       "      <th>low_BTC</th>\n",
       "      <th>close_BTC</th>\n",
       "      <th>vwap_BTC</th>\n",
       "      <th>volume_BTC</th>\n",
       "      <th>count_BTC</th>\n",
       "      <th>log_high_BTC</th>\n",
       "      <th>log_low_BTC</th>\n",
       "      <th>log_vwap_BTC</th>\n",
       "      <th>...</th>\n",
       "      <th>count_LTC</th>\n",
       "      <th>log_high_LTC</th>\n",
       "      <th>log_low_LTC</th>\n",
       "      <th>log_vwap_LTC</th>\n",
       "      <th>BTC_daily_return</th>\n",
       "      <th>ETH_daily_return</th>\n",
       "      <th>LTC_daily_return</th>\n",
       "      <th>BTC_log_vwap_return</th>\n",
       "      <th>ETH_log_vwap_return</th>\n",
       "      <th>LTC_log_vwap_return</th>\n",
       "    </tr>\n",
       "    <tr>\n",
       "      <th>dtime</th>\n",
       "      <th></th>\n",
       "      <th></th>\n",
       "      <th></th>\n",
       "      <th></th>\n",
       "      <th></th>\n",
       "      <th></th>\n",
       "      <th></th>\n",
       "      <th></th>\n",
       "      <th></th>\n",
       "      <th></th>\n",
       "      <th></th>\n",
       "      <th></th>\n",
       "      <th></th>\n",
       "      <th></th>\n",
       "      <th></th>\n",
       "      <th></th>\n",
       "      <th></th>\n",
       "      <th></th>\n",
       "      <th></th>\n",
       "      <th></th>\n",
       "      <th></th>\n",
       "    </tr>\n",
       "  </thead>\n",
       "  <tbody>\n",
       "    <tr>\n",
       "      <th>2020-05-11</th>\n",
       "      <td>8716.5</td>\n",
       "      <td>9175.0</td>\n",
       "      <td>8190.0</td>\n",
       "      <td>8570.8</td>\n",
       "      <td>8700.5</td>\n",
       "      <td>18291.827689</td>\n",
       "      <td>49333</td>\n",
       "      <td>9.124238</td>\n",
       "      <td>9.010669</td>\n",
       "      <td>9.071136</td>\n",
       "      <td>...</td>\n",
       "      <td>1944</td>\n",
       "      <td>3.759338</td>\n",
       "      <td>3.673258</td>\n",
       "      <td>3.717953</td>\n",
       "      <td>0.001508</td>\n",
       "      <td>-0.021585</td>\n",
       "      <td>-0.020690</td>\n",
       "      <td>0.000166</td>\n",
       "      <td>-0.004161</td>\n",
       "      <td>-0.005592</td>\n",
       "    </tr>\n",
       "    <tr>\n",
       "      <th>2020-05-12</th>\n",
       "      <td>8570.8</td>\n",
       "      <td>8975.0</td>\n",
       "      <td>8531.8</td>\n",
       "      <td>8823.7</td>\n",
       "      <td>8779.9</td>\n",
       "      <td>7354.103412</td>\n",
       "      <td>22313</td>\n",
       "      <td>9.102198</td>\n",
       "      <td>9.051556</td>\n",
       "      <td>9.080220</td>\n",
       "      <td>...</td>\n",
       "      <td>1125</td>\n",
       "      <td>3.757939</td>\n",
       "      <td>3.722072</td>\n",
       "      <td>3.742183</td>\n",
       "      <td>0.009126</td>\n",
       "      <td>0.022601</td>\n",
       "      <td>0.024526</td>\n",
       "      <td>0.001001</td>\n",
       "      <td>0.004279</td>\n",
       "      <td>0.006517</td>\n",
       "    </tr>\n",
       "    <tr>\n",
       "      <th>2020-05-13</th>\n",
       "      <td>8823.7</td>\n",
       "      <td>9411.0</td>\n",
       "      <td>8808.1</td>\n",
       "      <td>9317.1</td>\n",
       "      <td>9117.1</td>\n",
       "      <td>9472.110878</td>\n",
       "      <td>27926</td>\n",
       "      <td>9.149634</td>\n",
       "      <td>9.083427</td>\n",
       "      <td>9.117907</td>\n",
       "      <td>...</td>\n",
       "      <td>892</td>\n",
       "      <td>3.778720</td>\n",
       "      <td>3.739335</td>\n",
       "      <td>3.760269</td>\n",
       "      <td>0.038406</td>\n",
       "      <td>0.034497</td>\n",
       "      <td>0.018251</td>\n",
       "      <td>0.004150</td>\n",
       "      <td>0.006467</td>\n",
       "      <td>0.004833</td>\n",
       "    </tr>\n",
       "    <tr>\n",
       "      <th>2020-05-14</th>\n",
       "      <td>9317.1</td>\n",
       "      <td>9947.0</td>\n",
       "      <td>9256.9</td>\n",
       "      <td>9788.5</td>\n",
       "      <td>9632.3</td>\n",
       "      <td>12966.020534</td>\n",
       "      <td>37987</td>\n",
       "      <td>9.205026</td>\n",
       "      <td>9.133124</td>\n",
       "      <td>9.172877</td>\n",
       "      <td>...</td>\n",
       "      <td>1242</td>\n",
       "      <td>3.792113</td>\n",
       "      <td>3.743368</td>\n",
       "      <td>3.775057</td>\n",
       "      <td>0.056509</td>\n",
       "      <td>0.026463</td>\n",
       "      <td>0.014898</td>\n",
       "      <td>0.006029</td>\n",
       "      <td>0.004948</td>\n",
       "      <td>0.003933</td>\n",
       "    </tr>\n",
       "    <tr>\n",
       "      <th>2020-05-15</th>\n",
       "      <td>9788.5</td>\n",
       "      <td>9847.1</td>\n",
       "      <td>9128.0</td>\n",
       "      <td>9312.1</td>\n",
       "      <td>9476.7</td>\n",
       "      <td>11077.654457</td>\n",
       "      <td>35216</td>\n",
       "      <td>9.194932</td>\n",
       "      <td>9.119102</td>\n",
       "      <td>9.156591</td>\n",
       "      <td>...</td>\n",
       "      <td>991</td>\n",
       "      <td>3.788046</td>\n",
       "      <td>3.734808</td>\n",
       "      <td>3.764219</td>\n",
       "      <td>-0.016154</td>\n",
       "      <td>-0.015648</td>\n",
       "      <td>-0.010780</td>\n",
       "      <td>-0.001775</td>\n",
       "      <td>-0.002973</td>\n",
       "      <td>-0.002871</td>\n",
       "    </tr>\n",
       "  </tbody>\n",
       "</table>\n",
       "<p>5 rows × 36 columns</p>\n",
       "</div>"
      ],
      "text/plain": [
       "            open_BTC  high_BTC  low_BTC  close_BTC  vwap_BTC    volume_BTC  \\\n",
       "dtime                                                                        \n",
       "2020-05-11    8716.5    9175.0   8190.0     8570.8    8700.5  18291.827689   \n",
       "2020-05-12    8570.8    8975.0   8531.8     8823.7    8779.9   7354.103412   \n",
       "2020-05-13    8823.7    9411.0   8808.1     9317.1    9117.1   9472.110878   \n",
       "2020-05-14    9317.1    9947.0   9256.9     9788.5    9632.3  12966.020534   \n",
       "2020-05-15    9788.5    9847.1   9128.0     9312.1    9476.7  11077.654457   \n",
       "\n",
       "            count_BTC  log_high_BTC  log_low_BTC  log_vwap_BTC  ...  \\\n",
       "dtime                                                           ...   \n",
       "2020-05-11      49333      9.124238     9.010669      9.071136  ...   \n",
       "2020-05-12      22313      9.102198     9.051556      9.080220  ...   \n",
       "2020-05-13      27926      9.149634     9.083427      9.117907  ...   \n",
       "2020-05-14      37987      9.205026     9.133124      9.172877  ...   \n",
       "2020-05-15      35216      9.194932     9.119102      9.156591  ...   \n",
       "\n",
       "            count_LTC  log_high_LTC  log_low_LTC  log_vwap_LTC  \\\n",
       "dtime                                                            \n",
       "2020-05-11       1944      3.759338     3.673258      3.717953   \n",
       "2020-05-12       1125      3.757939     3.722072      3.742183   \n",
       "2020-05-13        892      3.778720     3.739335      3.760269   \n",
       "2020-05-14       1242      3.792113     3.743368      3.775057   \n",
       "2020-05-15        991      3.788046     3.734808      3.764219   \n",
       "\n",
       "            BTC_daily_return  ETH_daily_return  LTC_daily_return  \\\n",
       "dtime                                                              \n",
       "2020-05-11          0.001508         -0.021585         -0.020690   \n",
       "2020-05-12          0.009126          0.022601          0.024526   \n",
       "2020-05-13          0.038406          0.034497          0.018251   \n",
       "2020-05-14          0.056509          0.026463          0.014898   \n",
       "2020-05-15         -0.016154         -0.015648         -0.010780   \n",
       "\n",
       "            BTC_log_vwap_return  ETH_log_vwap_return  LTC_log_vwap_return  \n",
       "dtime                                                                      \n",
       "2020-05-11             0.000166            -0.004161            -0.005592  \n",
       "2020-05-12             0.001001             0.004279             0.006517  \n",
       "2020-05-13             0.004150             0.006467             0.004833  \n",
       "2020-05-14             0.006029             0.004948             0.003933  \n",
       "2020-05-15            -0.001775            -0.002973            -0.002871  \n",
       "\n",
       "[5 rows x 36 columns]"
      ]
     },
     "execution_count": 14,
     "metadata": {},
     "output_type": "execute_result"
    }
   ],
   "source": [
    "df_test.head()"
   ]
  },
  {
   "cell_type": "code",
   "execution_count": 15,
   "metadata": {},
   "outputs": [
    {
     "data": {
      "text/plain": [
       "Text(0, 0.5, 'VWAP ($)')"
      ]
     },
     "execution_count": 15,
     "metadata": {},
     "output_type": "execute_result"
    },
    {
     "data": {
      "image/png": "[encoded data removed]",
      "text/plain": [
       "<Figure size 1440x360 with 1 Axes>"
      ]
     },
     "metadata": {
      "needs_background": "light"
     },
     "output_type": "display_data"
    }
   ],
   "source": [
    "df_test.plot(y=['vwap_BTC'], figsize = (20, 5))\n",
    "plt.title('BTC Daily VWAP - Test Set', size = 24)\n",
    "plt.xlabel(\"Time\", size = 16)\n",
    "plt.xticks(rotation = 90)\n",
    "plt.ylabel(\"VWAP ($)\", size = 16)"
   ]
  },
  {
   "cell_type": "code",
   "execution_count": 16,
   "metadata": {},
   "outputs": [
    {
     "data": {
      "text/plain": [
       "Text(0, 0.5, 'VWAP ($)')"
      ]
     },
     "execution_count": 16,
     "metadata": {},
     "output_type": "execute_result"
    },
    {
     "data": {
      "image/png": "[encoded data removed]",
      "text/plain": [
       "<Figure size 1440x360 with 1 Axes>"
      ]
     },
     "metadata": {
      "needs_background": "light"
     },
     "output_type": "display_data"
    }
   ],
   "source": [
    "df.plot(y=['vwap_BTC'], figsize=(20, 5))\n",
    "plt.title(\"BTC Daily VWAP - Training\", size = 24)\n",
    "plt.xlabel(\"Time\", size = 16)\n",
    "plt.ylabel(\"VWAP ($)\", size = 16)"
   ]
  },
  {
   "cell_type": "markdown",
   "metadata": {},
   "source": [
    "---"
   ]
  },
  {
   "cell_type": "markdown",
   "metadata": {},
   "source": [
    "## Time-Series tests before modeling"
   ]
  },
  {
   "cell_type": "code",
   "execution_count": 32,
   "metadata": {},
   "outputs": [],
   "source": [
    "import statsmodels.graphics.tsaplots as sgt \n",
    "import statsmodels.tsa.stattools as sts \n",
    "from statsmodels.tsa.seasonal import seasonal_decompose\n",
    "import seaborn as sns\n",
    "import warnings\n",
    "sns.set()"
   ]
  },
  {
   "cell_type": "code",
   "execution_count": 34,
   "metadata": {},
   "outputs": [],
   "source": [
    "warnings.filterwarnings('ignore')"
   ]
  },
  {
   "cell_type": "markdown",
   "metadata": {},
   "source": [
    "Test different Bitcoin series and returns for stationarity."
   ]
  },
  {
   "cell_type": "code",
   "execution_count": 18,
   "metadata": {},
   "outputs": [
    {
     "data": {
      "text/plain": [
       "(-1.585490557344349,\n",
       " 0.4908778753587304,\n",
       " 3,\n",
       " 572,\n",
       " {'1%': -3.441834071558759,\n",
       "  '5%': -2.8666061267054626,\n",
       "  '10%': -2.569468095872659},\n",
       " 7712.914887742388)"
      ]
     },
     "execution_count": 18,
     "metadata": {},
     "output_type": "execute_result"
    }
   ],
   "source": [
    "sts.adfuller(df['vwap_BTC'])"
   ]
  },
  {
   "cell_type": "code",
   "execution_count": 19,
   "metadata": {},
   "outputs": [
    {
     "data": {
      "text/plain": [
       "(-1.3599561670655649,\n",
       " 0.6013160657572709,\n",
       " 3,\n",
       " 572,\n",
       " {'1%': -3.441834071558759,\n",
       "  '5%': -2.8666061267054626,\n",
       "  '10%': -2.569468095872659},\n",
       " -2241.0753377132223)"
      ]
     },
     "execution_count": 19,
     "metadata": {},
     "output_type": "execute_result"
    }
   ],
   "source": [
    "sts.adfuller(df['log_vwap_BTC'])"
   ]
  },
  {
   "cell_type": "markdown",
   "metadata": {},
   "source": [
    "Bitcoin high and log_high prices are non-stationary. We'll need an integrated model if we're going to forecast the price"
   ]
  },
  {
   "cell_type": "markdown",
   "metadata": {},
   "source": [
    "### ETH tests for stationarity."
   ]
  },
  {
   "cell_type": "code",
   "execution_count": 20,
   "metadata": {},
   "outputs": [
    {
     "data": {
      "text/plain": [
       "(-2.9917337663384416,\n",
       " 0.03567360686719971,\n",
       " 13,\n",
       " 562,\n",
       " {'1%': -3.442039359113542,\n",
       "  '5%': -2.8666965134862514,\n",
       "  '10%': -2.5695162601790758},\n",
       " 3770.7904483001266)"
      ]
     },
     "execution_count": 20,
     "metadata": {},
     "output_type": "execute_result"
    }
   ],
   "source": [
    "sts.adfuller(df['vwap_ETH'])"
   ]
  },
  {
   "cell_type": "markdown",
   "metadata": {},
   "source": [
    "We can reject the null hypothesis at 5% significance, thus time series is stationary."
   ]
  },
  {
   "cell_type": "code",
   "execution_count": 21,
   "metadata": {},
   "outputs": [
    {
     "data": {
      "text/plain": [
       "(-2.379055192845863,\n",
       " 0.14773539175406836,\n",
       " 8,\n",
       " 567,\n",
       " {'1%': -3.441935806025943,\n",
       "  '5%': -2.8666509204896093,\n",
       "  '10%': -2.5694919649816947},\n",
       " -2014.398768513995)"
      ]
     },
     "execution_count": 21,
     "metadata": {},
     "output_type": "execute_result"
    }
   ],
   "source": [
    "sts.adfuller(df['log_vwap_ETH'])"
   ]
  },
  {
   "cell_type": "markdown",
   "metadata": {},
   "source": [
    "Fail to reject null hypothesis on log_vwap_ETH at 5%.\n",
    "\n",
    "If test statistic is < critical value, we can reject H0 at that level of significance.\n",
    "\n",
    "https://machinelearningmastery.com/time-series-data-stationary-python/"
   ]
  },
  {
   "cell_type": "markdown",
   "metadata": {},
   "source": [
    "## LTC tests for stationarity"
   ]
  },
  {
   "cell_type": "code",
   "execution_count": 22,
   "metadata": {},
   "outputs": [
    {
     "data": {
      "text/plain": [
       "(-1.765666224335389,\n",
       " 0.39763569586445713,\n",
       " 13,\n",
       " 562,\n",
       " {'1%': -3.442039359113542,\n",
       "  '5%': -2.8666965134862514,\n",
       "  '10%': -2.5695162601790758},\n",
       " 2710.653147218805)"
      ]
     },
     "execution_count": 22,
     "metadata": {},
     "output_type": "execute_result"
    }
   ],
   "source": [
    "sts.adfuller(df['vwap_LTC'])"
   ]
  },
  {
   "cell_type": "markdown",
   "metadata": {},
   "source": [
    "Fail to reject H0"
   ]
  },
  {
   "cell_type": "code",
   "execution_count": 23,
   "metadata": {},
   "outputs": [
    {
     "data": {
      "text/plain": [
       "(-1.6651487349653655,\n",
       " 0.44915238914777933,\n",
       " 4,\n",
       " 571,\n",
       " {'1%': -3.4418542752662518,\n",
       "  '5%': -2.8666150225357914,\n",
       "  '10%': -2.569472836146374},\n",
       " -1923.2085801483731)"
      ]
     },
     "execution_count": 23,
     "metadata": {},
     "output_type": "execute_result"
    }
   ],
   "source": [
    "sts.adfuller(df['log_vwap_LTC'])"
   ]
  },
  {
   "cell_type": "markdown",
   "metadata": {},
   "source": [
    "Fail to reject H0"
   ]
  },
  {
   "cell_type": "markdown",
   "metadata": {},
   "source": [
    "### Checking Returns for Stationarity"
   ]
  },
  {
   "cell_type": "markdown",
   "metadata": {},
   "source": [
    "#### BTC daily and log daily returns"
   ]
  },
  {
   "cell_type": "code",
   "execution_count": 24,
   "metadata": {},
   "outputs": [
    {
     "data": {
      "text/plain": [
       "(-13.511750068810803,\n",
       " 2.844436744300932e-25,\n",
       " 2,\n",
       " 716,\n",
       " {'1%': -3.439516060164992,\n",
       "  '5%': -2.8655850998755263,\n",
       "  '10%': -2.5689240826597173},\n",
       " -2929.3539175892597)"
      ]
     },
     "execution_count": 24,
     "metadata": {},
     "output_type": "execute_result"
    }
   ],
   "source": [
    "sts.adfuller(df_copy['BTC_daily_return'][1:])"
   ]
  },
  {
   "cell_type": "code",
   "execution_count": 25,
   "metadata": {},
   "outputs": [
    {
     "data": {
      "text/plain": [
       "(-13.380732145056772,\n",
       " 4.98396244316169e-25,\n",
       " 2,\n",
       " 716,\n",
       " {'1%': -3.439516060164992,\n",
       "  '5%': -2.8655850998755263,\n",
       "  '10%': -2.5689240826597173},\n",
       " -5965.050310489711)"
      ]
     },
     "execution_count": 25,
     "metadata": {},
     "output_type": "execute_result"
    }
   ],
   "source": [
    "sts.adfuller(df_copy['BTC_log_vwap_return'][1:])"
   ]
  },
  {
   "cell_type": "markdown",
   "metadata": {},
   "source": [
    "Both tests returned p-values below 0.05 indicating the BTC daily and log daily returns are stationary and white noise."
   ]
  },
  {
   "cell_type": "markdown",
   "metadata": {},
   "source": [
    "#### ETH daily and log daily returns"
   ]
  },
  {
   "cell_type": "code",
   "execution_count": 26,
   "metadata": {},
   "outputs": [
    {
     "data": {
      "text/plain": [
       "(-9.598714100281528,\n",
       " 1.9465696497588713e-16,\n",
       " 7,\n",
       " 711,\n",
       " {'1%': -3.439580754053961,\n",
       "  '5%': -2.865613606467485,\n",
       "  '10%': -2.568939269723711},\n",
       " -2617.6761747553205)"
      ]
     },
     "execution_count": 26,
     "metadata": {},
     "output_type": "execute_result"
    }
   ],
   "source": [
    "sts.adfuller(df_copy['ETH_daily_return'][1:])"
   ]
  },
  {
   "cell_type": "code",
   "execution_count": 27,
   "metadata": {},
   "outputs": [
    {
     "data": {
      "text/plain": [
       "(-9.58961444037714,\n",
       " 2.0527647509343458e-16,\n",
       " 7,\n",
       " 711,\n",
       " {'1%': -3.439580754053961,\n",
       "  '5%': -2.865613606467485,\n",
       "  '10%': -2.568939269723711},\n",
       " -4895.172198867682)"
      ]
     },
     "execution_count": 27,
     "metadata": {},
     "output_type": "execute_result"
    }
   ],
   "source": [
    "sts.adfuller(df_copy['ETH_log_vwap_return'][1:])"
   ]
  },
  {
   "cell_type": "markdown",
   "metadata": {},
   "source": [
    "Both are stationary."
   ]
  },
  {
   "cell_type": "markdown",
   "metadata": {},
   "source": [
    "#### LTC daily and log daily returns"
   ]
  },
  {
   "cell_type": "code",
   "execution_count": 28,
   "metadata": {},
   "outputs": [
    {
     "data": {
      "text/plain": [
       "(-13.841400750331408,\n",
       " 7.281260914912836e-26,\n",
       " 2,\n",
       " 716,\n",
       " {'1%': -3.439516060164992,\n",
       "  '5%': -2.8655850998755263,\n",
       "  '10%': -2.5689240826597173},\n",
       " -2520.8626415942304)"
      ]
     },
     "execution_count": 28,
     "metadata": {},
     "output_type": "execute_result"
    }
   ],
   "source": [
    "sts.adfuller(df_copy['LTC_daily_return'][1:])"
   ]
  },
  {
   "cell_type": "code",
   "execution_count": 29,
   "metadata": {},
   "outputs": [
    {
     "data": {
      "text/plain": [
       "(-11.37661053635313,\n",
       " 8.714318853911398e-21,\n",
       " 4,\n",
       " 714,\n",
       " {'1%': -3.4395418285955563,\n",
       "  '5%': -2.865596454500293,\n",
       "  '10%': -2.5689301318958955},\n",
       " -4429.785845688006)"
      ]
     },
     "execution_count": 29,
     "metadata": {},
     "output_type": "execute_result"
    }
   ],
   "source": [
    "sts.adfuller(df_copy['LTC_log_vwap_return'][1:])"
   ]
  },
  {
   "cell_type": "markdown",
   "metadata": {},
   "source": [
    "Both are statistically significant at all levels indiciating stationarity."
   ]
  },
  {
   "cell_type": "markdown",
   "metadata": {},
   "source": [
    "---"
   ]
  },
  {
   "cell_type": "markdown",
   "metadata": {},
   "source": [
    "## Auto Arima models for prices, daily returns."
   ]
  },
  {
   "cell_type": "code",
   "execution_count": 30,
   "metadata": {},
   "outputs": [],
   "source": [
    "from pmdarima.arima import auto_arima"
   ]
  },
  {
   "cell_type": "markdown",
   "metadata": {},
   "source": [
    "### BTC"
   ]
  },
  {
   "cell_type": "code",
   "execution_count": 31,
   "metadata": {},
   "outputs": [],
   "source": [
    "model_BTC = auto_arima(df_copy['vwap_BTC'])"
   ]
  },
  {
   "cell_type": "code",
   "execution_count": 35,
   "metadata": {},
   "outputs": [
    {
     "data": {
      "text/html": [
       "<table class=\"simpletable\">\n",
       "<caption>SARIMAX Results</caption>\n",
       "<tr>\n",
       "  <th>Dep. Variable:</th>           <td>y</td>        <th>  No. Observations:  </th>    <td>720</td>   \n",
       "</tr>\n",
       "<tr>\n",
       "  <th>Model:</th>           <td>SARIMAX(0, 1, 2)</td> <th>  Log Likelihood     </th> <td>-4939.256</td>\n",
       "</tr>\n",
       "<tr>\n",
       "  <th>Date:</th>            <td>Sun, 11 Oct 2020</td> <th>  AIC                </th> <td>9884.512</td> \n",
       "</tr>\n",
       "<tr>\n",
       "  <th>Time:</th>                <td>20:51:32</td>     <th>  BIC                </th> <td>9898.245</td> \n",
       "</tr>\n",
       "<tr>\n",
       "  <th>Sample:</th>                  <td>0</td>        <th>  HQIC               </th> <td>9889.814</td> \n",
       "</tr>\n",
       "<tr>\n",
       "  <th></th>                      <td> - 720</td>      <th>                     </th>     <td> </td>    \n",
       "</tr>\n",
       "<tr>\n",
       "  <th>Covariance Type:</th>        <td>opg</td>       <th>                     </th>     <td> </td>    \n",
       "</tr>\n",
       "</table>\n",
       "<table class=\"simpletable\">\n",
       "<tr>\n",
       "     <td></td>       <th>coef</th>     <th>std err</th>      <th>z</th>      <th>P>|z|</th>  <th>[0.025</th>    <th>0.975]</th>  \n",
       "</tr>\n",
       "<tr>\n",
       "  <th>ma.L1</th>  <td>    0.3113</td> <td>    0.020</td> <td>   15.234</td> <td> 0.000</td> <td>    0.271</td> <td>    0.351</td>\n",
       "</tr>\n",
       "<tr>\n",
       "  <th>ma.L2</th>  <td>   -0.0743</td> <td>    0.026</td> <td>   -2.822</td> <td> 0.005</td> <td>   -0.126</td> <td>   -0.023</td>\n",
       "</tr>\n",
       "<tr>\n",
       "  <th>sigma2</th> <td> 5.475e+04</td> <td> 1337.650</td> <td>   40.932</td> <td> 0.000</td> <td> 5.21e+04</td> <td> 5.74e+04</td>\n",
       "</tr>\n",
       "</table>\n",
       "<table class=\"simpletable\">\n",
       "<tr>\n",
       "  <th>Ljung-Box (Q):</th>          <td>32.60</td> <th>  Jarque-Bera (JB):  </th> <td>1894.85</td>\n",
       "</tr>\n",
       "<tr>\n",
       "  <th>Prob(Q):</th>                <td>0.79</td>  <th>  Prob(JB):          </th>  <td>0.00</td>  \n",
       "</tr>\n",
       "<tr>\n",
       "  <th>Heteroskedasticity (H):</th> <td>2.55</td>  <th>  Skew:              </th>  <td>-0.44</td> \n",
       "</tr>\n",
       "<tr>\n",
       "  <th>Prob(H) (two-sided):</th>    <td>0.00</td>  <th>  Kurtosis:          </th>  <td>10.90</td> \n",
       "</tr>\n",
       "</table><br/><br/>Warnings:<br/>[1] Covariance matrix calculated using the outer product of gradients (complex-step)."
      ],
      "text/plain": [
       "<class 'statsmodels.iolib.summary.Summary'>\n",
       "\"\"\"\n",
       "                               SARIMAX Results                                \n",
       "==============================================================================\n",
       "Dep. Variable:                      y   No. Observations:                  720\n",
       "Model:               SARIMAX(0, 1, 2)   Log Likelihood               -4939.256\n",
       "Date:                Sun, 11 Oct 2020   AIC                           9884.512\n",
       "Time:                        20:51:32   BIC                           9898.245\n",
       "Sample:                             0   HQIC                          9889.814\n",
       "                                - 720                                         \n",
       "Covariance Type:                  opg                                         \n",
       "==============================================================================\n",
       "                 coef    std err          z      P>|z|      [0.025      0.975]\n",
       "------------------------------------------------------------------------------\n",
       "ma.L1          0.3113      0.020     15.234      0.000       0.271       0.351\n",
       "ma.L2         -0.0743      0.026     -2.822      0.005      -0.126      -0.023\n",
       "sigma2      5.475e+04   1337.650     40.932      0.000    5.21e+04    5.74e+04\n",
       "===================================================================================\n",
       "Ljung-Box (Q):                       32.60   Jarque-Bera (JB):              1894.85\n",
       "Prob(Q):                              0.79   Prob(JB):                         0.00\n",
       "Heteroskedasticity (H):               2.55   Skew:                            -0.44\n",
       "Prob(H) (two-sided):                  0.00   Kurtosis:                        10.90\n",
       "===================================================================================\n",
       "\n",
       "Warnings:\n",
       "[1] Covariance matrix calculated using the outer product of gradients (complex-step).\n",
       "\"\"\""
      ]
     },
     "execution_count": 35,
     "metadata": {},
     "output_type": "execute_result"
    }
   ],
   "source": [
    "model_BTC.summary()"
   ]
  },
  {
   "cell_type": "markdown",
   "metadata": {},
   "source": [
    "SARIMAX Model with (0, 1, 2) is actually ARIMA(0, 1, 2) since no seasonal pattern or exogenous variables."
   ]
  },
  {
   "cell_type": "code",
   "execution_count": 36,
   "metadata": {},
   "outputs": [],
   "source": [
    "model_BTC_daily_returns = auto_arima(df_copy['BTC_daily_return'][1:])"
   ]
  },
  {
   "cell_type": "code",
   "execution_count": 37,
   "metadata": {},
   "outputs": [
    {
     "data": {
      "text/html": [
       "<table class=\"simpletable\">\n",
       "<caption>SARIMAX Results</caption>\n",
       "<tr>\n",
       "  <th>Dep. Variable:</th>           <td>y</td>        <th>  No. Observations:  </th>    <td>719</td>   \n",
       "</tr>\n",
       "<tr>\n",
       "  <th>Model:</th>           <td>SARIMAX(1, 0, 1)</td> <th>  Log Likelihood     </th> <td>1521.361</td> \n",
       "</tr>\n",
       "<tr>\n",
       "  <th>Date:</th>            <td>Sun, 11 Oct 2020</td> <th>  AIC                </th> <td>-3036.722</td>\n",
       "</tr>\n",
       "<tr>\n",
       "  <th>Time:</th>                <td>20:51:44</td>     <th>  BIC                </th> <td>-3022.988</td>\n",
       "</tr>\n",
       "<tr>\n",
       "  <th>Sample:</th>                  <td>0</td>        <th>  HQIC               </th> <td>-3031.419</td>\n",
       "</tr>\n",
       "<tr>\n",
       "  <th></th>                      <td> - 719</td>      <th>                     </th>     <td> </td>    \n",
       "</tr>\n",
       "<tr>\n",
       "  <th>Covariance Type:</th>        <td>opg</td>       <th>                     </th>     <td> </td>    \n",
       "</tr>\n",
       "</table>\n",
       "<table class=\"simpletable\">\n",
       "<tr>\n",
       "     <td></td>       <th>coef</th>     <th>std err</th>      <th>z</th>      <th>P>|z|</th>  <th>[0.025</th>    <th>0.975]</th>  \n",
       "</tr>\n",
       "<tr>\n",
       "  <th>ar.L1</th>  <td>   -0.2106</td> <td>    0.069</td> <td>   -3.069</td> <td> 0.002</td> <td>   -0.345</td> <td>   -0.076</td>\n",
       "</tr>\n",
       "<tr>\n",
       "  <th>ma.L1</th>  <td>    0.5459</td> <td>    0.062</td> <td>    8.776</td> <td> 0.000</td> <td>    0.424</td> <td>    0.668</td>\n",
       "</tr>\n",
       "<tr>\n",
       "  <th>sigma2</th> <td>    0.0009</td> <td> 2.17e-05</td> <td>   39.195</td> <td> 0.000</td> <td>    0.001</td> <td>    0.001</td>\n",
       "</tr>\n",
       "</table>\n",
       "<table class=\"simpletable\">\n",
       "<tr>\n",
       "  <th>Ljung-Box (Q):</th>          <td>29.57</td> <th>  Jarque-Bera (JB):  </th> <td>1358.05</td>\n",
       "</tr>\n",
       "<tr>\n",
       "  <th>Prob(Q):</th>                <td>0.89</td>  <th>  Prob(JB):          </th>  <td>0.00</td>  \n",
       "</tr>\n",
       "<tr>\n",
       "  <th>Heteroskedasticity (H):</th> <td>1.16</td>  <th>  Skew:              </th>  <td>-0.09</td> \n",
       "</tr>\n",
       "<tr>\n",
       "  <th>Prob(H) (two-sided):</th>    <td>0.25</td>  <th>  Kurtosis:          </th>  <td>9.73</td>  \n",
       "</tr>\n",
       "</table><br/><br/>Warnings:<br/>[1] Covariance matrix calculated using the outer product of gradients (complex-step)."
      ],
      "text/plain": [
       "<class 'statsmodels.iolib.summary.Summary'>\n",
       "\"\"\"\n",
       "                               SARIMAX Results                                \n",
       "==============================================================================\n",
       "Dep. Variable:                      y   No. Observations:                  719\n",
       "Model:               SARIMAX(1, 0, 1)   Log Likelihood                1521.361\n",
       "Date:                Sun, 11 Oct 2020   AIC                          -3036.722\n",
       "Time:                        20:51:44   BIC                          -3022.988\n",
       "Sample:                             0   HQIC                         -3031.419\n",
       "                                - 719                                         \n",
       "Covariance Type:                  opg                                         \n",
       "==============================================================================\n",
       "                 coef    std err          z      P>|z|      [0.025      0.975]\n",
       "------------------------------------------------------------------------------\n",
       "ar.L1         -0.2106      0.069     -3.069      0.002      -0.345      -0.076\n",
       "ma.L1          0.5459      0.062      8.776      0.000       0.424       0.668\n",
       "sigma2         0.0009   2.17e-05     39.195      0.000       0.001       0.001\n",
       "===================================================================================\n",
       "Ljung-Box (Q):                       29.57   Jarque-Bera (JB):              1358.05\n",
       "Prob(Q):                              0.89   Prob(JB):                         0.00\n",
       "Heteroskedasticity (H):               1.16   Skew:                            -0.09\n",
       "Prob(H) (two-sided):                  0.25   Kurtosis:                         9.73\n",
       "===================================================================================\n",
       "\n",
       "Warnings:\n",
       "[1] Covariance matrix calculated using the outer product of gradients (complex-step).\n",
       "\"\"\""
      ]
     },
     "execution_count": 37,
     "metadata": {},
     "output_type": "execute_result"
    }
   ],
   "source": [
    "model_BTC_daily_returns.summary()"
   ]
  },
  {
   "cell_type": "markdown",
   "metadata": {},
   "source": [
    "Returns a simple ARMA(1, 1) model"
   ]
  },
  {
   "cell_type": "markdown",
   "metadata": {},
   "source": [
    "### ETH modeling"
   ]
  },
  {
   "cell_type": "code",
   "execution_count": 38,
   "metadata": {},
   "outputs": [],
   "source": [
    "model_ETH = auto_arima(df_copy['vwap_ETH'])"
   ]
  },
  {
   "cell_type": "code",
   "execution_count": 39,
   "metadata": {},
   "outputs": [
    {
     "data": {
      "text/html": [
       "<table class=\"simpletable\">\n",
       "<caption>SARIMAX Results</caption>\n",
       "<tr>\n",
       "  <th>Dep. Variable:</th>           <td>y</td>        <th>  No. Observations:  </th>    <td>720</td>   \n",
       "</tr>\n",
       "<tr>\n",
       "  <th>Model:</th>           <td>SARIMAX(0, 1, 3)</td> <th>  Log Likelihood     </th> <td>-2479.665</td>\n",
       "</tr>\n",
       "<tr>\n",
       "  <th>Date:</th>            <td>Sun, 11 Oct 2020</td> <th>  AIC                </th> <td>4967.329</td> \n",
       "</tr>\n",
       "<tr>\n",
       "  <th>Time:</th>                <td>20:51:52</td>     <th>  BIC                </th> <td>4985.641</td> \n",
       "</tr>\n",
       "<tr>\n",
       "  <th>Sample:</th>                  <td>0</td>        <th>  HQIC               </th> <td>4974.399</td> \n",
       "</tr>\n",
       "<tr>\n",
       "  <th></th>                      <td> - 720</td>      <th>                     </th>     <td> </td>    \n",
       "</tr>\n",
       "<tr>\n",
       "  <th>Covariance Type:</th>        <td>opg</td>       <th>                     </th>     <td> </td>    \n",
       "</tr>\n",
       "</table>\n",
       "<table class=\"simpletable\">\n",
       "<tr>\n",
       "     <td></td>       <th>coef</th>     <th>std err</th>      <th>z</th>      <th>P>|z|</th>  <th>[0.025</th>    <th>0.975]</th>  \n",
       "</tr>\n",
       "<tr>\n",
       "  <th>ma.L1</th>  <td>    0.3338</td> <td>    0.023</td> <td>   14.555</td> <td> 0.000</td> <td>    0.289</td> <td>    0.379</td>\n",
       "</tr>\n",
       "<tr>\n",
       "  <th>ma.L2</th>  <td>   -0.0224</td> <td>    0.026</td> <td>   -0.860</td> <td> 0.390</td> <td>   -0.073</td> <td>    0.029</td>\n",
       "</tr>\n",
       "<tr>\n",
       "  <th>ma.L3</th>  <td>    0.0702</td> <td>    0.026</td> <td>    2.665</td> <td> 0.008</td> <td>    0.019</td> <td>    0.122</td>\n",
       "</tr>\n",
       "<tr>\n",
       "  <th>sigma2</th> <td>   57.9422</td> <td>    1.643</td> <td>   35.256</td> <td> 0.000</td> <td>   54.721</td> <td>   61.163</td>\n",
       "</tr>\n",
       "</table>\n",
       "<table class=\"simpletable\">\n",
       "<tr>\n",
       "  <th>Ljung-Box (Q):</th>          <td>54.62</td> <th>  Jarque-Bera (JB):  </th> <td>845.42</td>\n",
       "</tr>\n",
       "<tr>\n",
       "  <th>Prob(Q):</th>                <td>0.06</td>  <th>  Prob(JB):          </th>  <td>0.00</td> \n",
       "</tr>\n",
       "<tr>\n",
       "  <th>Heteroskedasticity (H):</th> <td>2.12</td>  <th>  Skew:              </th>  <td>-0.67</td>\n",
       "</tr>\n",
       "<tr>\n",
       "  <th>Prob(H) (two-sided):</th>    <td>0.00</td>  <th>  Kurtosis:          </th>  <td>8.14</td> \n",
       "</tr>\n",
       "</table><br/><br/>Warnings:<br/>[1] Covariance matrix calculated using the outer product of gradients (complex-step)."
      ],
      "text/plain": [
       "<class 'statsmodels.iolib.summary.Summary'>\n",
       "\"\"\"\n",
       "                               SARIMAX Results                                \n",
       "==============================================================================\n",
       "Dep. Variable:                      y   No. Observations:                  720\n",
       "Model:               SARIMAX(0, 1, 3)   Log Likelihood               -2479.665\n",
       "Date:                Sun, 11 Oct 2020   AIC                           4967.329\n",
       "Time:                        20:51:52   BIC                           4985.641\n",
       "Sample:                             0   HQIC                          4974.399\n",
       "                                - 720                                         \n",
       "Covariance Type:                  opg                                         \n",
       "==============================================================================\n",
       "                 coef    std err          z      P>|z|      [0.025      0.975]\n",
       "------------------------------------------------------------------------------\n",
       "ma.L1          0.3338      0.023     14.555      0.000       0.289       0.379\n",
       "ma.L2         -0.0224      0.026     -0.860      0.390      -0.073       0.029\n",
       "ma.L3          0.0702      0.026      2.665      0.008       0.019       0.122\n",
       "sigma2        57.9422      1.643     35.256      0.000      54.721      61.163\n",
       "===================================================================================\n",
       "Ljung-Box (Q):                       54.62   Jarque-Bera (JB):               845.42\n",
       "Prob(Q):                              0.06   Prob(JB):                         0.00\n",
       "Heteroskedasticity (H):               2.12   Skew:                            -0.67\n",
       "Prob(H) (two-sided):                  0.00   Kurtosis:                         8.14\n",
       "===================================================================================\n",
       "\n",
       "Warnings:\n",
       "[1] Covariance matrix calculated using the outer product of gradients (complex-step).\n",
       "\"\"\""
      ]
     },
     "execution_count": 39,
     "metadata": {},
     "output_type": "execute_result"
    }
   ],
   "source": [
    "model_ETH.summary()"
   ]
  },
  {
   "cell_type": "markdown",
   "metadata": {},
   "source": [
    "Looks like ARIMA(0, 1, 3) model."
   ]
  },
  {
   "cell_type": "code",
   "execution_count": 40,
   "metadata": {},
   "outputs": [],
   "source": [
    "model_ETH_ret = auto_arima(df_copy['ETH_daily_return'][1:])"
   ]
  },
  {
   "cell_type": "code",
   "execution_count": 41,
   "metadata": {},
   "outputs": [
    {
     "data": {
      "text/html": [
       "<table class=\"simpletable\">\n",
       "<caption>SARIMAX Results</caption>\n",
       "<tr>\n",
       "  <th>Dep. Variable:</th>           <td>y</td>        <th>  No. Observations:  </th>    <td>719</td>   \n",
       "</tr>\n",
       "<tr>\n",
       "  <th>Model:</th>           <td>SARIMAX(2, 0, 3)</td> <th>  Log Likelihood     </th> <td>1363.942</td> \n",
       "</tr>\n",
       "<tr>\n",
       "  <th>Date:</th>            <td>Sun, 11 Oct 2020</td> <th>  AIC                </th> <td>-2715.883</td>\n",
       "</tr>\n",
       "<tr>\n",
       "  <th>Time:</th>                <td>20:54:35</td>     <th>  BIC                </th> <td>-2688.416</td>\n",
       "</tr>\n",
       "<tr>\n",
       "  <th>Sample:</th>                  <td>0</td>        <th>  HQIC               </th> <td>-2705.279</td>\n",
       "</tr>\n",
       "<tr>\n",
       "  <th></th>                      <td> - 719</td>      <th>                     </th>     <td> </td>    \n",
       "</tr>\n",
       "<tr>\n",
       "  <th>Covariance Type:</th>        <td>opg</td>       <th>                     </th>     <td> </td>    \n",
       "</tr>\n",
       "</table>\n",
       "<table class=\"simpletable\">\n",
       "<tr>\n",
       "     <td></td>       <th>coef</th>     <th>std err</th>      <th>z</th>      <th>P>|z|</th>  <th>[0.025</th>    <th>0.975]</th>  \n",
       "</tr>\n",
       "<tr>\n",
       "  <th>ar.L1</th>  <td>    0.9213</td> <td>    0.117</td> <td>    7.884</td> <td> 0.000</td> <td>    0.692</td> <td>    1.150</td>\n",
       "</tr>\n",
       "<tr>\n",
       "  <th>ar.L2</th>  <td>   -0.6790</td> <td>    0.122</td> <td>   -5.565</td> <td> 0.000</td> <td>   -0.918</td> <td>   -0.440</td>\n",
       "</tr>\n",
       "<tr>\n",
       "  <th>ma.L1</th>  <td>   -0.6231</td> <td>    0.113</td> <td>   -5.503</td> <td> 0.000</td> <td>   -0.845</td> <td>   -0.401</td>\n",
       "</tr>\n",
       "<tr>\n",
       "  <th>ma.L2</th>  <td>    0.3366</td> <td>    0.110</td> <td>    3.062</td> <td> 0.002</td> <td>    0.121</td> <td>    0.552</td>\n",
       "</tr>\n",
       "<tr>\n",
       "  <th>ma.L3</th>  <td>    0.3247</td> <td>    0.039</td> <td>    8.318</td> <td> 0.000</td> <td>    0.248</td> <td>    0.401</td>\n",
       "</tr>\n",
       "<tr>\n",
       "  <th>sigma2</th> <td>    0.0013</td> <td> 4.29e-05</td> <td>   30.888</td> <td> 0.000</td> <td>    0.001</td> <td>    0.001</td>\n",
       "</tr>\n",
       "</table>\n",
       "<table class=\"simpletable\">\n",
       "<tr>\n",
       "  <th>Ljung-Box (Q):</th>          <td>42.34</td> <th>  Jarque-Bera (JB):  </th> <td>549.43</td>\n",
       "</tr>\n",
       "<tr>\n",
       "  <th>Prob(Q):</th>                <td>0.37</td>  <th>  Prob(JB):          </th>  <td>0.00</td> \n",
       "</tr>\n",
       "<tr>\n",
       "  <th>Heteroskedasticity (H):</th> <td>0.95</td>  <th>  Skew:              </th>  <td>-0.35</td>\n",
       "</tr>\n",
       "<tr>\n",
       "  <th>Prob(H) (two-sided):</th>    <td>0.67</td>  <th>  Kurtosis:          </th>  <td>7.22</td> \n",
       "</tr>\n",
       "</table><br/><br/>Warnings:<br/>[1] Covariance matrix calculated using the outer product of gradients (complex-step)."
      ],
      "text/plain": [
       "<class 'statsmodels.iolib.summary.Summary'>\n",
       "\"\"\"\n",
       "                               SARIMAX Results                                \n",
       "==============================================================================\n",
       "Dep. Variable:                      y   No. Observations:                  719\n",
       "Model:               SARIMAX(2, 0, 3)   Log Likelihood                1363.942\n",
       "Date:                Sun, 11 Oct 2020   AIC                          -2715.883\n",
       "Time:                        20:54:35   BIC                          -2688.416\n",
       "Sample:                             0   HQIC                         -2705.279\n",
       "                                - 719                                         \n",
       "Covariance Type:                  opg                                         \n",
       "==============================================================================\n",
       "                 coef    std err          z      P>|z|      [0.025      0.975]\n",
       "------------------------------------------------------------------------------\n",
       "ar.L1          0.9213      0.117      7.884      0.000       0.692       1.150\n",
       "ar.L2         -0.6790      0.122     -5.565      0.000      -0.918      -0.440\n",
       "ma.L1         -0.6231      0.113     -5.503      0.000      -0.845      -0.401\n",
       "ma.L2          0.3366      0.110      3.062      0.002       0.121       0.552\n",
       "ma.L3          0.3247      0.039      8.318      0.000       0.248       0.401\n",
       "sigma2         0.0013   4.29e-05     30.888      0.000       0.001       0.001\n",
       "===================================================================================\n",
       "Ljung-Box (Q):                       42.34   Jarque-Bera (JB):               549.43\n",
       "Prob(Q):                              0.37   Prob(JB):                         0.00\n",
       "Heteroskedasticity (H):               0.95   Skew:                            -0.35\n",
       "Prob(H) (two-sided):                  0.67   Kurtosis:                         7.22\n",
       "===================================================================================\n",
       "\n",
       "Warnings:\n",
       "[1] Covariance matrix calculated using the outer product of gradients (complex-step).\n",
       "\"\"\""
      ]
     },
     "execution_count": 41,
     "metadata": {},
     "output_type": "execute_result"
    }
   ],
   "source": [
    "model_ETH_ret.summary()"
   ]
  },
  {
   "cell_type": "markdown",
   "metadata": {},
   "source": [
    "Threw out some weird warnings about non-stationary time series and model not converging.\n",
    "\n",
    "Ended with ARMA(2, 3) model."
   ]
  },
  {
   "cell_type": "markdown",
   "metadata": {},
   "source": [
    "### LTC Models"
   ]
  },
  {
   "cell_type": "code",
   "execution_count": 42,
   "metadata": {},
   "outputs": [],
   "source": [
    "model_LTC = auto_arima(df_copy['vwap_LTC'])"
   ]
  },
  {
   "cell_type": "code",
   "execution_count": 43,
   "metadata": {},
   "outputs": [
    {
     "data": {
      "text/html": [
       "<table class=\"simpletable\">\n",
       "<caption>SARIMAX Results</caption>\n",
       "<tr>\n",
       "  <th>Dep. Variable:</th>           <td>y</td>        <th>  No. Observations:  </th>    <td>720</td>   \n",
       "</tr>\n",
       "<tr>\n",
       "  <th>Model:</th>           <td>SARIMAX(4, 1, 2)</td> <th>  Log Likelihood     </th> <td>-1674.338</td>\n",
       "</tr>\n",
       "<tr>\n",
       "  <th>Date:</th>            <td>Sun, 11 Oct 2020</td> <th>  AIC                </th> <td>3362.676</td> \n",
       "</tr>\n",
       "<tr>\n",
       "  <th>Time:</th>                <td>20:55:38</td>     <th>  BIC                </th> <td>3394.721</td> \n",
       "</tr>\n",
       "<tr>\n",
       "  <th>Sample:</th>                  <td>0</td>        <th>  HQIC               </th> <td>3375.048</td> \n",
       "</tr>\n",
       "<tr>\n",
       "  <th></th>                      <td> - 720</td>      <th>                     </th>     <td> </td>    \n",
       "</tr>\n",
       "<tr>\n",
       "  <th>Covariance Type:</th>        <td>opg</td>       <th>                     </th>     <td> </td>    \n",
       "</tr>\n",
       "</table>\n",
       "<table class=\"simpletable\">\n",
       "<tr>\n",
       "     <td></td>       <th>coef</th>     <th>std err</th>      <th>z</th>      <th>P>|z|</th>  <th>[0.025</th>    <th>0.975]</th>  \n",
       "</tr>\n",
       "<tr>\n",
       "  <th>ar.L1</th>  <td>    1.8508</td> <td>    0.050</td> <td>   36.722</td> <td> 0.000</td> <td>    1.752</td> <td>    1.950</td>\n",
       "</tr>\n",
       "<tr>\n",
       "  <th>ar.L2</th>  <td>   -1.4926</td> <td>    0.073</td> <td>  -20.315</td> <td> 0.000</td> <td>   -1.637</td> <td>   -1.349</td>\n",
       "</tr>\n",
       "<tr>\n",
       "  <th>ar.L3</th>  <td>    0.6438</td> <td>    0.051</td> <td>   12.533</td> <td> 0.000</td> <td>    0.543</td> <td>    0.744</td>\n",
       "</tr>\n",
       "<tr>\n",
       "  <th>ar.L4</th>  <td>   -0.2591</td> <td>    0.025</td> <td>  -10.186</td> <td> 0.000</td> <td>   -0.309</td> <td>   -0.209</td>\n",
       "</tr>\n",
       "<tr>\n",
       "  <th>ma.L1</th>  <td>   -1.5811</td> <td>    0.047</td> <td>  -33.475</td> <td> 0.000</td> <td>   -1.674</td> <td>   -1.488</td>\n",
       "</tr>\n",
       "<tr>\n",
       "  <th>ma.L2</th>  <td>    0.8556</td> <td>    0.047</td> <td>   18.399</td> <td> 0.000</td> <td>    0.764</td> <td>    0.947</td>\n",
       "</tr>\n",
       "<tr>\n",
       "  <th>sigma2</th> <td>    6.1650</td> <td>    0.174</td> <td>   35.480</td> <td> 0.000</td> <td>    5.824</td> <td>    6.506</td>\n",
       "</tr>\n",
       "</table>\n",
       "<table class=\"simpletable\">\n",
       "<tr>\n",
       "  <th>Ljung-Box (Q):</th>          <td>58.64</td> <th>  Jarque-Bera (JB):  </th> <td>1503.76</td>\n",
       "</tr>\n",
       "<tr>\n",
       "  <th>Prob(Q):</th>                <td>0.03</td>  <th>  Prob(JB):          </th>  <td>0.00</td>  \n",
       "</tr>\n",
       "<tr>\n",
       "  <th>Heteroskedasticity (H):</th> <td>0.53</td>  <th>  Skew:              </th>  <td>-0.00</td> \n",
       "</tr>\n",
       "<tr>\n",
       "  <th>Prob(H) (two-sided):</th>    <td>0.00</td>  <th>  Kurtosis:          </th>  <td>10.08</td> \n",
       "</tr>\n",
       "</table><br/><br/>Warnings:<br/>[1] Covariance matrix calculated using the outer product of gradients (complex-step)."
      ],
      "text/plain": [
       "<class 'statsmodels.iolib.summary.Summary'>\n",
       "\"\"\"\n",
       "                               SARIMAX Results                                \n",
       "==============================================================================\n",
       "Dep. Variable:                      y   No. Observations:                  720\n",
       "Model:               SARIMAX(4, 1, 2)   Log Likelihood               -1674.338\n",
       "Date:                Sun, 11 Oct 2020   AIC                           3362.676\n",
       "Time:                        20:55:38   BIC                           3394.721\n",
       "Sample:                             0   HQIC                          3375.048\n",
       "                                - 720                                         \n",
       "Covariance Type:                  opg                                         \n",
       "==============================================================================\n",
       "                 coef    std err          z      P>|z|      [0.025      0.975]\n",
       "------------------------------------------------------------------------------\n",
       "ar.L1          1.8508      0.050     36.722      0.000       1.752       1.950\n",
       "ar.L2         -1.4926      0.073    -20.315      0.000      -1.637      -1.349\n",
       "ar.L3          0.6438      0.051     12.533      0.000       0.543       0.744\n",
       "ar.L4         -0.2591      0.025    -10.186      0.000      -0.309      -0.209\n",
       "ma.L1         -1.5811      0.047    -33.475      0.000      -1.674      -1.488\n",
       "ma.L2          0.8556      0.047     18.399      0.000       0.764       0.947\n",
       "sigma2         6.1650      0.174     35.480      0.000       5.824       6.506\n",
       "===================================================================================\n",
       "Ljung-Box (Q):                       58.64   Jarque-Bera (JB):              1503.76\n",
       "Prob(Q):                              0.03   Prob(JB):                         0.00\n",
       "Heteroskedasticity (H):               0.53   Skew:                            -0.00\n",
       "Prob(H) (two-sided):                  0.00   Kurtosis:                        10.08\n",
       "===================================================================================\n",
       "\n",
       "Warnings:\n",
       "[1] Covariance matrix calculated using the outer product of gradients (complex-step).\n",
       "\"\"\""
      ]
     },
     "execution_count": 43,
     "metadata": {},
     "output_type": "execute_result"
    }
   ],
   "source": [
    "model_LTC.summary()"
   ]
  },
  {
   "cell_type": "markdown",
   "metadata": {},
   "source": [
    "ARIMA(4, 1, 2)"
   ]
  },
  {
   "cell_type": "code",
   "execution_count": 44,
   "metadata": {},
   "outputs": [],
   "source": [
    "model_LTC_ret = auto_arima(df_copy['LTC_daily_return'][1:])"
   ]
  },
  {
   "cell_type": "code",
   "execution_count": 45,
   "metadata": {},
   "outputs": [
    {
     "data": {
      "text/html": [
       "<table class=\"simpletable\">\n",
       "<caption>SARIMAX Results</caption>\n",
       "<tr>\n",
       "  <th>Dep. Variable:</th>           <td>y</td>        <th>  No. Observations:  </th>    <td>719</td>   \n",
       "</tr>\n",
       "<tr>\n",
       "  <th>Model:</th>           <td>SARIMAX(2, 0, 3)</td> <th>  Log Likelihood     </th> <td>1313.647</td> \n",
       "</tr>\n",
       "<tr>\n",
       "  <th>Date:</th>            <td>Sun, 11 Oct 2020</td> <th>  AIC                </th> <td>-2615.293</td>\n",
       "</tr>\n",
       "<tr>\n",
       "  <th>Time:</th>                <td>21:00:02</td>     <th>  BIC                </th> <td>-2587.826</td>\n",
       "</tr>\n",
       "<tr>\n",
       "  <th>Sample:</th>                  <td>0</td>        <th>  HQIC               </th> <td>-2604.689</td>\n",
       "</tr>\n",
       "<tr>\n",
       "  <th></th>                      <td> - 719</td>      <th>                     </th>     <td> </td>    \n",
       "</tr>\n",
       "<tr>\n",
       "  <th>Covariance Type:</th>        <td>opg</td>       <th>                     </th>     <td> </td>    \n",
       "</tr>\n",
       "</table>\n",
       "<table class=\"simpletable\">\n",
       "<tr>\n",
       "     <td></td>       <th>coef</th>     <th>std err</th>      <th>z</th>      <th>P>|z|</th>  <th>[0.025</th>    <th>0.975]</th>  \n",
       "</tr>\n",
       "<tr>\n",
       "  <th>ar.L1</th>  <td>   -0.6602</td> <td>    0.135</td> <td>   -4.876</td> <td> 0.000</td> <td>   -0.926</td> <td>   -0.395</td>\n",
       "</tr>\n",
       "<tr>\n",
       "  <th>ar.L2</th>  <td>   -0.7654</td> <td>    0.118</td> <td>   -6.479</td> <td> 0.000</td> <td>   -0.997</td> <td>   -0.534</td>\n",
       "</tr>\n",
       "<tr>\n",
       "  <th>ma.L1</th>  <td>    0.9712</td> <td>    0.141</td> <td>    6.876</td> <td> 0.000</td> <td>    0.694</td> <td>    1.248</td>\n",
       "</tr>\n",
       "<tr>\n",
       "  <th>ma.L2</th>  <td>    0.8965</td> <td>    0.150</td> <td>    5.973</td> <td> 0.000</td> <td>    0.602</td> <td>    1.191</td>\n",
       "</tr>\n",
       "<tr>\n",
       "  <th>ma.L3</th>  <td>    0.1683</td> <td>    0.064</td> <td>    2.639</td> <td> 0.008</td> <td>    0.043</td> <td>    0.293</td>\n",
       "</tr>\n",
       "<tr>\n",
       "  <th>sigma2</th> <td>    0.0015</td> <td> 4.66e-05</td> <td>   32.638</td> <td> 0.000</td> <td>    0.001</td> <td>    0.002</td>\n",
       "</tr>\n",
       "</table>\n",
       "<table class=\"simpletable\">\n",
       "<tr>\n",
       "  <th>Ljung-Box (Q):</th>          <td>28.49</td> <th>  Jarque-Bera (JB):  </th> <td>945.34</td>\n",
       "</tr>\n",
       "<tr>\n",
       "  <th>Prob(Q):</th>                <td>0.91</td>  <th>  Prob(JB):          </th>  <td>0.00</td> \n",
       "</tr>\n",
       "<tr>\n",
       "  <th>Heteroskedasticity (H):</th> <td>0.67</td>  <th>  Skew:              </th>  <td>0.17</td> \n",
       "</tr>\n",
       "<tr>\n",
       "  <th>Prob(H) (two-sided):</th>    <td>0.00</td>  <th>  Kurtosis:          </th>  <td>8.61</td> \n",
       "</tr>\n",
       "</table><br/><br/>Warnings:<br/>[1] Covariance matrix calculated using the outer product of gradients (complex-step)."
      ],
      "text/plain": [
       "<class 'statsmodels.iolib.summary.Summary'>\n",
       "\"\"\"\n",
       "                               SARIMAX Results                                \n",
       "==============================================================================\n",
       "Dep. Variable:                      y   No. Observations:                  719\n",
       "Model:               SARIMAX(2, 0, 3)   Log Likelihood                1313.647\n",
       "Date:                Sun, 11 Oct 2020   AIC                          -2615.293\n",
       "Time:                        21:00:02   BIC                          -2587.826\n",
       "Sample:                             0   HQIC                         -2604.689\n",
       "                                - 719                                         \n",
       "Covariance Type:                  opg                                         \n",
       "==============================================================================\n",
       "                 coef    std err          z      P>|z|      [0.025      0.975]\n",
       "------------------------------------------------------------------------------\n",
       "ar.L1         -0.6602      0.135     -4.876      0.000      -0.926      -0.395\n",
       "ar.L2         -0.7654      0.118     -6.479      0.000      -0.997      -0.534\n",
       "ma.L1          0.9712      0.141      6.876      0.000       0.694       1.248\n",
       "ma.L2          0.8965      0.150      5.973      0.000       0.602       1.191\n",
       "ma.L3          0.1683      0.064      2.639      0.008       0.043       0.293\n",
       "sigma2         0.0015   4.66e-05     32.638      0.000       0.001       0.002\n",
       "===================================================================================\n",
       "Ljung-Box (Q):                       28.49   Jarque-Bera (JB):               945.34\n",
       "Prob(Q):                              0.91   Prob(JB):                         0.00\n",
       "Heteroskedasticity (H):               0.67   Skew:                             0.17\n",
       "Prob(H) (two-sided):                  0.00   Kurtosis:                         8.61\n",
       "===================================================================================\n",
       "\n",
       "Warnings:\n",
       "[1] Covariance matrix calculated using the outer product of gradients (complex-step).\n",
       "\"\"\""
      ]
     },
     "execution_count": 45,
     "metadata": {},
     "output_type": "execute_result"
    }
   ],
   "source": [
    "model_LTC_ret.summary()"
   ]
  },
  {
   "cell_type": "markdown",
   "metadata": {},
   "source": [
    "ARMA(2, 3) model for LTC returns."
   ]
  },
  {
   "cell_type": "markdown",
   "metadata": {},
   "source": [
    "The primary motivation for the different auto_arima models was to do quick models to see basic trends of the different prices and returns before doing the Vector Autoregression. \n",
    "\n",
    "As suggested by the ADFuller Tests, the price series required integrated models, whereas the returns did not require them due to being stationary. \n",
    "\n",
    "Every model showed a 'Moving Average' component ranging from 1 to 4. Not every model showed an Autoregressive component.\n",
    "\n",
    "LTC Prices had an AR parameter of 4 from the model, indicating the price from four days ago is impacting the price today.\n",
    "\n",
    "Interestingly enough, ETH and BTC prices did not have an AR component, showing that yesterday's prices don't influence today's prices."
   ]
  },
  {
   "cell_type": "markdown",
   "metadata": {},
   "source": [
    "---"
   ]
  },
  {
   "cell_type": "markdown",
   "metadata": {},
   "source": [
    "Granger's causality Test <- LOOK THIS UP\n",
    "\n",
    "Test's H0 that the cofficients of past values in regression equation = 0.\n",
    "\n",
    "Past values of time series (x) do not cause the other series (Y). If p-value from test is < 0.05 => safely reject the null hypothesis."
   ]
  },
  {
   "cell_type": "markdown",
   "metadata": {},
   "source": [
    "Cointegration Test - helps establish the presence of a statistically significant connection between two or more time series.\n",
    "\n",
    "Basic Premise VAR is based on.\n",
    "\n",
    "https://www.machinelearningplus.com/time-series/vector-autoregression-examples-python/\n",
    "\n"
   ]
  },
  {
   "cell_type": "markdown",
   "metadata": {},
   "source": [
    "---"
   ]
  },
  {
   "cell_type": "markdown",
   "metadata": {},
   "source": [
    "###  Vector Autoregression Model for Returns."
   ]
  },
  {
   "cell_type": "markdown",
   "metadata": {},
   "source": [
    "The Auto_Arima model was used to individually evaluate the different assets and their returns. The VAR model will see how they influence each other. Key difference between VAR and AR, ARMA, and ARIMA models is that it is bi-directional. Each variable is modeled as a linear combination of past values of itself and the past values of other variables in the system. VAR Model requires time series you want to forecast to be stationary."
   ]
  },
  {
   "cell_type": "code",
   "execution_count": 46,
   "metadata": {},
   "outputs": [],
   "source": [
    "from statsmodels.tsa.api import VAR"
   ]
  },
  {
   "cell_type": "code",
   "execution_count": 47,
   "metadata": {},
   "outputs": [],
   "source": [
    "df_ret = df_copy[['BTC_daily_return', 'ETH_daily_return', 'LTC_daily_return']][1:]"
   ]
  },
  {
   "cell_type": "code",
   "execution_count": 48,
   "metadata": {},
   "outputs": [],
   "source": [
    "model_var_ret = VAR(df_ret)"
   ]
  },
  {
   "cell_type": "code",
   "execution_count": 49,
   "metadata": {},
   "outputs": [
    {
     "data": {
      "text/plain": [
       "<statsmodels.tsa.vector_ar.var_model.LagOrderResults at 0x1aea86de208>"
      ]
     },
     "execution_count": 49,
     "metadata": {},
     "output_type": "execute_result"
    }
   ],
   "source": [
    "model_var_ret.select_order(20)"
   ]
  },
  {
   "cell_type": "code",
   "execution_count": 50,
   "metadata": {},
   "outputs": [],
   "source": [
    "results_var_ret = model_var_ret.fit(ic='aic')"
   ]
  },
  {
   "cell_type": "code",
   "execution_count": 51,
   "metadata": {},
   "outputs": [
    {
     "data": {
      "text/plain": [
       "  Summary of Regression Results   \n",
       "==================================\n",
       "Model:                         VAR\n",
       "Method:                        OLS\n",
       "Date:           Sun, 11, Oct, 2020\n",
       "Time:                     21:01:43\n",
       "--------------------------------------------------------------------\n",
       "No. of Equations:         3.00000    BIC:                   -22.2022\n",
       "Nobs:                     714.000    HQIC:                  -22.3909\n",
       "Log likelihood:           5044.53    FPE:                1.67589e-10\n",
       "AIC:                     -22.5095    Det(Omega_mle):     1.56810e-10\n",
       "--------------------------------------------------------------------\n",
       "Results for equation BTC_daily_return\n",
       "======================================================================================\n",
       "                         coefficient       std. error           t-stat            prob\n",
       "--------------------------------------------------------------------------------------\n",
       "const                       0.000907         0.001094            0.829           0.407\n",
       "L1.BTC_daily_return         0.236771         0.069224            3.420           0.001\n",
       "L1.ETH_daily_return        -0.020291         0.062503           -0.325           0.745\n",
       "L1.LTC_daily_return         0.117497         0.052528            2.237           0.025\n",
       "L2.BTC_daily_return        -0.094884         0.072521           -1.308           0.191\n",
       "L2.ETH_daily_return        -0.030043         0.065803           -0.457           0.648\n",
       "L2.LTC_daily_return        -0.042951         0.054746           -0.785           0.433\n",
       "L3.BTC_daily_return         0.093239         0.072763            1.281           0.200\n",
       "L3.ETH_daily_return         0.007181         0.065758            0.109           0.913\n",
       "L3.LTC_daily_return         0.011868         0.054747            0.217           0.828\n",
       "L4.BTC_daily_return        -0.162801         0.072361           -2.250           0.024\n",
       "L4.ETH_daily_return        -0.011460         0.065577           -0.175           0.861\n",
       "L4.LTC_daily_return         0.151958         0.054667            2.780           0.005\n",
       "L5.BTC_daily_return         0.063228         0.069110            0.915           0.360\n",
       "L5.ETH_daily_return         0.078065         0.062151            1.256           0.209\n",
       "L5.LTC_daily_return        -0.104608         0.052301           -2.000           0.045\n",
       "======================================================================================\n",
       "\n",
       "Results for equation ETH_daily_return\n",
       "======================================================================================\n",
       "                         coefficient       std. error           t-stat            prob\n",
       "--------------------------------------------------------------------------------------\n",
       "const                       0.001102         0.001368            0.806           0.420\n",
       "L1.BTC_daily_return        -0.152510         0.086563           -1.762           0.078\n",
       "L1.ETH_daily_return         0.285044         0.078158            3.647           0.000\n",
       "L1.LTC_daily_return         0.141140         0.065685            2.149           0.032\n",
       "L2.BTC_daily_return         0.009967         0.090686            0.110           0.912\n",
       "L2.ETH_daily_return        -0.081293         0.082285           -0.988           0.323\n",
       "L2.LTC_daily_return        -0.051939         0.068458           -0.759           0.448\n",
       "L3.BTC_daily_return         0.151636         0.090988            1.667           0.096\n",
       "L3.ETH_daily_return        -0.023792         0.082229           -0.289           0.772\n",
       "L3.LTC_daily_return         0.035609         0.068461            0.520           0.603\n",
       "L4.BTC_daily_return        -0.062117         0.090486           -0.686           0.492\n",
       "L4.ETH_daily_return        -0.093907         0.082003           -1.145           0.252\n",
       "L4.LTC_daily_return         0.161642         0.068360            2.365           0.018\n",
       "L5.BTC_daily_return        -0.021099         0.086420           -0.244           0.807\n",
       "L5.ETH_daily_return         0.193231         0.077718            2.486           0.013\n",
       "L5.LTC_daily_return        -0.105553         0.065401           -1.614           0.107\n",
       "======================================================================================\n",
       "\n",
       "Results for equation LTC_daily_return\n",
       "======================================================================================\n",
       "                         coefficient       std. error           t-stat            prob\n",
       "--------------------------------------------------------------------------------------\n",
       "const                       0.000651         0.001471            0.443           0.658\n",
       "L1.BTC_daily_return        -0.079037         0.093115           -0.849           0.396\n",
       "L1.ETH_daily_return        -0.093828         0.084074           -1.116           0.264\n",
       "L1.LTC_daily_return         0.422606         0.070657            5.981           0.000\n",
       "L2.BTC_daily_return        -0.009022         0.097550           -0.092           0.926\n",
       "L2.ETH_daily_return        -0.077722         0.088514           -0.878           0.380\n",
       "L2.LTC_daily_return        -0.083091         0.073640           -1.128           0.259\n",
       "L3.BTC_daily_return         0.107045         0.097875            1.094           0.274\n",
       "L3.ETH_daily_return        -0.057373         0.088453           -0.649           0.517\n",
       "L3.LTC_daily_return         0.065340         0.073643            0.887           0.375\n",
       "L4.BTC_daily_return        -0.126229         0.097335           -1.297           0.195\n",
       "L4.ETH_daily_return         0.026162         0.088210            0.297           0.767\n",
       "L4.LTC_daily_return         0.122635         0.073535            1.668           0.095\n",
       "L5.BTC_daily_return         0.067996         0.092962            0.731           0.465\n",
       "L5.ETH_daily_return         0.103080         0.083601            1.233           0.218\n",
       "L5.LTC_daily_return        -0.160705         0.070351           -2.284           0.022\n",
       "======================================================================================\n",
       "\n",
       "Correlation matrix of residuals\n",
       "                    BTC_daily_return  ETH_daily_return  LTC_daily_return\n",
       "BTC_daily_return            1.000000          0.822321          0.773713\n",
       "ETH_daily_return            0.822321          1.000000          0.832074\n",
       "LTC_daily_return            0.773713          0.832074          1.000000\n",
       "\n"
      ]
     },
     "execution_count": 51,
     "metadata": {},
     "output_type": "execute_result"
    }
   ],
   "source": [
    "results_var_ret.summary()"
   ]
  },
  {
   "cell_type": "code",
   "execution_count": 52,
   "metadata": {},
   "outputs": [
    {
     "data": {
      "image/png": "[encoded data removed]",
      "text/plain": [
       "<Figure size 720x720 with 3 Axes>"
      ]
     },
     "execution_count": 52,
     "metadata": {},
     "output_type": "execute_result"
    },
    {
     "data": {
      "image/png": "[encoded data removed]",
      "text/plain": [
       "<Figure size 720x720 with 3 Axes>"
      ]
     },
     "metadata": {},
     "output_type": "display_data"
    }
   ],
   "source": [
    "results_var_ret.plot()"
   ]
  },
  {
   "cell_type": "code",
   "execution_count": 52,
   "metadata": {},
   "outputs": [
    {
     "data": {
      "image/png": "[encoded data removed]",
      "text/plain": [
       "<Figure size 720x720 with 3 Axes>"
      ]
     },
     "execution_count": 52,
     "metadata": {},
     "output_type": "execute_result"
    },
    {
     "data": {
      "image/png": "[encoded data removed]",
      "text/plain": [
       "<Figure size 720x720 with 3 Axes>"
      ]
     },
     "metadata": {},
     "output_type": "display_data"
    }
   ],
   "source": [
    "results_var_ret.plot_forecast(100)"
   ]
  },
  {
   "cell_type": "markdown",
   "metadata": {},
   "source": [
    "## Other Regression Models for Price"
   ]
  },
  {
   "cell_type": "code",
   "execution_count": 53,
   "metadata": {},
   "outputs": [
    {
     "data": {
      "text/html": [
       "<div>\n",
       "<style scoped>\n",
       "    .dataframe tbody tr th:only-of-type {\n",
       "        vertical-align: middle;\n",
       "    }\n",
       "\n",
       "    .dataframe tbody tr th {\n",
       "        vertical-align: top;\n",
       "    }\n",
       "\n",
       "    .dataframe thead th {\n",
       "        text-align: right;\n",
       "    }\n",
       "</style>\n",
       "<table border=\"1\" class=\"dataframe\">\n",
       "  <thead>\n",
       "    <tr style=\"text-align: right;\">\n",
       "      <th></th>\n",
       "      <th>open_BTC</th>\n",
       "      <th>high_BTC</th>\n",
       "      <th>low_BTC</th>\n",
       "      <th>close_BTC</th>\n",
       "      <th>vwap_BTC</th>\n",
       "      <th>volume_BTC</th>\n",
       "      <th>count_BTC</th>\n",
       "      <th>log_high_BTC</th>\n",
       "      <th>log_low_BTC</th>\n",
       "      <th>log_vwap_BTC</th>\n",
       "      <th>...</th>\n",
       "      <th>count_LTC</th>\n",
       "      <th>log_high_LTC</th>\n",
       "      <th>log_low_LTC</th>\n",
       "      <th>log_vwap_LTC</th>\n",
       "      <th>BTC_daily_return</th>\n",
       "      <th>ETH_daily_return</th>\n",
       "      <th>LTC_daily_return</th>\n",
       "      <th>BTC_log_vwap_return</th>\n",
       "      <th>ETH_log_vwap_return</th>\n",
       "      <th>LTC_log_vwap_return</th>\n",
       "    </tr>\n",
       "    <tr>\n",
       "      <th>dtime</th>\n",
       "      <th></th>\n",
       "      <th></th>\n",
       "      <th></th>\n",
       "      <th></th>\n",
       "      <th></th>\n",
       "      <th></th>\n",
       "      <th></th>\n",
       "      <th></th>\n",
       "      <th></th>\n",
       "      <th></th>\n",
       "      <th></th>\n",
       "      <th></th>\n",
       "      <th></th>\n",
       "      <th></th>\n",
       "      <th></th>\n",
       "      <th></th>\n",
       "      <th></th>\n",
       "      <th></th>\n",
       "      <th></th>\n",
       "      <th></th>\n",
       "      <th></th>\n",
       "    </tr>\n",
       "  </thead>\n",
       "  <tbody>\n",
       "    <tr>\n",
       "      <th>2018-10-13</th>\n",
       "      <td>6192.2</td>\n",
       "      <td>6219.1</td>\n",
       "      <td>6171.7</td>\n",
       "      <td>6197.9</td>\n",
       "      <td>6199.6</td>\n",
       "      <td>922.828331</td>\n",
       "      <td>3614</td>\n",
       "      <td>8.735380</td>\n",
       "      <td>8.727730</td>\n",
       "      <td>8.732240</td>\n",
       "      <td>...</td>\n",
       "      <td>668</td>\n",
       "      <td>3.986759</td>\n",
       "      <td>3.959288</td>\n",
       "      <td>3.970669</td>\n",
       "      <td>NaN</td>\n",
       "      <td>NaN</td>\n",
       "      <td>NaN</td>\n",
       "      <td>NaN</td>\n",
       "      <td>NaN</td>\n",
       "      <td>NaN</td>\n",
       "    </tr>\n",
       "    <tr>\n",
       "      <th>2018-10-14</th>\n",
       "      <td>6197.9</td>\n",
       "      <td>6289.9</td>\n",
       "      <td>6150.0</td>\n",
       "      <td>6181.8</td>\n",
       "      <td>6226.9</td>\n",
       "      <td>1237.100596</td>\n",
       "      <td>5098</td>\n",
       "      <td>8.746700</td>\n",
       "      <td>8.724207</td>\n",
       "      <td>8.736634</td>\n",
       "      <td>...</td>\n",
       "      <td>625</td>\n",
       "      <td>3.976874</td>\n",
       "      <td>3.928880</td>\n",
       "      <td>3.952589</td>\n",
       "      <td>0.004404</td>\n",
       "      <td>-0.006953</td>\n",
       "      <td>-0.017918</td>\n",
       "      <td>0.000503</td>\n",
       "      <td>-0.001321</td>\n",
       "      <td>-0.004553</td>\n",
       "    </tr>\n",
       "    <tr>\n",
       "      <th>2018-10-15</th>\n",
       "      <td>6181.9</td>\n",
       "      <td>6820.0</td>\n",
       "      <td>6151.0</td>\n",
       "      <td>6438.5</td>\n",
       "      <td>6449.8</td>\n",
       "      <td>11345.747326</td>\n",
       "      <td>28535</td>\n",
       "      <td>8.827615</td>\n",
       "      <td>8.724370</td>\n",
       "      <td>8.771804</td>\n",
       "      <td>...</td>\n",
       "      <td>3528</td>\n",
       "      <td>4.061994</td>\n",
       "      <td>3.929077</td>\n",
       "      <td>3.983599</td>\n",
       "      <td>0.035796</td>\n",
       "      <td>0.044667</td>\n",
       "      <td>0.031496</td>\n",
       "      <td>0.004026</td>\n",
       "      <td>0.008282</td>\n",
       "      <td>0.007846</td>\n",
       "    </tr>\n",
       "    <tr>\n",
       "      <th>2018-10-16</th>\n",
       "      <td>6438.5</td>\n",
       "      <td>6490.0</td>\n",
       "      <td>6391.5</td>\n",
       "      <td>6460.4</td>\n",
       "      <td>6441.8</td>\n",
       "      <td>3270.364601</td>\n",
       "      <td>8233</td>\n",
       "      <td>8.778018</td>\n",
       "      <td>8.762724</td>\n",
       "      <td>8.770563</td>\n",
       "      <td>...</td>\n",
       "      <td>702</td>\n",
       "      <td>3.992496</td>\n",
       "      <td>3.961575</td>\n",
       "      <td>3.976874</td>\n",
       "      <td>-0.001240</td>\n",
       "      <td>0.000049</td>\n",
       "      <td>-0.006703</td>\n",
       "      <td>-0.000141</td>\n",
       "      <td>0.000009</td>\n",
       "      <td>-0.001688</td>\n",
       "    </tr>\n",
       "    <tr>\n",
       "      <th>2018-10-17</th>\n",
       "      <td>6460.3</td>\n",
       "      <td>6469.8</td>\n",
       "      <td>6411.9</td>\n",
       "      <td>6442.5</td>\n",
       "      <td>6438.4</td>\n",
       "      <td>1683.992001</td>\n",
       "      <td>5375</td>\n",
       "      <td>8.774900</td>\n",
       "      <td>8.765911</td>\n",
       "      <td>8.770035</td>\n",
       "      <td>...</td>\n",
       "      <td>605</td>\n",
       "      <td>3.974434</td>\n",
       "      <td>3.956996</td>\n",
       "      <td>3.964426</td>\n",
       "      <td>-0.000528</td>\n",
       "      <td>-0.003326</td>\n",
       "      <td>-0.012371</td>\n",
       "      <td>-0.000060</td>\n",
       "      <td>-0.000626</td>\n",
       "      <td>-0.003130</td>\n",
       "    </tr>\n",
       "  </tbody>\n",
       "</table>\n",
       "<p>5 rows × 36 columns</p>\n",
       "</div>"
      ],
      "text/plain": [
       "            open_BTC  high_BTC  low_BTC  close_BTC  vwap_BTC    volume_BTC  \\\n",
       "dtime                                                                        \n",
       "2018-10-13    6192.2    6219.1   6171.7     6197.9    6199.6    922.828331   \n",
       "2018-10-14    6197.9    6289.9   6150.0     6181.8    6226.9   1237.100596   \n",
       "2018-10-15    6181.9    6820.0   6151.0     6438.5    6449.8  11345.747326   \n",
       "2018-10-16    6438.5    6490.0   6391.5     6460.4    6441.8   3270.364601   \n",
       "2018-10-17    6460.3    6469.8   6411.9     6442.5    6438.4   1683.992001   \n",
       "\n",
       "            count_BTC  log_high_BTC  log_low_BTC  log_vwap_BTC  ...  \\\n",
       "dtime                                                           ...   \n",
       "2018-10-13       3614      8.735380     8.727730      8.732240  ...   \n",
       "2018-10-14       5098      8.746700     8.724207      8.736634  ...   \n",
       "2018-10-15      28535      8.827615     8.724370      8.771804  ...   \n",
       "2018-10-16       8233      8.778018     8.762724      8.770563  ...   \n",
       "2018-10-17       5375      8.774900     8.765911      8.770035  ...   \n",
       "\n",
       "            count_LTC  log_high_LTC  log_low_LTC  log_vwap_LTC  \\\n",
       "dtime                                                            \n",
       "2018-10-13        668      3.986759     3.959288      3.970669   \n",
       "2018-10-14        625      3.976874     3.928880      3.952589   \n",
       "2018-10-15       3528      4.061994     3.929077      3.983599   \n",
       "2018-10-16        702      3.992496     3.961575      3.976874   \n",
       "2018-10-17        605      3.974434     3.956996      3.964426   \n",
       "\n",
       "            BTC_daily_return  ETH_daily_return  LTC_daily_return  \\\n",
       "dtime                                                              \n",
       "2018-10-13               NaN               NaN               NaN   \n",
       "2018-10-14          0.004404         -0.006953         -0.017918   \n",
       "2018-10-15          0.035796          0.044667          0.031496   \n",
       "2018-10-16         -0.001240          0.000049         -0.006703   \n",
       "2018-10-17         -0.000528         -0.003326         -0.012371   \n",
       "\n",
       "            BTC_log_vwap_return  ETH_log_vwap_return  LTC_log_vwap_return  \n",
       "dtime                                                                      \n",
       "2018-10-13                  NaN                  NaN                  NaN  \n",
       "2018-10-14             0.000503            -0.001321            -0.004553  \n",
       "2018-10-15             0.004026             0.008282             0.007846  \n",
       "2018-10-16            -0.000141             0.000009            -0.001688  \n",
       "2018-10-17            -0.000060            -0.000626            -0.003130  \n",
       "\n",
       "[5 rows x 36 columns]"
      ]
     },
     "execution_count": 53,
     "metadata": {},
     "output_type": "execute_result"
    }
   ],
   "source": [
    "df_copy.head()"
   ]
  },
  {
   "cell_type": "code",
   "execution_count": 54,
   "metadata": {},
   "outputs": [
    {
     "data": {
      "text/html": [
       "<div>\n",
       "<style scoped>\n",
       "    .dataframe tbody tr th:only-of-type {\n",
       "        vertical-align: middle;\n",
       "    }\n",
       "\n",
       "    .dataframe tbody tr th {\n",
       "        vertical-align: top;\n",
       "    }\n",
       "\n",
       "    .dataframe thead th {\n",
       "        text-align: right;\n",
       "    }\n",
       "</style>\n",
       "<table border=\"1\" class=\"dataframe\">\n",
       "  <thead>\n",
       "    <tr style=\"text-align: right;\">\n",
       "      <th></th>\n",
       "      <th>vwap_BTC</th>\n",
       "      <th>vwap_ETH</th>\n",
       "      <th>vwap_LTC</th>\n",
       "    </tr>\n",
       "    <tr>\n",
       "      <th>dtime</th>\n",
       "      <th></th>\n",
       "      <th></th>\n",
       "      <th></th>\n",
       "    </tr>\n",
       "  </thead>\n",
       "  <tbody>\n",
       "    <tr>\n",
       "      <th>2018-10-13</th>\n",
       "      <td>6199.6</td>\n",
       "      <td>197.04</td>\n",
       "      <td>53.02</td>\n",
       "    </tr>\n",
       "    <tr>\n",
       "      <th>2018-10-14</th>\n",
       "      <td>6226.9</td>\n",
       "      <td>195.67</td>\n",
       "      <td>52.07</td>\n",
       "    </tr>\n",
       "    <tr>\n",
       "      <th>2018-10-15</th>\n",
       "      <td>6449.8</td>\n",
       "      <td>204.41</td>\n",
       "      <td>53.71</td>\n",
       "    </tr>\n",
       "    <tr>\n",
       "      <th>2018-10-16</th>\n",
       "      <td>6441.8</td>\n",
       "      <td>204.42</td>\n",
       "      <td>53.35</td>\n",
       "    </tr>\n",
       "    <tr>\n",
       "      <th>2018-10-17</th>\n",
       "      <td>6438.4</td>\n",
       "      <td>203.74</td>\n",
       "      <td>52.69</td>\n",
       "    </tr>\n",
       "  </tbody>\n",
       "</table>\n",
       "</div>"
      ],
      "text/plain": [
       "            vwap_BTC  vwap_ETH  vwap_LTC\n",
       "dtime                                   \n",
       "2018-10-13    6199.6    197.04     53.02\n",
       "2018-10-14    6226.9    195.67     52.07\n",
       "2018-10-15    6449.8    204.41     53.71\n",
       "2018-10-16    6441.8    204.42     53.35\n",
       "2018-10-17    6438.4    203.74     52.69"
      ]
     },
     "execution_count": 54,
     "metadata": {},
     "output_type": "execute_result"
    }
   ],
   "source": [
    "prices = df_copy[['vwap_BTC', 'vwap_ETH', 'vwap_LTC']]\n",
    "prices.head()"
   ]
  },
  {
   "cell_type": "markdown",
   "metadata": {},
   "source": [
    "### Linear Regression - ETH ~ BTC + LTC"
   ]
  },
  {
   "cell_type": "code",
   "execution_count": 55,
   "metadata": {},
   "outputs": [],
   "source": [
    "X, y = prices[['vwap_BTC', 'vwap_LTC']], prices[['vwap_ETH']]"
   ]
  },
  {
   "cell_type": "code",
   "execution_count": 56,
   "metadata": {},
   "outputs": [],
   "source": [
    "from sklearn.linear_model import LinearRegression\n",
    "from sklearn.model_selection import train_test_split"
   ]
  },
  {
   "cell_type": "code",
   "execution_count": 57,
   "metadata": {},
   "outputs": [],
   "source": [
    "X_train, X_test, y_train, y_test = train_test_split(X, y, test_size = 0.25, random_state = 123)"
   ]
  },
  {
   "cell_type": "code",
   "execution_count": 58,
   "metadata": {},
   "outputs": [],
   "source": [
    "reg = LinearRegression().fit(X_train, y_train)"
   ]
  },
  {
   "cell_type": "code",
   "execution_count": 59,
   "metadata": {},
   "outputs": [
    {
     "data": {
      "text/plain": [
       "0.5973081308016621"
      ]
     },
     "execution_count": 59,
     "metadata": {},
     "output_type": "execute_result"
    }
   ],
   "source": [
    "reg.score(X_train, y_train)"
   ]
  },
  {
   "cell_type": "code",
   "execution_count": 60,
   "metadata": {},
   "outputs": [
    {
     "data": {
      "text/plain": [
       "0.6273875044705204"
      ]
     },
     "execution_count": 60,
     "metadata": {},
     "output_type": "execute_result"
    }
   ],
   "source": [
    "reg.score(X_test, y_test)"
   ]
  },
  {
   "cell_type": "code",
   "execution_count": 61,
   "metadata": {},
   "outputs": [
    {
     "data": {
      "text/plain": [
       "array([[0.02190229, 0.17690487]])"
      ]
     },
     "execution_count": 61,
     "metadata": {},
     "output_type": "execute_result"
    }
   ],
   "source": [
    "reg.coef_"
   ]
  },
  {
   "cell_type": "code",
   "execution_count": 62,
   "metadata": {},
   "outputs": [
    {
     "data": {
      "text/plain": [
       "array([18.85808731])"
      ]
     },
     "execution_count": 62,
     "metadata": {},
     "output_type": "execute_result"
    }
   ],
   "source": [
    "reg.intercept_"
   ]
  },
  {
   "cell_type": "markdown",
   "metadata": {},
   "source": [
    "### Linear Regression LTC ~ BTC + ETH"
   ]
  },
  {
   "cell_type": "code",
   "execution_count": 63,
   "metadata": {},
   "outputs": [],
   "source": [
    "X, y = prices[['vwap_BTC', 'vwap_ETH']], prices[['vwap_LTC']]"
   ]
  },
  {
   "cell_type": "code",
   "execution_count": 64,
   "metadata": {},
   "outputs": [],
   "source": [
    "X_train, X_test, y_train, y_test = train_test_split(X, y, test_size = 0.25, random_state = 123)"
   ]
  },
  {
   "cell_type": "code",
   "execution_count": 65,
   "metadata": {},
   "outputs": [],
   "source": [
    "reg2 = LinearRegression().fit(X_train, y_train)"
   ]
  },
  {
   "cell_type": "code",
   "execution_count": 66,
   "metadata": {},
   "outputs": [
    {
     "data": {
      "text/plain": [
       "0.23737716653349805"
      ]
     },
     "execution_count": 66,
     "metadata": {},
     "output_type": "execute_result"
    }
   ],
   "source": [
    "reg2.score(X_train, y_train)"
   ]
  },
  {
   "cell_type": "code",
   "execution_count": 67,
   "metadata": {},
   "outputs": [
    {
     "data": {
      "text/plain": [
       "0.10560135085513878"
      ]
     },
     "execution_count": 67,
     "metadata": {},
     "output_type": "execute_result"
    }
   ],
   "source": [
    "reg2.score(X_test, y_test)"
   ]
  },
  {
   "cell_type": "code",
   "execution_count": 68,
   "metadata": {},
   "outputs": [
    {
     "data": {
      "text/plain": [
       "array([[0.00366435, 0.0320814 ]])"
      ]
     },
     "execution_count": 68,
     "metadata": {},
     "output_type": "execute_result"
    }
   ],
   "source": [
    "reg2.coef_"
   ]
  },
  {
   "cell_type": "code",
   "execution_count": 69,
   "metadata": {},
   "outputs": [
    {
     "data": {
      "text/plain": [
       "array([23.03349941])"
      ]
     },
     "execution_count": 69,
     "metadata": {},
     "output_type": "execute_result"
    }
   ],
   "source": [
    "reg2.intercept_"
   ]
  },
  {
   "cell_type": "markdown",
   "metadata": {},
   "source": [
    "After first round of linear regressions, the prices of Bitcoin and Litecoin affect Ethereum more than the prices of Bitcoin and Ethereum affect Litecoin.\n",
    "\n",
    "This model generalizes poorly and did not fit training set well."
   ]
  },
  {
   "cell_type": "markdown",
   "metadata": {},
   "source": [
    "---"
   ]
  },
  {
   "cell_type": "markdown",
   "metadata": {},
   "source": [
    "### Random Forest Regression - ETH ~ BTC + LTC"
   ]
  },
  {
   "cell_type": "code",
   "execution_count": 70,
   "metadata": {},
   "outputs": [],
   "source": [
    "from sklearn.ensemble import RandomForestRegressor\n",
    "from sklearn.model_selection import GridSearchCV"
   ]
  },
  {
   "cell_type": "code",
   "execution_count": 71,
   "metadata": {},
   "outputs": [],
   "source": [
    "rf = RandomForestRegressor()"
   ]
  },
  {
   "cell_type": "code",
   "execution_count": 72,
   "metadata": {},
   "outputs": [],
   "source": [
    "param_grid = {\n",
    "    'n_estimators': [100, 200, 500],\n",
    "    'min_samples_split': [10, 20, 50],\n",
    "    'max_depth': [10, 20, 25],\n",
    "}"
   ]
  },
  {
   "cell_type": "code",
   "execution_count": 73,
   "metadata": {},
   "outputs": [],
   "source": [
    "X, y = prices[['vwap_BTC', 'vwap_LTC']], prices[['vwap_ETH']]"
   ]
  },
  {
   "cell_type": "code",
   "execution_count": 74,
   "metadata": {},
   "outputs": [],
   "source": [
    "X_train, X_test, y_train, y_test = train_test_split(X, y, test_size = 0.25, random_state = 123)"
   ]
  },
  {
   "cell_type": "code",
   "execution_count": 75,
   "metadata": {},
   "outputs": [],
   "source": [
    "grid_search = GridSearchCV(estimator = rf, param_grid = param_grid,\n",
    "                         cv = 3, n_jobs = -1)"
   ]
  },
  {
   "cell_type": "code",
   "execution_count": 76,
   "metadata": {},
   "outputs": [
    {
     "data": {
      "text/plain": [
       "GridSearchCV(cv=3, error_score=nan,\n",
       "             estimator=RandomForestRegressor(bootstrap=True, ccp_alpha=0.0,\n",
       "                                             criterion='mse', max_depth=None,\n",
       "                                             max_features='auto',\n",
       "                                             max_leaf_nodes=None,\n",
       "                                             max_samples=None,\n",
       "                                             min_impurity_decrease=0.0,\n",
       "                                             min_impurity_split=None,\n",
       "                                             min_samples_leaf=1,\n",
       "                                             min_samples_split=2,\n",
       "                                             min_weight_fraction_leaf=0.0,\n",
       "                                             n_estimators=100, n_jobs=None,\n",
       "                                             oob_score=False, random_state=None,\n",
       "                                             verbose=0, warm_start=False),\n",
       "             iid='deprecated', n_jobs=-1,\n",
       "             param_grid={'max_depth': [10, 20, 25],\n",
       "                         'min_samples_split': [10, 20, 50],\n",
       "                         'n_estimators': [100, 200, 500]},\n",
       "             pre_dispatch='2*n_jobs', refit=True, return_train_score=False,\n",
       "             scoring=None, verbose=0)"
      ]
     },
     "execution_count": 76,
     "metadata": {},
     "output_type": "execute_result"
    }
   ],
   "source": [
    "grid_search.fit(X_train, y_train)"
   ]
  },
  {
   "cell_type": "code",
   "execution_count": 77,
   "metadata": {},
   "outputs": [
    {
     "data": {
      "text/plain": [
       "{'max_depth': 10, 'min_samples_split': 10, 'n_estimators': 200}"
      ]
     },
     "execution_count": 77,
     "metadata": {},
     "output_type": "execute_result"
    }
   ],
   "source": [
    "grid_search.best_params_"
   ]
  },
  {
   "cell_type": "code",
   "execution_count": 78,
   "metadata": {},
   "outputs": [],
   "source": [
    "rand_for = RandomForestRegressor(max_depth = 10,\n",
    "                                min_samples_split = 10,\n",
    "                                n_estimators = 200)"
   ]
  },
  {
   "cell_type": "code",
   "execution_count": 79,
   "metadata": {},
   "outputs": [
    {
     "data": {
      "text/plain": [
       "RandomForestRegressor(bootstrap=True, ccp_alpha=0.0, criterion='mse',\n",
       "                      max_depth=10, max_features='auto', max_leaf_nodes=None,\n",
       "                      max_samples=None, min_impurity_decrease=0.0,\n",
       "                      min_impurity_split=None, min_samples_leaf=1,\n",
       "                      min_samples_split=10, min_weight_fraction_leaf=0.0,\n",
       "                      n_estimators=200, n_jobs=None, oob_score=False,\n",
       "                      random_state=None, verbose=0, warm_start=False)"
      ]
     },
     "execution_count": 79,
     "metadata": {},
     "output_type": "execute_result"
    }
   ],
   "source": [
    "rand_for.fit(X_train, y_train)"
   ]
  },
  {
   "cell_type": "code",
   "execution_count": 80,
   "metadata": {},
   "outputs": [
    {
     "data": {
      "text/plain": [
       "0.9767091857398531"
      ]
     },
     "execution_count": 80,
     "metadata": {},
     "output_type": "execute_result"
    }
   ],
   "source": [
    "rand_for.score(X_train, y_train)"
   ]
  },
  {
   "cell_type": "code",
   "execution_count": 81,
   "metadata": {},
   "outputs": [
    {
     "data": {
      "text/plain": [
       "0.9592656277047321"
      ]
     },
     "execution_count": 81,
     "metadata": {},
     "output_type": "execute_result"
    }
   ],
   "source": [
    "rand_for.score(X_test, y_test)"
   ]
  },
  {
   "cell_type": "markdown",
   "metadata": {},
   "source": [
    "Very, very good model right out of the bag. Still need to try with volume."
   ]
  },
  {
   "cell_type": "markdown",
   "metadata": {},
   "source": [
    "### Random Forest with ETH as target variable."
   ]
  },
  {
   "cell_type": "code",
   "execution_count": 82,
   "metadata": {},
   "outputs": [],
   "source": [
    "rf = RandomForestRegressor()"
   ]
  },
  {
   "cell_type": "code",
   "execution_count": 83,
   "metadata": {},
   "outputs": [],
   "source": [
    "param_grid = {\n",
    "    'n_estimators': [100, 200, 500],\n",
    "    'min_samples_split': [10, 20, 50],\n",
    "    'max_depth': [10, 20, 25],\n",
    "}"
   ]
  },
  {
   "cell_type": "code",
   "execution_count": 84,
   "metadata": {},
   "outputs": [],
   "source": [
    "X, y = prices[['vwap_BTC', 'vwap_ETH']], prices[['vwap_LTC']]"
   ]
  },
  {
   "cell_type": "code",
   "execution_count": 86,
   "metadata": {},
   "outputs": [],
   "source": [
    "X_train, X_test, y_train, y_test = train_test_split(X, y, test_size = 0.25, random_state = 123)"
   ]
  },
  {
   "cell_type": "code",
   "execution_count": 87,
   "metadata": {},
   "outputs": [],
   "source": [
    "grid_search = GridSearchCV(estimator = rf, param_grid = param_grid,\n",
    "                         cv = 3, n_jobs = -1)"
   ]
  },
  {
   "cell_type": "code",
   "execution_count": 88,
   "metadata": {},
   "outputs": [
    {
     "data": {
      "text/plain": [
       "GridSearchCV(cv=3, error_score=nan,\n",
       "             estimator=RandomForestRegressor(bootstrap=True, ccp_alpha=0.0,\n",
       "                                             criterion='mse', max_depth=None,\n",
       "                                             max_features='auto',\n",
       "                                             max_leaf_nodes=None,\n",
       "                                             max_samples=None,\n",
       "                                             min_impurity_decrease=0.0,\n",
       "                                             min_impurity_split=None,\n",
       "                                             min_samples_leaf=1,\n",
       "                                             min_samples_split=2,\n",
       "                                             min_weight_fraction_leaf=0.0,\n",
       "                                             n_estimators=100, n_jobs=None,\n",
       "                                             oob_score=False, random_state=None,\n",
       "                                             verbose=0, warm_start=False),\n",
       "             iid='deprecated', n_jobs=-1,\n",
       "             param_grid={'max_depth': [10, 20, 25],\n",
       "                         'min_samples_split': [10, 20, 50],\n",
       "                         'n_estimators': [100, 200, 500]},\n",
       "             pre_dispatch='2*n_jobs', refit=True, return_train_score=False,\n",
       "             scoring=None, verbose=0)"
      ]
     },
     "execution_count": 88,
     "metadata": {},
     "output_type": "execute_result"
    }
   ],
   "source": [
    "grid_search.fit(X_train, y_train)"
   ]
  },
  {
   "cell_type": "code",
   "execution_count": 89,
   "metadata": {},
   "outputs": [
    {
     "data": {
      "text/plain": [
       "{'max_depth': 20, 'min_samples_split': 10, 'n_estimators': 100}"
      ]
     },
     "execution_count": 89,
     "metadata": {},
     "output_type": "execute_result"
    }
   ],
   "source": [
    "grid_search.best_params_"
   ]
  },
  {
   "cell_type": "code",
   "execution_count": 90,
   "metadata": {},
   "outputs": [],
   "source": [
    "rand_for2 = RandomForestRegressor(max_depth = 20,\n",
    "                                min_samples_split = 10,\n",
    "                                n_estimators = 100)"
   ]
  },
  {
   "cell_type": "code",
   "execution_count": 91,
   "metadata": {},
   "outputs": [
    {
     "data": {
      "text/plain": [
       "RandomForestRegressor(bootstrap=True, ccp_alpha=0.0, criterion='mse',\n",
       "                      max_depth=20, max_features='auto', max_leaf_nodes=None,\n",
       "                      max_samples=None, min_impurity_decrease=0.0,\n",
       "                      min_impurity_split=None, min_samples_leaf=1,\n",
       "                      min_samples_split=10, min_weight_fraction_leaf=0.0,\n",
       "                      n_estimators=100, n_jobs=None, oob_score=False,\n",
       "                      random_state=None, verbose=0, warm_start=False)"
      ]
     },
     "execution_count": 91,
     "metadata": {},
     "output_type": "execute_result"
    }
   ],
   "source": [
    "rand_for2.fit(X_train, y_train)"
   ]
  },
  {
   "cell_type": "code",
   "execution_count": 92,
   "metadata": {},
   "outputs": [
    {
     "data": {
      "text/plain": [
       "0.9178996782667653"
      ]
     },
     "execution_count": 92,
     "metadata": {},
     "output_type": "execute_result"
    }
   ],
   "source": [
    "rand_for2.score(X_train, y_train)"
   ]
  },
  {
   "cell_type": "code",
   "execution_count": 93,
   "metadata": {},
   "outputs": [
    {
     "data": {
      "text/plain": [
       "0.8372781762445096"
      ]
     },
     "execution_count": 93,
     "metadata": {},
     "output_type": "execute_result"
    }
   ],
   "source": [
    "rand_for2.score(X_test, y_test)"
   ]
  },
  {
   "cell_type": "code",
   "execution_count": 94,
   "metadata": {},
   "outputs": [],
   "source": [
    "y_pred = rand_for2.predict(X_test)"
   ]
  },
  {
   "cell_type": "code",
   "execution_count": 95,
   "metadata": {},
   "outputs": [],
   "source": [
    "y_pred = pd.Series(y_pred)"
   ]
  },
  {
   "cell_type": "code",
   "execution_count": 96,
   "metadata": {},
   "outputs": [
    {
     "data": {
      "text/plain": [
       "Text(0.5, 1.0, 'Random Forest Regression (Predict LTC with BTC and ETH Prices)')"
      ]
     },
     "execution_count": 96,
     "metadata": {},
     "output_type": "execute_result"
    },
    {
     "data": {
      "image/png": "[encoded data removed]",
      "text/plain": [
       "<Figure size 432x288 with 1 Axes>"
      ]
     },
     "metadata": {},
     "output_type": "display_data"
    }
   ],
   "source": [
    "plt.scatter(y_test, y_pred)\n",
    "plt.xlabel(\"LTC Test\")\n",
    "plt.ylabel(\"LTC Prediction\")\n",
    "plt.title(\"Random Forest Regression (Predict LTC with BTC and ETH Prices)\")"
   ]
  },
  {
   "cell_type": "markdown",
   "metadata": {},
   "source": [
    "Good R-squared for Litecoin with Random Forest.\n",
    "\n",
    "Random Forest is performing well. Keep trying that along with Linear Regression.\n",
    "\n",
    "Model is slightly overfit, but generlized fairly well."
   ]
  },
  {
   "cell_type": "markdown",
   "metadata": {},
   "source": [
    "Next steps is rerun the regressions with singular target variable\n",
    "\n",
    "Throw in volume in next iteration of regression models.\n",
    "\n",
    "VAR takes care of returns regression.\n",
    "\n",
    "Pull out coefficients as basis for trading strategy."
   ]
  },
  {
   "cell_type": "markdown",
   "metadata": {},
   "source": [
    "## Regressions with volume and price"
   ]
  },
  {
   "cell_type": "code",
   "execution_count": 97,
   "metadata": {},
   "outputs": [
    {
     "data": {
      "text/html": [
       "<div>\n",
       "<style scoped>\n",
       "    .dataframe tbody tr th:only-of-type {\n",
       "        vertical-align: middle;\n",
       "    }\n",
       "\n",
       "    .dataframe tbody tr th {\n",
       "        vertical-align: top;\n",
       "    }\n",
       "\n",
       "    .dataframe thead th {\n",
       "        text-align: right;\n",
       "    }\n",
       "</style>\n",
       "<table border=\"1\" class=\"dataframe\">\n",
       "  <thead>\n",
       "    <tr style=\"text-align: right;\">\n",
       "      <th></th>\n",
       "      <th>open_BTC</th>\n",
       "      <th>high_BTC</th>\n",
       "      <th>low_BTC</th>\n",
       "      <th>close_BTC</th>\n",
       "      <th>vwap_BTC</th>\n",
       "      <th>volume_BTC</th>\n",
       "      <th>count_BTC</th>\n",
       "      <th>log_high_BTC</th>\n",
       "      <th>log_low_BTC</th>\n",
       "      <th>log_vwap_BTC</th>\n",
       "      <th>...</th>\n",
       "      <th>count_LTC</th>\n",
       "      <th>log_high_LTC</th>\n",
       "      <th>log_low_LTC</th>\n",
       "      <th>log_vwap_LTC</th>\n",
       "      <th>BTC_daily_return</th>\n",
       "      <th>ETH_daily_return</th>\n",
       "      <th>LTC_daily_return</th>\n",
       "      <th>BTC_log_vwap_return</th>\n",
       "      <th>ETH_log_vwap_return</th>\n",
       "      <th>LTC_log_vwap_return</th>\n",
       "    </tr>\n",
       "    <tr>\n",
       "      <th>dtime</th>\n",
       "      <th></th>\n",
       "      <th></th>\n",
       "      <th></th>\n",
       "      <th></th>\n",
       "      <th></th>\n",
       "      <th></th>\n",
       "      <th></th>\n",
       "      <th></th>\n",
       "      <th></th>\n",
       "      <th></th>\n",
       "      <th></th>\n",
       "      <th></th>\n",
       "      <th></th>\n",
       "      <th></th>\n",
       "      <th></th>\n",
       "      <th></th>\n",
       "      <th></th>\n",
       "      <th></th>\n",
       "      <th></th>\n",
       "      <th></th>\n",
       "      <th></th>\n",
       "    </tr>\n",
       "  </thead>\n",
       "  <tbody>\n",
       "    <tr>\n",
       "      <th>2018-10-13</th>\n",
       "      <td>6192.2</td>\n",
       "      <td>6219.1</td>\n",
       "      <td>6171.7</td>\n",
       "      <td>6197.9</td>\n",
       "      <td>6199.6</td>\n",
       "      <td>922.828331</td>\n",
       "      <td>3614</td>\n",
       "      <td>8.735380</td>\n",
       "      <td>8.727730</td>\n",
       "      <td>8.732240</td>\n",
       "      <td>...</td>\n",
       "      <td>668</td>\n",
       "      <td>3.986759</td>\n",
       "      <td>3.959288</td>\n",
       "      <td>3.970669</td>\n",
       "      <td>NaN</td>\n",
       "      <td>NaN</td>\n",
       "      <td>NaN</td>\n",
       "      <td>NaN</td>\n",
       "      <td>NaN</td>\n",
       "      <td>NaN</td>\n",
       "    </tr>\n",
       "    <tr>\n",
       "      <th>2018-10-14</th>\n",
       "      <td>6197.9</td>\n",
       "      <td>6289.9</td>\n",
       "      <td>6150.0</td>\n",
       "      <td>6181.8</td>\n",
       "      <td>6226.9</td>\n",
       "      <td>1237.100596</td>\n",
       "      <td>5098</td>\n",
       "      <td>8.746700</td>\n",
       "      <td>8.724207</td>\n",
       "      <td>8.736634</td>\n",
       "      <td>...</td>\n",
       "      <td>625</td>\n",
       "      <td>3.976874</td>\n",
       "      <td>3.928880</td>\n",
       "      <td>3.952589</td>\n",
       "      <td>0.004404</td>\n",
       "      <td>-0.006953</td>\n",
       "      <td>-0.017918</td>\n",
       "      <td>0.000503</td>\n",
       "      <td>-0.001321</td>\n",
       "      <td>-0.004553</td>\n",
       "    </tr>\n",
       "    <tr>\n",
       "      <th>2018-10-15</th>\n",
       "      <td>6181.9</td>\n",
       "      <td>6820.0</td>\n",
       "      <td>6151.0</td>\n",
       "      <td>6438.5</td>\n",
       "      <td>6449.8</td>\n",
       "      <td>11345.747326</td>\n",
       "      <td>28535</td>\n",
       "      <td>8.827615</td>\n",
       "      <td>8.724370</td>\n",
       "      <td>8.771804</td>\n",
       "      <td>...</td>\n",
       "      <td>3528</td>\n",
       "      <td>4.061994</td>\n",
       "      <td>3.929077</td>\n",
       "      <td>3.983599</td>\n",
       "      <td>0.035796</td>\n",
       "      <td>0.044667</td>\n",
       "      <td>0.031496</td>\n",
       "      <td>0.004026</td>\n",
       "      <td>0.008282</td>\n",
       "      <td>0.007846</td>\n",
       "    </tr>\n",
       "    <tr>\n",
       "      <th>2018-10-16</th>\n",
       "      <td>6438.5</td>\n",
       "      <td>6490.0</td>\n",
       "      <td>6391.5</td>\n",
       "      <td>6460.4</td>\n",
       "      <td>6441.8</td>\n",
       "      <td>3270.364601</td>\n",
       "      <td>8233</td>\n",
       "      <td>8.778018</td>\n",
       "      <td>8.762724</td>\n",
       "      <td>8.770563</td>\n",
       "      <td>...</td>\n",
       "      <td>702</td>\n",
       "      <td>3.992496</td>\n",
       "      <td>3.961575</td>\n",
       "      <td>3.976874</td>\n",
       "      <td>-0.001240</td>\n",
       "      <td>0.000049</td>\n",
       "      <td>-0.006703</td>\n",
       "      <td>-0.000141</td>\n",
       "      <td>0.000009</td>\n",
       "      <td>-0.001688</td>\n",
       "    </tr>\n",
       "    <tr>\n",
       "      <th>2018-10-17</th>\n",
       "      <td>6460.3</td>\n",
       "      <td>6469.8</td>\n",
       "      <td>6411.9</td>\n",
       "      <td>6442.5</td>\n",
       "      <td>6438.4</td>\n",
       "      <td>1683.992001</td>\n",
       "      <td>5375</td>\n",
       "      <td>8.774900</td>\n",
       "      <td>8.765911</td>\n",
       "      <td>8.770035</td>\n",
       "      <td>...</td>\n",
       "      <td>605</td>\n",
       "      <td>3.974434</td>\n",
       "      <td>3.956996</td>\n",
       "      <td>3.964426</td>\n",
       "      <td>-0.000528</td>\n",
       "      <td>-0.003326</td>\n",
       "      <td>-0.012371</td>\n",
       "      <td>-0.000060</td>\n",
       "      <td>-0.000626</td>\n",
       "      <td>-0.003130</td>\n",
       "    </tr>\n",
       "  </tbody>\n",
       "</table>\n",
       "<p>5 rows × 36 columns</p>\n",
       "</div>"
      ],
      "text/plain": [
       "            open_BTC  high_BTC  low_BTC  close_BTC  vwap_BTC    volume_BTC  \\\n",
       "dtime                                                                        \n",
       "2018-10-13    6192.2    6219.1   6171.7     6197.9    6199.6    922.828331   \n",
       "2018-10-14    6197.9    6289.9   6150.0     6181.8    6226.9   1237.100596   \n",
       "2018-10-15    6181.9    6820.0   6151.0     6438.5    6449.8  11345.747326   \n",
       "2018-10-16    6438.5    6490.0   6391.5     6460.4    6441.8   3270.364601   \n",
       "2018-10-17    6460.3    6469.8   6411.9     6442.5    6438.4   1683.992001   \n",
       "\n",
       "            count_BTC  log_high_BTC  log_low_BTC  log_vwap_BTC  ...  \\\n",
       "dtime                                                           ...   \n",
       "2018-10-13       3614      8.735380     8.727730      8.732240  ...   \n",
       "2018-10-14       5098      8.746700     8.724207      8.736634  ...   \n",
       "2018-10-15      28535      8.827615     8.724370      8.771804  ...   \n",
       "2018-10-16       8233      8.778018     8.762724      8.770563  ...   \n",
       "2018-10-17       5375      8.774900     8.765911      8.770035  ...   \n",
       "\n",
       "            count_LTC  log_high_LTC  log_low_LTC  log_vwap_LTC  \\\n",
       "dtime                                                            \n",
       "2018-10-13        668      3.986759     3.959288      3.970669   \n",
       "2018-10-14        625      3.976874     3.928880      3.952589   \n",
       "2018-10-15       3528      4.061994     3.929077      3.983599   \n",
       "2018-10-16        702      3.992496     3.961575      3.976874   \n",
       "2018-10-17        605      3.974434     3.956996      3.964426   \n",
       "\n",
       "            BTC_daily_return  ETH_daily_return  LTC_daily_return  \\\n",
       "dtime                                                              \n",
       "2018-10-13               NaN               NaN               NaN   \n",
       "2018-10-14          0.004404         -0.006953         -0.017918   \n",
       "2018-10-15          0.035796          0.044667          0.031496   \n",
       "2018-10-16         -0.001240          0.000049         -0.006703   \n",
       "2018-10-17         -0.000528         -0.003326         -0.012371   \n",
       "\n",
       "            BTC_log_vwap_return  ETH_log_vwap_return  LTC_log_vwap_return  \n",
       "dtime                                                                      \n",
       "2018-10-13                  NaN                  NaN                  NaN  \n",
       "2018-10-14             0.000503            -0.001321            -0.004553  \n",
       "2018-10-15             0.004026             0.008282             0.007846  \n",
       "2018-10-16            -0.000141             0.000009            -0.001688  \n",
       "2018-10-17            -0.000060            -0.000626            -0.003130  \n",
       "\n",
       "[5 rows x 36 columns]"
      ]
     },
     "execution_count": 97,
     "metadata": {},
     "output_type": "execute_result"
    }
   ],
   "source": [
    "df_copy.head()"
   ]
  },
  {
   "cell_type": "code",
   "execution_count": 98,
   "metadata": {},
   "outputs": [],
   "source": [
    "prices_vol = df_copy[['vwap_BTC', 'volume_BTC', 'vwap_ETH', 'volume_ETH', 'vwap_LTC', 'volume_LTC']]"
   ]
  },
  {
   "cell_type": "markdown",
   "metadata": {},
   "source": [
    "### ETH ~ BTC + LTC -- Linear Regression"
   ]
  },
  {
   "cell_type": "code",
   "execution_count": 99,
   "metadata": {},
   "outputs": [],
   "source": [
    "X, y = prices_vol[['vwap_BTC', 'vwap_LTC', 'volume_BTC', 'volume_ETH', 'volume_LTC']], prices_vol[['vwap_ETH']]"
   ]
  },
  {
   "cell_type": "code",
   "execution_count": 100,
   "metadata": {},
   "outputs": [],
   "source": [
    "X_train, X_test, y_train, y_test = train_test_split(X, y, test_size = 0.25, random_state = 123)"
   ]
  },
  {
   "cell_type": "code",
   "execution_count": 101,
   "metadata": {},
   "outputs": [],
   "source": [
    "lin_reg_eth_pvol = LinearRegression()"
   ]
  },
  {
   "cell_type": "code",
   "execution_count": 102,
   "metadata": {},
   "outputs": [
    {
     "data": {
      "text/plain": [
       "LinearRegression(copy_X=True, fit_intercept=True, n_jobs=None, normalize=False)"
      ]
     },
     "execution_count": 102,
     "metadata": {},
     "output_type": "execute_result"
    }
   ],
   "source": [
    "lin_reg_eth_pvol.fit(X_train, y_train)"
   ]
  },
  {
   "cell_type": "code",
   "execution_count": 103,
   "metadata": {},
   "outputs": [
    {
     "data": {
      "text/plain": [
       "0.7016417320454958"
      ]
     },
     "execution_count": 103,
     "metadata": {},
     "output_type": "execute_result"
    }
   ],
   "source": [
    "lin_reg_eth_pvol.score(X_train, y_train)"
   ]
  },
  {
   "cell_type": "code",
   "execution_count": 104,
   "metadata": {},
   "outputs": [
    {
     "data": {
      "text/plain": [
       "0.6794094176648986"
      ]
     },
     "execution_count": 104,
     "metadata": {},
     "output_type": "execute_result"
    }
   ],
   "source": [
    "lin_reg_eth_pvol.score(X_test, y_test)"
   ]
  },
  {
   "cell_type": "code",
   "execution_count": 106,
   "metadata": {},
   "outputs": [
    {
     "name": "stdout",
     "output_type": "stream",
     "text": [
      "Coefficients:  [[ 0.02449812  0.0676918  -0.00682478  0.00045069  0.00044825]]\n",
      "Intercept:  [-0.18577543]\n"
     ]
    }
   ],
   "source": [
    "print(\"Coefficients: \", lin_reg_eth_pvol.coef_)\n",
    "print(\"Intercept: \", lin_reg_eth_pvol.intercept_)"
   ]
  },
  {
   "cell_type": "code",
   "execution_count": 107,
   "metadata": {},
   "outputs": [],
   "source": [
    "y_pred = lin_reg_eth_pvol.predict(X_test)"
   ]
  },
  {
   "cell_type": "code",
   "execution_count": 108,
   "metadata": {},
   "outputs": [
    {
     "data": {
      "text/plain": [
       "numpy.ndarray"
      ]
     },
     "execution_count": 108,
     "metadata": {},
     "output_type": "execute_result"
    }
   ],
   "source": [
    "type(y_pred)"
   ]
  },
  {
   "cell_type": "code",
   "execution_count": 109,
   "metadata": {},
   "outputs": [
    {
     "data": {
      "text/plain": [
       "Text(0.5, 1.0, 'Linear Regression - ETH ~ BTC + LTC + Volume')"
      ]
     },
     "execution_count": 109,
     "metadata": {},
     "output_type": "execute_result"
    },
    {
     "data": {
      "image/png": "[encoded data removed]",
      "text/plain": [
       "<Figure size 432x288 with 1 Axes>"
      ]
     },
     "metadata": {},
     "output_type": "display_data"
    }
   ],
   "source": [
    "plt.scatter(y_test, y_pred)\n",
    "plt.xlabel(\"ETH Test\")\n",
    "plt.ylabel(\"ETH Predictions\")\n",
    "plt.title(\"Linear Regression - ETH ~ BTC + LTC + Volume\")"
   ]
  },
  {
   "cell_type": "markdown",
   "metadata": {},
   "source": [
    "Decent model, seems to encapsulate some of the trend. Random Forest will probably perform better."
   ]
  },
  {
   "cell_type": "markdown",
   "metadata": {},
   "source": [
    "### LTC ~ BTC + ETH + Volume Linear Regression"
   ]
  },
  {
   "cell_type": "code",
   "execution_count": 110,
   "metadata": {},
   "outputs": [],
   "source": [
    "X, y = prices_vol[['vwap_BTC', 'vwap_ETH', 'volume_BTC', 'volume_ETH', 'volume_LTC']], prices_vol[['vwap_LTC']]"
   ]
  },
  {
   "cell_type": "code",
   "execution_count": 111,
   "metadata": {},
   "outputs": [],
   "source": [
    "X_train, X_test, y_train, y_test = train_test_split(X, y, test_size = 0.25, random_state = 123)"
   ]
  },
  {
   "cell_type": "code",
   "execution_count": 112,
   "metadata": {},
   "outputs": [],
   "source": [
    "lin_reg_ltc_pvol = LinearRegression()"
   ]
  },
  {
   "cell_type": "code",
   "execution_count": 113,
   "metadata": {},
   "outputs": [
    {
     "data": {
      "text/plain": [
       "LinearRegression(copy_X=True, fit_intercept=True, n_jobs=None, normalize=False)"
      ]
     },
     "execution_count": 113,
     "metadata": {},
     "output_type": "execute_result"
    }
   ],
   "source": [
    "lin_reg_ltc_pvol.fit(X_train, y_train)"
   ]
  },
  {
   "cell_type": "code",
   "execution_count": 114,
   "metadata": {},
   "outputs": [
    {
     "data": {
      "text/plain": [
       "0.2832359209129176"
      ]
     },
     "execution_count": 114,
     "metadata": {},
     "output_type": "execute_result"
    }
   ],
   "source": [
    "lin_reg_ltc_pvol.score(X_train, y_train)"
   ]
  },
  {
   "cell_type": "code",
   "execution_count": 115,
   "metadata": {},
   "outputs": [
    {
     "data": {
      "text/plain": [
       "0.1812358579764538"
      ]
     },
     "execution_count": 115,
     "metadata": {},
     "output_type": "execute_result"
    }
   ],
   "source": [
    "lin_reg_ltc_pvol.score(X_test, y_test)"
   ]
  },
  {
   "cell_type": "code",
   "execution_count": 116,
   "metadata": {},
   "outputs": [
    {
     "name": "stdout",
     "output_type": "stream",
     "text": [
      "Coefficients: [[ 3.24511289e-03  1.55722277e-02 -1.11086954e-04 -3.76119781e-05\n",
      "   2.86322995e-04]]\n"
     ]
    }
   ],
   "source": [
    "print(\"Coefficients:\" ,lin_reg_ltc_pvol.coef_)"
   ]
  },
  {
   "cell_type": "code",
   "execution_count": 117,
   "metadata": {},
   "outputs": [
    {
     "name": "stdout",
     "output_type": "stream",
     "text": [
      "Intercept:  [25.94871047]\n"
     ]
    }
   ],
   "source": [
    "print(\"Intercept: \", lin_reg_ltc_pvol.intercept_)"
   ]
  },
  {
   "cell_type": "code",
   "execution_count": 118,
   "metadata": {},
   "outputs": [],
   "source": [
    "y_pred = lin_reg_ltc_pvol.predict(X_test)"
   ]
  },
  {
   "cell_type": "code",
   "execution_count": 119,
   "metadata": {},
   "outputs": [
    {
     "data": {
      "text/plain": [
       "Text(0.5, 1.0, 'Linear Regression - LTC ~ BTC + ETH + Volume')"
      ]
     },
     "execution_count": 119,
     "metadata": {},
     "output_type": "execute_result"
    },
    {
     "data": {
      "image/png": "[encoded data removed]",
      "text/plain": [
       "<Figure size 432x288 with 1 Axes>"
      ]
     },
     "metadata": {},
     "output_type": "display_data"
    }
   ],
   "source": [
    "plt.scatter(y_test, y_pred)\n",
    "plt.xlabel(\"LTC Test\")\n",
    "plt.ylabel(\"LTC Predictions\")\n",
    "plt.title(\"Linear Regression - LTC ~ BTC + ETH + Volume\")"
   ]
  },
  {
   "cell_type": "markdown",
   "metadata": {},
   "source": [
    "Model is not very predictive. Moving on to Random Forest Models."
   ]
  },
  {
   "cell_type": "markdown",
   "metadata": {},
   "source": [
    "## Random Forest Regressions with Volume"
   ]
  },
  {
   "cell_type": "markdown",
   "metadata": {},
   "source": [
    "### Random Forest - ETH ~ BTC + LTC + Volume"
   ]
  },
  {
   "cell_type": "code",
   "execution_count": 120,
   "metadata": {},
   "outputs": [],
   "source": [
    "rf = RandomForestRegressor()"
   ]
  },
  {
   "cell_type": "code",
   "execution_count": 121,
   "metadata": {},
   "outputs": [],
   "source": [
    "param_grid = {\n",
    "    'n_estimators': [100, 200, 500],\n",
    "    'min_samples_split': [10, 20, 50],\n",
    "    'max_depth': [10, 20, 25],\n",
    "}"
   ]
  },
  {
   "cell_type": "code",
   "execution_count": 122,
   "metadata": {},
   "outputs": [],
   "source": [
    "X, y = prices_vol[['vwap_BTC', 'vwap_LTC', 'volume_BTC', 'volume_ETH', 'volume_LTC']], prices_vol[['vwap_ETH']]"
   ]
  },
  {
   "cell_type": "code",
   "execution_count": 123,
   "metadata": {},
   "outputs": [],
   "source": [
    "X_train, X_test, y_train, y_test = train_test_split(X, y, test_size = 0.25, random_state = 123)"
   ]
  },
  {
   "cell_type": "code",
   "execution_count": 124,
   "metadata": {},
   "outputs": [],
   "source": [
    "grid_search = GridSearchCV(estimator = rf, param_grid = param_grid,\n",
    "                         cv = 3, n_jobs = -1)"
   ]
  },
  {
   "cell_type": "code",
   "execution_count": 125,
   "metadata": {},
   "outputs": [
    {
     "data": {
      "text/plain": [
       "GridSearchCV(cv=3, error_score=nan,\n",
       "             estimator=RandomForestRegressor(bootstrap=True, ccp_alpha=0.0,\n",
       "                                             criterion='mse', max_depth=None,\n",
       "                                             max_features='auto',\n",
       "                                             max_leaf_nodes=None,\n",
       "                                             max_samples=None,\n",
       "                                             min_impurity_decrease=0.0,\n",
       "                                             min_impurity_split=None,\n",
       "                                             min_samples_leaf=1,\n",
       "                                             min_samples_split=2,\n",
       "                                             min_weight_fraction_leaf=0.0,\n",
       "                                             n_estimators=100, n_jobs=None,\n",
       "                                             oob_score=False, random_state=None,\n",
       "                                             verbose=0, warm_start=False),\n",
       "             iid='deprecated', n_jobs=-1,\n",
       "             param_grid={'max_depth': [10, 20, 25],\n",
       "                         'min_samples_split': [10, 20, 50],\n",
       "                         'n_estimators': [100, 200, 500]},\n",
       "             pre_dispatch='2*n_jobs', refit=True, return_train_score=False,\n",
       "             scoring=None, verbose=0)"
      ]
     },
     "execution_count": 125,
     "metadata": {},
     "output_type": "execute_result"
    }
   ],
   "source": [
    "grid_search.fit(X_train, y_train)"
   ]
  },
  {
   "cell_type": "code",
   "execution_count": 126,
   "metadata": {},
   "outputs": [
    {
     "data": {
      "text/plain": [
       "{'max_depth': 25, 'min_samples_split': 10, 'n_estimators': 200}"
      ]
     },
     "execution_count": 126,
     "metadata": {},
     "output_type": "execute_result"
    }
   ],
   "source": [
    "grid_search.best_params_"
   ]
  },
  {
   "cell_type": "code",
   "execution_count": 127,
   "metadata": {},
   "outputs": [],
   "source": [
    "rf_eth_pvol = RandomForestRegressor(max_depth = 25,\n",
    "                                   min_samples_split = 10,\n",
    "                                   n_estimators = 200)"
   ]
  },
  {
   "cell_type": "code",
   "execution_count": 128,
   "metadata": {},
   "outputs": [
    {
     "data": {
      "text/plain": [
       "RandomForestRegressor(bootstrap=True, ccp_alpha=0.0, criterion='mse',\n",
       "                      max_depth=25, max_features='auto', max_leaf_nodes=None,\n",
       "                      max_samples=None, min_impurity_decrease=0.0,\n",
       "                      min_impurity_split=None, min_samples_leaf=1,\n",
       "                      min_samples_split=10, min_weight_fraction_leaf=0.0,\n",
       "                      n_estimators=200, n_jobs=None, oob_score=False,\n",
       "                      random_state=None, verbose=0, warm_start=False)"
      ]
     },
     "execution_count": 128,
     "metadata": {},
     "output_type": "execute_result"
    }
   ],
   "source": [
    "rf_eth_pvol.fit(X_train, y_train)"
   ]
  },
  {
   "cell_type": "code",
   "execution_count": 129,
   "metadata": {},
   "outputs": [
    {
     "data": {
      "text/plain": [
       "0.9796635103113294"
      ]
     },
     "execution_count": 129,
     "metadata": {},
     "output_type": "execute_result"
    }
   ],
   "source": [
    "rf_eth_pvol.score(X_train, y_train)"
   ]
  },
  {
   "cell_type": "code",
   "execution_count": 130,
   "metadata": {},
   "outputs": [
    {
     "data": {
      "text/plain": [
       "0.9616282075693536"
      ]
     },
     "execution_count": 130,
     "metadata": {},
     "output_type": "execute_result"
    }
   ],
   "source": [
    "rf_eth_pvol.score(X_test, y_test)"
   ]
  },
  {
   "cell_type": "code",
   "execution_count": 131,
   "metadata": {},
   "outputs": [],
   "source": [
    "y_pred = rf_eth_pvol.predict(X_test)"
   ]
  },
  {
   "cell_type": "code",
   "execution_count": 132,
   "metadata": {},
   "outputs": [],
   "source": [
    "y_pred = pd.Series(y_pred)"
   ]
  },
  {
   "cell_type": "code",
   "execution_count": 133,
   "metadata": {},
   "outputs": [
    {
     "data": {
      "text/plain": [
       "Text(0.5, 1.0, 'Random Forest Regression - ETH ~ BTC + LTC + Volume')"
      ]
     },
     "execution_count": 133,
     "metadata": {},
     "output_type": "execute_result"
    },
    {
     "data": {
      "image/png": "[encoded data removed]",
      "text/plain": [
       "<Figure size 432x288 with 1 Axes>"
      ]
     },
     "metadata": {},
     "output_type": "display_data"
    }
   ],
   "source": [
    "plt.scatter(y_test, y_pred)\n",
    "plt.xlabel(\"ETH Test\")\n",
    "plt.ylabel(\"ETH Predictions\")\n",
    "plt.title(\"Random Forest Regression - ETH ~ BTC + LTC + Volume\")"
   ]
  },
  {
   "cell_type": "markdown",
   "metadata": {},
   "source": [
    "### Random Forest Regression: LTC ~ BTC + ETH + Volume"
   ]
  },
  {
   "cell_type": "code",
   "execution_count": 134,
   "metadata": {},
   "outputs": [],
   "source": [
    "rf = RandomForestRegressor()"
   ]
  },
  {
   "cell_type": "code",
   "execution_count": 135,
   "metadata": {},
   "outputs": [],
   "source": [
    "param_grid = {\n",
    "    'n_estimators': [100, 200, 500],\n",
    "    'min_samples_split': [10, 20, 50],\n",
    "    'max_depth': [10, 20, 25],\n",
    "}"
   ]
  },
  {
   "cell_type": "code",
   "execution_count": 136,
   "metadata": {},
   "outputs": [],
   "source": [
    "X, y = prices_vol[['vwap_BTC', 'vwap_ETH', 'volume_BTC', 'volume_ETH', 'volume_LTC']], prices_vol[['vwap_LTC']]"
   ]
  },
  {
   "cell_type": "code",
   "execution_count": 137,
   "metadata": {},
   "outputs": [],
   "source": [
    "X_train, X_test, y_train, y_test = train_test_split(X, y, test_size = 0.25, random_state = 123)"
   ]
  },
  {
   "cell_type": "code",
   "execution_count": 138,
   "metadata": {},
   "outputs": [],
   "source": [
    "grid_search = GridSearchCV(estimator = rf, param_grid = param_grid,\n",
    "                         cv = 3, n_jobs = -1)"
   ]
  },
  {
   "cell_type": "code",
   "execution_count": 139,
   "metadata": {},
   "outputs": [
    {
     "data": {
      "text/plain": [
       "GridSearchCV(cv=3, error_score=nan,\n",
       "             estimator=RandomForestRegressor(bootstrap=True, ccp_alpha=0.0,\n",
       "                                             criterion='mse', max_depth=None,\n",
       "                                             max_features='auto',\n",
       "                                             max_leaf_nodes=None,\n",
       "                                             max_samples=None,\n",
       "                                             min_impurity_decrease=0.0,\n",
       "                                             min_impurity_split=None,\n",
       "                                             min_samples_leaf=1,\n",
       "                                             min_samples_split=2,\n",
       "                                             min_weight_fraction_leaf=0.0,\n",
       "                                             n_estimators=100, n_jobs=None,\n",
       "                                             oob_score=False, random_state=None,\n",
       "                                             verbose=0, warm_start=False),\n",
       "             iid='deprecated', n_jobs=-1,\n",
       "             param_grid={'max_depth': [10, 20, 25],\n",
       "                         'min_samples_split': [10, 20, 50],\n",
       "                         'n_estimators': [100, 200, 500]},\n",
       "             pre_dispatch='2*n_jobs', refit=True, return_train_score=False,\n",
       "             scoring=None, verbose=0)"
      ]
     },
     "execution_count": 139,
     "metadata": {},
     "output_type": "execute_result"
    }
   ],
   "source": [
    "grid_search.fit(X_train, y_train)"
   ]
  },
  {
   "cell_type": "code",
   "execution_count": 140,
   "metadata": {},
   "outputs": [
    {
     "data": {
      "text/plain": [
       "{'max_depth': 10, 'min_samples_split': 10, 'n_estimators': 100}"
      ]
     },
     "execution_count": 140,
     "metadata": {},
     "output_type": "execute_result"
    }
   ],
   "source": [
    "grid_search.best_params_"
   ]
  },
  {
   "cell_type": "code",
   "execution_count": 141,
   "metadata": {},
   "outputs": [],
   "source": [
    "rf_ltc_pvol = RandomForestRegressor(max_depth = 10,\n",
    "                                   min_samples_split = 10,\n",
    "                                   n_estimators = 100)"
   ]
  },
  {
   "cell_type": "code",
   "execution_count": 142,
   "metadata": {},
   "outputs": [
    {
     "data": {
      "text/plain": [
       "RandomForestRegressor(bootstrap=True, ccp_alpha=0.0, criterion='mse',\n",
       "                      max_depth=10, max_features='auto', max_leaf_nodes=None,\n",
       "                      max_samples=None, min_impurity_decrease=0.0,\n",
       "                      min_impurity_split=None, min_samples_leaf=1,\n",
       "                      min_samples_split=10, min_weight_fraction_leaf=0.0,\n",
       "                      n_estimators=100, n_jobs=None, oob_score=False,\n",
       "                      random_state=None, verbose=0, warm_start=False)"
      ]
     },
     "execution_count": 142,
     "metadata": {},
     "output_type": "execute_result"
    }
   ],
   "source": [
    "rf_ltc_pvol.fit(X_train, y_train)"
   ]
  },
  {
   "cell_type": "code",
   "execution_count": 143,
   "metadata": {},
   "outputs": [
    {
     "data": {
      "text/plain": [
       "0.9255226854388267"
      ]
     },
     "execution_count": 143,
     "metadata": {},
     "output_type": "execute_result"
    }
   ],
   "source": [
    "rf_ltc_pvol.score(X_train, y_train)"
   ]
  },
  {
   "cell_type": "code",
   "execution_count": 144,
   "metadata": {},
   "outputs": [
    {
     "data": {
      "text/plain": [
       "0.7755685725596397"
      ]
     },
     "execution_count": 144,
     "metadata": {},
     "output_type": "execute_result"
    }
   ],
   "source": [
    "rf_ltc_pvol.score(X_test, y_test)"
   ]
  },
  {
   "cell_type": "code",
   "execution_count": 159,
   "metadata": {},
   "outputs": [],
   "source": [
    "y_pred = rf_ltc_pvol.predict(X_test)"
   ]
  },
  {
   "cell_type": "code",
   "execution_count": 145,
   "metadata": {},
   "outputs": [],
   "source": [
    "y_pred = pd.Series(y_pred)"
   ]
  },
  {
   "cell_type": "code",
   "execution_count": 146,
   "metadata": {},
   "outputs": [
    {
     "data": {
      "text/plain": [
       "Text(0.5, 1.0, 'Random Forest Regression - LTC ~ BTC + ETH + Volume')"
      ]
     },
     "execution_count": 146,
     "metadata": {},
     "output_type": "execute_result"
    },
    {
     "data": {
      "image/png": "[encoded data removed]",
      "text/plain": [
       "<Figure size 432x288 with 1 Axes>"
      ]
     },
     "metadata": {},
     "output_type": "display_data"
    }
   ],
   "source": [
    "plt.scatter(y_test, y_pred)\n",
    "plt.xlabel(\"LTC Test\")\n",
    "plt.ylabel(\"LTC Predictions\")\n",
    "plt.title(\"Random Forest Regression - LTC ~ BTC + ETH + Volume\")"
   ]
  },
  {
   "cell_type": "code",
   "execution_count": null,
   "metadata": {},
   "outputs": [],
   "source": []
  }
 ],
 "metadata": {
  "kernelspec": {
   "display_name": "Python 3",
   "language": "python",
   "name": "python3"
  },
  "language_info": {
   "codemirror_mode": {
    "name": "ipython",
    "version": 3
   },
   "file_extension": ".py",
   "mimetype": "text/x-python",
   "name": "python",
   "nbconvert_exporter": "python",
   "pygments_lexer": "ipython3",
   "version": "3.7.6"
  }
 },
 "nbformat": 4,
 "nbformat_minor": 4
}
