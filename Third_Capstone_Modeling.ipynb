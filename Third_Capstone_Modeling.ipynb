{
 "cells": [
  {
   "cell_type": "code",
   "execution_count": 1,
   "metadata": {},
   "outputs": [],
   "source": [
    "import pandas as pd\n",
    "import numpy as np\n",
    "import matplotlib.pyplot as plt\n",
    "import time\n",
    "import datetime\n",
    "\n",
    "%matplotlib inline"
   ]
  },
  {
   "cell_type": "code",
   "execution_count": 2,
   "metadata": {},
   "outputs": [],
   "source": [
    "df_raw = pd.read_csv('crypto_prices.csv')"
   ]
  },
  {
   "cell_type": "code",
   "execution_count": 6,
   "metadata": {},
   "outputs": [],
   "source": [
    "#df_raw.set_index(\"dtime\", inplace = True)\n",
    "#df_raw = df_raw.reindex(index=df_raw.index[::-1])\n",
    "#df_raw = df_raw.drop(columns = ['time'])"
   ]
  },
  {
   "cell_type": "code",
   "execution_count": 7,
   "metadata": {},
   "outputs": [
    {
     "data": {
      "text/html": [
       "<div>\n",
       "<style scoped>\n",
       "    .dataframe tbody tr th:only-of-type {\n",
       "        vertical-align: middle;\n",
       "    }\n",
       "\n",
       "    .dataframe tbody tr th {\n",
       "        vertical-align: top;\n",
       "    }\n",
       "\n",
       "    .dataframe thead th {\n",
       "        text-align: right;\n",
       "    }\n",
       "</style>\n",
       "<table border=\"1\" class=\"dataframe\">\n",
       "  <thead>\n",
       "    <tr style=\"text-align: right;\">\n",
       "      <th></th>\n",
       "      <th>open_BTC</th>\n",
       "      <th>high_BTC</th>\n",
       "      <th>low_BTC</th>\n",
       "      <th>close_BTC</th>\n",
       "      <th>vwap_BTC</th>\n",
       "      <th>volume_BTC</th>\n",
       "      <th>count_BTC</th>\n",
       "      <th>log_high_BTC</th>\n",
       "      <th>log_low_BTC</th>\n",
       "      <th>log_vwap_BTC</th>\n",
       "      <th>...</th>\n",
       "      <th>open_LTC</th>\n",
       "      <th>high_LTC</th>\n",
       "      <th>low_LTC</th>\n",
       "      <th>close_LTC</th>\n",
       "      <th>vwap_LTC</th>\n",
       "      <th>volume_LTC</th>\n",
       "      <th>count_LTC</th>\n",
       "      <th>log_high_LTC</th>\n",
       "      <th>log_low_LTC</th>\n",
       "      <th>log_vwap_LTC</th>\n",
       "    </tr>\n",
       "    <tr>\n",
       "      <th>dtime</th>\n",
       "      <th></th>\n",
       "      <th></th>\n",
       "      <th></th>\n",
       "      <th></th>\n",
       "      <th></th>\n",
       "      <th></th>\n",
       "      <th></th>\n",
       "      <th></th>\n",
       "      <th></th>\n",
       "      <th></th>\n",
       "      <th></th>\n",
       "      <th></th>\n",
       "      <th></th>\n",
       "      <th></th>\n",
       "      <th></th>\n",
       "      <th></th>\n",
       "      <th></th>\n",
       "      <th></th>\n",
       "      <th></th>\n",
       "      <th></th>\n",
       "      <th></th>\n",
       "    </tr>\n",
       "  </thead>\n",
       "  <tbody>\n",
       "    <tr>\n",
       "      <th>2018-10-13</th>\n",
       "      <td>6192.2</td>\n",
       "      <td>6219.1</td>\n",
       "      <td>6171.7</td>\n",
       "      <td>6197.9</td>\n",
       "      <td>6199.6</td>\n",
       "      <td>922.828331</td>\n",
       "      <td>3614</td>\n",
       "      <td>8.735380</td>\n",
       "      <td>8.727730</td>\n",
       "      <td>8.732240</td>\n",
       "      <td>...</td>\n",
       "      <td>52.84</td>\n",
       "      <td>53.88</td>\n",
       "      <td>52.42</td>\n",
       "      <td>52.84</td>\n",
       "      <td>53.02</td>\n",
       "      <td>5258.671260</td>\n",
       "      <td>668</td>\n",
       "      <td>3.986759</td>\n",
       "      <td>3.959288</td>\n",
       "      <td>3.970669</td>\n",
       "    </tr>\n",
       "    <tr>\n",
       "      <th>2018-10-14</th>\n",
       "      <td>6197.9</td>\n",
       "      <td>6289.9</td>\n",
       "      <td>6150.0</td>\n",
       "      <td>6181.8</td>\n",
       "      <td>6226.9</td>\n",
       "      <td>1237.100596</td>\n",
       "      <td>5098</td>\n",
       "      <td>8.746700</td>\n",
       "      <td>8.724207</td>\n",
       "      <td>8.736634</td>\n",
       "      <td>...</td>\n",
       "      <td>52.84</td>\n",
       "      <td>53.35</td>\n",
       "      <td>50.85</td>\n",
       "      <td>51.14</td>\n",
       "      <td>52.07</td>\n",
       "      <td>5024.065251</td>\n",
       "      <td>625</td>\n",
       "      <td>3.976874</td>\n",
       "      <td>3.928880</td>\n",
       "      <td>3.952589</td>\n",
       "    </tr>\n",
       "    <tr>\n",
       "      <th>2018-10-15</th>\n",
       "      <td>6181.9</td>\n",
       "      <td>6820.0</td>\n",
       "      <td>6151.0</td>\n",
       "      <td>6438.5</td>\n",
       "      <td>6449.8</td>\n",
       "      <td>11345.747326</td>\n",
       "      <td>28535</td>\n",
       "      <td>8.827615</td>\n",
       "      <td>8.724370</td>\n",
       "      <td>8.771804</td>\n",
       "      <td>...</td>\n",
       "      <td>51.14</td>\n",
       "      <td>58.09</td>\n",
       "      <td>50.86</td>\n",
       "      <td>53.48</td>\n",
       "      <td>53.71</td>\n",
       "      <td>38150.198318</td>\n",
       "      <td>3528</td>\n",
       "      <td>4.061994</td>\n",
       "      <td>3.929077</td>\n",
       "      <td>3.983599</td>\n",
       "    </tr>\n",
       "    <tr>\n",
       "      <th>2018-10-16</th>\n",
       "      <td>6438.5</td>\n",
       "      <td>6490.0</td>\n",
       "      <td>6391.5</td>\n",
       "      <td>6460.4</td>\n",
       "      <td>6441.8</td>\n",
       "      <td>3270.364601</td>\n",
       "      <td>8233</td>\n",
       "      <td>8.778018</td>\n",
       "      <td>8.762724</td>\n",
       "      <td>8.770563</td>\n",
       "      <td>...</td>\n",
       "      <td>53.48</td>\n",
       "      <td>54.19</td>\n",
       "      <td>52.54</td>\n",
       "      <td>53.10</td>\n",
       "      <td>53.35</td>\n",
       "      <td>11349.662323</td>\n",
       "      <td>702</td>\n",
       "      <td>3.992496</td>\n",
       "      <td>3.961575</td>\n",
       "      <td>3.976874</td>\n",
       "    </tr>\n",
       "    <tr>\n",
       "      <th>2018-10-17</th>\n",
       "      <td>6460.3</td>\n",
       "      <td>6469.8</td>\n",
       "      <td>6411.9</td>\n",
       "      <td>6442.5</td>\n",
       "      <td>6438.4</td>\n",
       "      <td>1683.992001</td>\n",
       "      <td>5375</td>\n",
       "      <td>8.774900</td>\n",
       "      <td>8.765911</td>\n",
       "      <td>8.770035</td>\n",
       "      <td>...</td>\n",
       "      <td>53.10</td>\n",
       "      <td>53.22</td>\n",
       "      <td>52.30</td>\n",
       "      <td>52.93</td>\n",
       "      <td>52.69</td>\n",
       "      <td>4882.802936</td>\n",
       "      <td>605</td>\n",
       "      <td>3.974434</td>\n",
       "      <td>3.956996</td>\n",
       "      <td>3.964426</td>\n",
       "    </tr>\n",
       "  </tbody>\n",
       "</table>\n",
       "<p>5 rows × 30 columns</p>\n",
       "</div>"
      ],
      "text/plain": [
       "            open_BTC  high_BTC  low_BTC  close_BTC  vwap_BTC    volume_BTC  \\\n",
       "dtime                                                                        \n",
       "2018-10-13    6192.2    6219.1   6171.7     6197.9    6199.6    922.828331   \n",
       "2018-10-14    6197.9    6289.9   6150.0     6181.8    6226.9   1237.100596   \n",
       "2018-10-15    6181.9    6820.0   6151.0     6438.5    6449.8  11345.747326   \n",
       "2018-10-16    6438.5    6490.0   6391.5     6460.4    6441.8   3270.364601   \n",
       "2018-10-17    6460.3    6469.8   6411.9     6442.5    6438.4   1683.992001   \n",
       "\n",
       "            count_BTC  log_high_BTC  log_low_BTC  log_vwap_BTC  ...  open_LTC  \\\n",
       "dtime                                                           ...             \n",
       "2018-10-13       3614      8.735380     8.727730      8.732240  ...     52.84   \n",
       "2018-10-14       5098      8.746700     8.724207      8.736634  ...     52.84   \n",
       "2018-10-15      28535      8.827615     8.724370      8.771804  ...     51.14   \n",
       "2018-10-16       8233      8.778018     8.762724      8.770563  ...     53.48   \n",
       "2018-10-17       5375      8.774900     8.765911      8.770035  ...     53.10   \n",
       "\n",
       "            high_LTC  low_LTC  close_LTC  vwap_LTC    volume_LTC  count_LTC  \\\n",
       "dtime                                                                         \n",
       "2018-10-13     53.88    52.42      52.84     53.02   5258.671260        668   \n",
       "2018-10-14     53.35    50.85      51.14     52.07   5024.065251        625   \n",
       "2018-10-15     58.09    50.86      53.48     53.71  38150.198318       3528   \n",
       "2018-10-16     54.19    52.54      53.10     53.35  11349.662323        702   \n",
       "2018-10-17     53.22    52.30      52.93     52.69   4882.802936        605   \n",
       "\n",
       "            log_high_LTC  log_low_LTC  log_vwap_LTC  \n",
       "dtime                                                \n",
       "2018-10-13      3.986759     3.959288      3.970669  \n",
       "2018-10-14      3.976874     3.928880      3.952589  \n",
       "2018-10-15      4.061994     3.929077      3.983599  \n",
       "2018-10-16      3.992496     3.961575      3.976874  \n",
       "2018-10-17      3.974434     3.956996      3.964426  \n",
       "\n",
       "[5 rows x 30 columns]"
      ]
     },
     "execution_count": 7,
     "metadata": {},
     "output_type": "execute_result"
    }
   ],
   "source": [
    "df_raw.head()"
   ]
  },
  {
   "cell_type": "code",
   "execution_count": 8,
   "metadata": {},
   "outputs": [],
   "source": [
    "df_copy = df_raw.copy()"
   ]
  },
  {
   "cell_type": "code",
   "execution_count": 9,
   "metadata": {},
   "outputs": [
    {
     "data": {
      "text/html": [
       "<div>\n",
       "<style scoped>\n",
       "    .dataframe tbody tr th:only-of-type {\n",
       "        vertical-align: middle;\n",
       "    }\n",
       "\n",
       "    .dataframe tbody tr th {\n",
       "        vertical-align: top;\n",
       "    }\n",
       "\n",
       "    .dataframe thead th {\n",
       "        text-align: right;\n",
       "    }\n",
       "</style>\n",
       "<table border=\"1\" class=\"dataframe\">\n",
       "  <thead>\n",
       "    <tr style=\"text-align: right;\">\n",
       "      <th></th>\n",
       "      <th>open_BTC</th>\n",
       "      <th>high_BTC</th>\n",
       "      <th>low_BTC</th>\n",
       "      <th>close_BTC</th>\n",
       "      <th>vwap_BTC</th>\n",
       "      <th>volume_BTC</th>\n",
       "      <th>count_BTC</th>\n",
       "      <th>log_high_BTC</th>\n",
       "      <th>log_low_BTC</th>\n",
       "      <th>log_vwap_BTC</th>\n",
       "      <th>...</th>\n",
       "      <th>open_LTC</th>\n",
       "      <th>high_LTC</th>\n",
       "      <th>low_LTC</th>\n",
       "      <th>close_LTC</th>\n",
       "      <th>vwap_LTC</th>\n",
       "      <th>volume_LTC</th>\n",
       "      <th>count_LTC</th>\n",
       "      <th>log_high_LTC</th>\n",
       "      <th>log_low_LTC</th>\n",
       "      <th>log_vwap_LTC</th>\n",
       "    </tr>\n",
       "    <tr>\n",
       "      <th>dtime</th>\n",
       "      <th></th>\n",
       "      <th></th>\n",
       "      <th></th>\n",
       "      <th></th>\n",
       "      <th></th>\n",
       "      <th></th>\n",
       "      <th></th>\n",
       "      <th></th>\n",
       "      <th></th>\n",
       "      <th></th>\n",
       "      <th></th>\n",
       "      <th></th>\n",
       "      <th></th>\n",
       "      <th></th>\n",
       "      <th></th>\n",
       "      <th></th>\n",
       "      <th></th>\n",
       "      <th></th>\n",
       "      <th></th>\n",
       "      <th></th>\n",
       "      <th></th>\n",
       "    </tr>\n",
       "  </thead>\n",
       "  <tbody>\n",
       "    <tr>\n",
       "      <th>2018-10-13</th>\n",
       "      <td>6192.2</td>\n",
       "      <td>6219.1</td>\n",
       "      <td>6171.7</td>\n",
       "      <td>6197.9</td>\n",
       "      <td>6199.6</td>\n",
       "      <td>922.828331</td>\n",
       "      <td>3614</td>\n",
       "      <td>8.735380</td>\n",
       "      <td>8.727730</td>\n",
       "      <td>8.732240</td>\n",
       "      <td>...</td>\n",
       "      <td>52.84</td>\n",
       "      <td>53.88</td>\n",
       "      <td>52.42</td>\n",
       "      <td>52.84</td>\n",
       "      <td>53.02</td>\n",
       "      <td>5258.671260</td>\n",
       "      <td>668</td>\n",
       "      <td>3.986759</td>\n",
       "      <td>3.959288</td>\n",
       "      <td>3.970669</td>\n",
       "    </tr>\n",
       "    <tr>\n",
       "      <th>2018-10-14</th>\n",
       "      <td>6197.9</td>\n",
       "      <td>6289.9</td>\n",
       "      <td>6150.0</td>\n",
       "      <td>6181.8</td>\n",
       "      <td>6226.9</td>\n",
       "      <td>1237.100596</td>\n",
       "      <td>5098</td>\n",
       "      <td>8.746700</td>\n",
       "      <td>8.724207</td>\n",
       "      <td>8.736634</td>\n",
       "      <td>...</td>\n",
       "      <td>52.84</td>\n",
       "      <td>53.35</td>\n",
       "      <td>50.85</td>\n",
       "      <td>51.14</td>\n",
       "      <td>52.07</td>\n",
       "      <td>5024.065251</td>\n",
       "      <td>625</td>\n",
       "      <td>3.976874</td>\n",
       "      <td>3.928880</td>\n",
       "      <td>3.952589</td>\n",
       "    </tr>\n",
       "    <tr>\n",
       "      <th>2018-10-15</th>\n",
       "      <td>6181.9</td>\n",
       "      <td>6820.0</td>\n",
       "      <td>6151.0</td>\n",
       "      <td>6438.5</td>\n",
       "      <td>6449.8</td>\n",
       "      <td>11345.747326</td>\n",
       "      <td>28535</td>\n",
       "      <td>8.827615</td>\n",
       "      <td>8.724370</td>\n",
       "      <td>8.771804</td>\n",
       "      <td>...</td>\n",
       "      <td>51.14</td>\n",
       "      <td>58.09</td>\n",
       "      <td>50.86</td>\n",
       "      <td>53.48</td>\n",
       "      <td>53.71</td>\n",
       "      <td>38150.198318</td>\n",
       "      <td>3528</td>\n",
       "      <td>4.061994</td>\n",
       "      <td>3.929077</td>\n",
       "      <td>3.983599</td>\n",
       "    </tr>\n",
       "    <tr>\n",
       "      <th>2018-10-16</th>\n",
       "      <td>6438.5</td>\n",
       "      <td>6490.0</td>\n",
       "      <td>6391.5</td>\n",
       "      <td>6460.4</td>\n",
       "      <td>6441.8</td>\n",
       "      <td>3270.364601</td>\n",
       "      <td>8233</td>\n",
       "      <td>8.778018</td>\n",
       "      <td>8.762724</td>\n",
       "      <td>8.770563</td>\n",
       "      <td>...</td>\n",
       "      <td>53.48</td>\n",
       "      <td>54.19</td>\n",
       "      <td>52.54</td>\n",
       "      <td>53.10</td>\n",
       "      <td>53.35</td>\n",
       "      <td>11349.662323</td>\n",
       "      <td>702</td>\n",
       "      <td>3.992496</td>\n",
       "      <td>3.961575</td>\n",
       "      <td>3.976874</td>\n",
       "    </tr>\n",
       "    <tr>\n",
       "      <th>2018-10-17</th>\n",
       "      <td>6460.3</td>\n",
       "      <td>6469.8</td>\n",
       "      <td>6411.9</td>\n",
       "      <td>6442.5</td>\n",
       "      <td>6438.4</td>\n",
       "      <td>1683.992001</td>\n",
       "      <td>5375</td>\n",
       "      <td>8.774900</td>\n",
       "      <td>8.765911</td>\n",
       "      <td>8.770035</td>\n",
       "      <td>...</td>\n",
       "      <td>53.10</td>\n",
       "      <td>53.22</td>\n",
       "      <td>52.30</td>\n",
       "      <td>52.93</td>\n",
       "      <td>52.69</td>\n",
       "      <td>4882.802936</td>\n",
       "      <td>605</td>\n",
       "      <td>3.974434</td>\n",
       "      <td>3.956996</td>\n",
       "      <td>3.964426</td>\n",
       "    </tr>\n",
       "  </tbody>\n",
       "</table>\n",
       "<p>5 rows × 30 columns</p>\n",
       "</div>"
      ],
      "text/plain": [
       "            open_BTC  high_BTC  low_BTC  close_BTC  vwap_BTC    volume_BTC  \\\n",
       "dtime                                                                        \n",
       "2018-10-13    6192.2    6219.1   6171.7     6197.9    6199.6    922.828331   \n",
       "2018-10-14    6197.9    6289.9   6150.0     6181.8    6226.9   1237.100596   \n",
       "2018-10-15    6181.9    6820.0   6151.0     6438.5    6449.8  11345.747326   \n",
       "2018-10-16    6438.5    6490.0   6391.5     6460.4    6441.8   3270.364601   \n",
       "2018-10-17    6460.3    6469.8   6411.9     6442.5    6438.4   1683.992001   \n",
       "\n",
       "            count_BTC  log_high_BTC  log_low_BTC  log_vwap_BTC  ...  open_LTC  \\\n",
       "dtime                                                           ...             \n",
       "2018-10-13       3614      8.735380     8.727730      8.732240  ...     52.84   \n",
       "2018-10-14       5098      8.746700     8.724207      8.736634  ...     52.84   \n",
       "2018-10-15      28535      8.827615     8.724370      8.771804  ...     51.14   \n",
       "2018-10-16       8233      8.778018     8.762724      8.770563  ...     53.48   \n",
       "2018-10-17       5375      8.774900     8.765911      8.770035  ...     53.10   \n",
       "\n",
       "            high_LTC  low_LTC  close_LTC  vwap_LTC    volume_LTC  count_LTC  \\\n",
       "dtime                                                                         \n",
       "2018-10-13     53.88    52.42      52.84     53.02   5258.671260        668   \n",
       "2018-10-14     53.35    50.85      51.14     52.07   5024.065251        625   \n",
       "2018-10-15     58.09    50.86      53.48     53.71  38150.198318       3528   \n",
       "2018-10-16     54.19    52.54      53.10     53.35  11349.662323        702   \n",
       "2018-10-17     53.22    52.30      52.93     52.69   4882.802936        605   \n",
       "\n",
       "            log_high_LTC  log_low_LTC  log_vwap_LTC  \n",
       "dtime                                                \n",
       "2018-10-13      3.986759     3.959288      3.970669  \n",
       "2018-10-14      3.976874     3.928880      3.952589  \n",
       "2018-10-15      4.061994     3.929077      3.983599  \n",
       "2018-10-16      3.992496     3.961575      3.976874  \n",
       "2018-10-17      3.974434     3.956996      3.964426  \n",
       "\n",
       "[5 rows x 30 columns]"
      ]
     },
     "execution_count": 9,
     "metadata": {},
     "output_type": "execute_result"
    }
   ],
   "source": [
    "df_copy.head()"
   ]
  },
  {
   "cell_type": "code",
   "execution_count": 10,
   "metadata": {},
   "outputs": [
    {
     "data": {
      "text/plain": [
       "open_BTC        0\n",
       "high_BTC        0\n",
       "low_BTC         0\n",
       "close_BTC       0\n",
       "vwap_BTC        0\n",
       "volume_BTC      0\n",
       "count_BTC       0\n",
       "log_high_BTC    0\n",
       "log_low_BTC     0\n",
       "log_vwap_BTC    0\n",
       "open_ETH        0\n",
       "high_ETH        0\n",
       "low_ETH         0\n",
       "close_ETH       0\n",
       "vwap_ETH        0\n",
       "volume_ETH      0\n",
       "count_ETH       0\n",
       "log_high_ETH    0\n",
       "log_low_ETH     0\n",
       "log_vwap_ETH    0\n",
       "open_LTC        0\n",
       "high_LTC        0\n",
       "low_LTC         0\n",
       "close_LTC       0\n",
       "vwap_LTC        0\n",
       "volume_LTC      0\n",
       "count_LTC       0\n",
       "log_high_LTC    0\n",
       "log_low_LTC     0\n",
       "log_vwap_LTC    0\n",
       "dtype: int64"
      ]
     },
     "execution_count": 10,
     "metadata": {},
     "output_type": "execute_result"
    }
   ],
   "source": [
    "df_copy.isna().sum()"
   ]
  },
  {
   "cell_type": "markdown",
   "metadata": {},
   "source": [
    "---"
   ]
  },
  {
   "cell_type": "markdown",
   "metadata": {},
   "source": [
    "### Data Preprocessing"
   ]
  },
  {
   "cell_type": "code",
   "execution_count": 12,
   "metadata": {},
   "outputs": [],
   "source": [
    "# Creating daily returns columns for daily VWAP return\n",
    "df_copy['BTC_daily_return'] = df_copy['vwap_BTC'].pct_change()\n",
    "df_copy['ETH_daily_return'] = df_copy['vwap_ETH'].pct_change()\n",
    "df_copy['LTC_daily_return'] = df_copy['vwap_LTC'].pct_change()"
   ]
  },
  {
   "cell_type": "code",
   "execution_count": 13,
   "metadata": {},
   "outputs": [],
   "source": [
    "# Doing a log transformation of daily returns column for daily VWAP return\n",
    "df_copy['BTC_log_vwap_return'] = df_copy['log_vwap_BTC'].pct_change()\n",
    "df_copy['ETH_log_vwap_return'] = df_copy['log_vwap_ETH'].pct_change()\n",
    "df_copy['LTC_log_vwap_return'] = df_copy['log_vwap_LTC'].pct_change()"
   ]
  },
  {
   "cell_type": "code",
   "execution_count": 14,
   "metadata": {},
   "outputs": [],
   "source": [
    "# Creating a test split\n",
    "# Talk to Blake about this.\n",
    "\n",
    "'''\n",
    "Choice depends on how you set up target\n",
    "\n",
    "Non-trivial.\n",
    "\n",
    "\n",
    "'''\n",
    "# Split for Time-Series modeling, use a train_test_split for the regregression\n",
    "size = int(len(df_copy) * 0.8)"
   ]
  },
  {
   "cell_type": "code",
   "execution_count": 15,
   "metadata": {},
   "outputs": [],
   "source": [
    "df = df_copy.iloc[:size]"
   ]
  },
  {
   "cell_type": "code",
   "execution_count": 16,
   "metadata": {},
   "outputs": [],
   "source": [
    "df_test = df_copy.iloc[size:]"
   ]
  },
  {
   "cell_type": "code",
   "execution_count": 17,
   "metadata": {
    "scrolled": true
   },
   "outputs": [
    {
     "data": {
      "text/html": [
       "<div>\n",
       "<style scoped>\n",
       "    .dataframe tbody tr th:only-of-type {\n",
       "        vertical-align: middle;\n",
       "    }\n",
       "\n",
       "    .dataframe tbody tr th {\n",
       "        vertical-align: top;\n",
       "    }\n",
       "\n",
       "    .dataframe thead th {\n",
       "        text-align: right;\n",
       "    }\n",
       "</style>\n",
       "<table border=\"1\" class=\"dataframe\">\n",
       "  <thead>\n",
       "    <tr style=\"text-align: right;\">\n",
       "      <th></th>\n",
       "      <th>open_BTC</th>\n",
       "      <th>high_BTC</th>\n",
       "      <th>low_BTC</th>\n",
       "      <th>close_BTC</th>\n",
       "      <th>vwap_BTC</th>\n",
       "      <th>volume_BTC</th>\n",
       "      <th>count_BTC</th>\n",
       "      <th>log_high_BTC</th>\n",
       "      <th>log_low_BTC</th>\n",
       "      <th>log_vwap_BTC</th>\n",
       "      <th>...</th>\n",
       "      <th>count_LTC</th>\n",
       "      <th>log_high_LTC</th>\n",
       "      <th>log_low_LTC</th>\n",
       "      <th>log_vwap_LTC</th>\n",
       "      <th>BTC_daily_return</th>\n",
       "      <th>ETH_daily_return</th>\n",
       "      <th>LTC_daily_return</th>\n",
       "      <th>BTC_log_vwap_return</th>\n",
       "      <th>ETH_log_vwap_return</th>\n",
       "      <th>LTC_log_vwap_return</th>\n",
       "    </tr>\n",
       "    <tr>\n",
       "      <th>dtime</th>\n",
       "      <th></th>\n",
       "      <th></th>\n",
       "      <th></th>\n",
       "      <th></th>\n",
       "      <th></th>\n",
       "      <th></th>\n",
       "      <th></th>\n",
       "      <th></th>\n",
       "      <th></th>\n",
       "      <th></th>\n",
       "      <th></th>\n",
       "      <th></th>\n",
       "      <th></th>\n",
       "      <th></th>\n",
       "      <th></th>\n",
       "      <th></th>\n",
       "      <th></th>\n",
       "      <th></th>\n",
       "      <th></th>\n",
       "      <th></th>\n",
       "      <th></th>\n",
       "    </tr>\n",
       "  </thead>\n",
       "  <tbody>\n",
       "    <tr>\n",
       "      <th>2018-10-13</th>\n",
       "      <td>6192.2</td>\n",
       "      <td>6219.1</td>\n",
       "      <td>6171.7</td>\n",
       "      <td>6197.9</td>\n",
       "      <td>6199.6</td>\n",
       "      <td>922.828331</td>\n",
       "      <td>3614</td>\n",
       "      <td>8.735380</td>\n",
       "      <td>8.727730</td>\n",
       "      <td>8.732240</td>\n",
       "      <td>...</td>\n",
       "      <td>668</td>\n",
       "      <td>3.986759</td>\n",
       "      <td>3.959288</td>\n",
       "      <td>3.970669</td>\n",
       "      <td>NaN</td>\n",
       "      <td>NaN</td>\n",
       "      <td>NaN</td>\n",
       "      <td>NaN</td>\n",
       "      <td>NaN</td>\n",
       "      <td>NaN</td>\n",
       "    </tr>\n",
       "    <tr>\n",
       "      <th>2018-10-14</th>\n",
       "      <td>6197.9</td>\n",
       "      <td>6289.9</td>\n",
       "      <td>6150.0</td>\n",
       "      <td>6181.8</td>\n",
       "      <td>6226.9</td>\n",
       "      <td>1237.100596</td>\n",
       "      <td>5098</td>\n",
       "      <td>8.746700</td>\n",
       "      <td>8.724207</td>\n",
       "      <td>8.736634</td>\n",
       "      <td>...</td>\n",
       "      <td>625</td>\n",
       "      <td>3.976874</td>\n",
       "      <td>3.928880</td>\n",
       "      <td>3.952589</td>\n",
       "      <td>0.004404</td>\n",
       "      <td>-0.006953</td>\n",
       "      <td>-0.017918</td>\n",
       "      <td>0.000503</td>\n",
       "      <td>-0.001321</td>\n",
       "      <td>-0.004553</td>\n",
       "    </tr>\n",
       "    <tr>\n",
       "      <th>2018-10-15</th>\n",
       "      <td>6181.9</td>\n",
       "      <td>6820.0</td>\n",
       "      <td>6151.0</td>\n",
       "      <td>6438.5</td>\n",
       "      <td>6449.8</td>\n",
       "      <td>11345.747326</td>\n",
       "      <td>28535</td>\n",
       "      <td>8.827615</td>\n",
       "      <td>8.724370</td>\n",
       "      <td>8.771804</td>\n",
       "      <td>...</td>\n",
       "      <td>3528</td>\n",
       "      <td>4.061994</td>\n",
       "      <td>3.929077</td>\n",
       "      <td>3.983599</td>\n",
       "      <td>0.035796</td>\n",
       "      <td>0.044667</td>\n",
       "      <td>0.031496</td>\n",
       "      <td>0.004026</td>\n",
       "      <td>0.008282</td>\n",
       "      <td>0.007846</td>\n",
       "    </tr>\n",
       "    <tr>\n",
       "      <th>2018-10-16</th>\n",
       "      <td>6438.5</td>\n",
       "      <td>6490.0</td>\n",
       "      <td>6391.5</td>\n",
       "      <td>6460.4</td>\n",
       "      <td>6441.8</td>\n",
       "      <td>3270.364601</td>\n",
       "      <td>8233</td>\n",
       "      <td>8.778018</td>\n",
       "      <td>8.762724</td>\n",
       "      <td>8.770563</td>\n",
       "      <td>...</td>\n",
       "      <td>702</td>\n",
       "      <td>3.992496</td>\n",
       "      <td>3.961575</td>\n",
       "      <td>3.976874</td>\n",
       "      <td>-0.001240</td>\n",
       "      <td>0.000049</td>\n",
       "      <td>-0.006703</td>\n",
       "      <td>-0.000141</td>\n",
       "      <td>0.000009</td>\n",
       "      <td>-0.001688</td>\n",
       "    </tr>\n",
       "    <tr>\n",
       "      <th>2018-10-17</th>\n",
       "      <td>6460.3</td>\n",
       "      <td>6469.8</td>\n",
       "      <td>6411.9</td>\n",
       "      <td>6442.5</td>\n",
       "      <td>6438.4</td>\n",
       "      <td>1683.992001</td>\n",
       "      <td>5375</td>\n",
       "      <td>8.774900</td>\n",
       "      <td>8.765911</td>\n",
       "      <td>8.770035</td>\n",
       "      <td>...</td>\n",
       "      <td>605</td>\n",
       "      <td>3.974434</td>\n",
       "      <td>3.956996</td>\n",
       "      <td>3.964426</td>\n",
       "      <td>-0.000528</td>\n",
       "      <td>-0.003326</td>\n",
       "      <td>-0.012371</td>\n",
       "      <td>-0.000060</td>\n",
       "      <td>-0.000626</td>\n",
       "      <td>-0.003130</td>\n",
       "    </tr>\n",
       "  </tbody>\n",
       "</table>\n",
       "<p>5 rows × 36 columns</p>\n",
       "</div>"
      ],
      "text/plain": [
       "            open_BTC  high_BTC  low_BTC  close_BTC  vwap_BTC    volume_BTC  \\\n",
       "dtime                                                                        \n",
       "2018-10-13    6192.2    6219.1   6171.7     6197.9    6199.6    922.828331   \n",
       "2018-10-14    6197.9    6289.9   6150.0     6181.8    6226.9   1237.100596   \n",
       "2018-10-15    6181.9    6820.0   6151.0     6438.5    6449.8  11345.747326   \n",
       "2018-10-16    6438.5    6490.0   6391.5     6460.4    6441.8   3270.364601   \n",
       "2018-10-17    6460.3    6469.8   6411.9     6442.5    6438.4   1683.992001   \n",
       "\n",
       "            count_BTC  log_high_BTC  log_low_BTC  log_vwap_BTC  ...  \\\n",
       "dtime                                                           ...   \n",
       "2018-10-13       3614      8.735380     8.727730      8.732240  ...   \n",
       "2018-10-14       5098      8.746700     8.724207      8.736634  ...   \n",
       "2018-10-15      28535      8.827615     8.724370      8.771804  ...   \n",
       "2018-10-16       8233      8.778018     8.762724      8.770563  ...   \n",
       "2018-10-17       5375      8.774900     8.765911      8.770035  ...   \n",
       "\n",
       "            count_LTC  log_high_LTC  log_low_LTC  log_vwap_LTC  \\\n",
       "dtime                                                            \n",
       "2018-10-13        668      3.986759     3.959288      3.970669   \n",
       "2018-10-14        625      3.976874     3.928880      3.952589   \n",
       "2018-10-15       3528      4.061994     3.929077      3.983599   \n",
       "2018-10-16        702      3.992496     3.961575      3.976874   \n",
       "2018-10-17        605      3.974434     3.956996      3.964426   \n",
       "\n",
       "            BTC_daily_return  ETH_daily_return  LTC_daily_return  \\\n",
       "dtime                                                              \n",
       "2018-10-13               NaN               NaN               NaN   \n",
       "2018-10-14          0.004404         -0.006953         -0.017918   \n",
       "2018-10-15          0.035796          0.044667          0.031496   \n",
       "2018-10-16         -0.001240          0.000049         -0.006703   \n",
       "2018-10-17         -0.000528         -0.003326         -0.012371   \n",
       "\n",
       "            BTC_log_vwap_return  ETH_log_vwap_return  LTC_log_vwap_return  \n",
       "dtime                                                                      \n",
       "2018-10-13                  NaN                  NaN                  NaN  \n",
       "2018-10-14             0.000503            -0.001321            -0.004553  \n",
       "2018-10-15             0.004026             0.008282             0.007846  \n",
       "2018-10-16            -0.000141             0.000009            -0.001688  \n",
       "2018-10-17            -0.000060            -0.000626            -0.003130  \n",
       "\n",
       "[5 rows x 36 columns]"
      ]
     },
     "execution_count": 17,
     "metadata": {},
     "output_type": "execute_result"
    }
   ],
   "source": [
    "df.head()"
   ]
  },
  {
   "cell_type": "code",
   "execution_count": 18,
   "metadata": {},
   "outputs": [
    {
     "data": {
      "text/html": [
       "<div>\n",
       "<style scoped>\n",
       "    .dataframe tbody tr th:only-of-type {\n",
       "        vertical-align: middle;\n",
       "    }\n",
       "\n",
       "    .dataframe tbody tr th {\n",
       "        vertical-align: top;\n",
       "    }\n",
       "\n",
       "    .dataframe thead th {\n",
       "        text-align: right;\n",
       "    }\n",
       "</style>\n",
       "<table border=\"1\" class=\"dataframe\">\n",
       "  <thead>\n",
       "    <tr style=\"text-align: right;\">\n",
       "      <th></th>\n",
       "      <th>open_BTC</th>\n",
       "      <th>high_BTC</th>\n",
       "      <th>low_BTC</th>\n",
       "      <th>close_BTC</th>\n",
       "      <th>vwap_BTC</th>\n",
       "      <th>volume_BTC</th>\n",
       "      <th>count_BTC</th>\n",
       "      <th>log_high_BTC</th>\n",
       "      <th>log_low_BTC</th>\n",
       "      <th>log_vwap_BTC</th>\n",
       "      <th>...</th>\n",
       "      <th>count_LTC</th>\n",
       "      <th>log_high_LTC</th>\n",
       "      <th>log_low_LTC</th>\n",
       "      <th>log_vwap_LTC</th>\n",
       "      <th>BTC_daily_return</th>\n",
       "      <th>ETH_daily_return</th>\n",
       "      <th>LTC_daily_return</th>\n",
       "      <th>BTC_log_vwap_return</th>\n",
       "      <th>ETH_log_vwap_return</th>\n",
       "      <th>LTC_log_vwap_return</th>\n",
       "    </tr>\n",
       "    <tr>\n",
       "      <th>dtime</th>\n",
       "      <th></th>\n",
       "      <th></th>\n",
       "      <th></th>\n",
       "      <th></th>\n",
       "      <th></th>\n",
       "      <th></th>\n",
       "      <th></th>\n",
       "      <th></th>\n",
       "      <th></th>\n",
       "      <th></th>\n",
       "      <th></th>\n",
       "      <th></th>\n",
       "      <th></th>\n",
       "      <th></th>\n",
       "      <th></th>\n",
       "      <th></th>\n",
       "      <th></th>\n",
       "      <th></th>\n",
       "      <th></th>\n",
       "      <th></th>\n",
       "      <th></th>\n",
       "    </tr>\n",
       "  </thead>\n",
       "  <tbody>\n",
       "    <tr>\n",
       "      <th>2020-05-11</th>\n",
       "      <td>8716.5</td>\n",
       "      <td>9175.0</td>\n",
       "      <td>8190.0</td>\n",
       "      <td>8570.8</td>\n",
       "      <td>8700.5</td>\n",
       "      <td>18291.827689</td>\n",
       "      <td>49333</td>\n",
       "      <td>9.124238</td>\n",
       "      <td>9.010669</td>\n",
       "      <td>9.071136</td>\n",
       "      <td>...</td>\n",
       "      <td>1944</td>\n",
       "      <td>3.759338</td>\n",
       "      <td>3.673258</td>\n",
       "      <td>3.717953</td>\n",
       "      <td>0.001508</td>\n",
       "      <td>-0.021585</td>\n",
       "      <td>-0.020690</td>\n",
       "      <td>0.000166</td>\n",
       "      <td>-0.004161</td>\n",
       "      <td>-0.005592</td>\n",
       "    </tr>\n",
       "    <tr>\n",
       "      <th>2020-05-12</th>\n",
       "      <td>8570.8</td>\n",
       "      <td>8975.0</td>\n",
       "      <td>8531.8</td>\n",
       "      <td>8823.7</td>\n",
       "      <td>8779.9</td>\n",
       "      <td>7354.103412</td>\n",
       "      <td>22313</td>\n",
       "      <td>9.102198</td>\n",
       "      <td>9.051556</td>\n",
       "      <td>9.080220</td>\n",
       "      <td>...</td>\n",
       "      <td>1125</td>\n",
       "      <td>3.757939</td>\n",
       "      <td>3.722072</td>\n",
       "      <td>3.742183</td>\n",
       "      <td>0.009126</td>\n",
       "      <td>0.022601</td>\n",
       "      <td>0.024526</td>\n",
       "      <td>0.001001</td>\n",
       "      <td>0.004279</td>\n",
       "      <td>0.006517</td>\n",
       "    </tr>\n",
       "    <tr>\n",
       "      <th>2020-05-13</th>\n",
       "      <td>8823.7</td>\n",
       "      <td>9411.0</td>\n",
       "      <td>8808.1</td>\n",
       "      <td>9317.1</td>\n",
       "      <td>9117.1</td>\n",
       "      <td>9472.110878</td>\n",
       "      <td>27926</td>\n",
       "      <td>9.149634</td>\n",
       "      <td>9.083427</td>\n",
       "      <td>9.117907</td>\n",
       "      <td>...</td>\n",
       "      <td>892</td>\n",
       "      <td>3.778720</td>\n",
       "      <td>3.739335</td>\n",
       "      <td>3.760269</td>\n",
       "      <td>0.038406</td>\n",
       "      <td>0.034497</td>\n",
       "      <td>0.018251</td>\n",
       "      <td>0.004150</td>\n",
       "      <td>0.006467</td>\n",
       "      <td>0.004833</td>\n",
       "    </tr>\n",
       "    <tr>\n",
       "      <th>2020-05-14</th>\n",
       "      <td>9317.1</td>\n",
       "      <td>9947.0</td>\n",
       "      <td>9256.9</td>\n",
       "      <td>9788.5</td>\n",
       "      <td>9632.3</td>\n",
       "      <td>12966.020534</td>\n",
       "      <td>37987</td>\n",
       "      <td>9.205026</td>\n",
       "      <td>9.133124</td>\n",
       "      <td>9.172877</td>\n",
       "      <td>...</td>\n",
       "      <td>1242</td>\n",
       "      <td>3.792113</td>\n",
       "      <td>3.743368</td>\n",
       "      <td>3.775057</td>\n",
       "      <td>0.056509</td>\n",
       "      <td>0.026463</td>\n",
       "      <td>0.014898</td>\n",
       "      <td>0.006029</td>\n",
       "      <td>0.004948</td>\n",
       "      <td>0.003933</td>\n",
       "    </tr>\n",
       "    <tr>\n",
       "      <th>2020-05-15</th>\n",
       "      <td>9788.5</td>\n",
       "      <td>9847.1</td>\n",
       "      <td>9128.0</td>\n",
       "      <td>9312.1</td>\n",
       "      <td>9476.7</td>\n",
       "      <td>11077.654457</td>\n",
       "      <td>35216</td>\n",
       "      <td>9.194932</td>\n",
       "      <td>9.119102</td>\n",
       "      <td>9.156591</td>\n",
       "      <td>...</td>\n",
       "      <td>991</td>\n",
       "      <td>3.788046</td>\n",
       "      <td>3.734808</td>\n",
       "      <td>3.764219</td>\n",
       "      <td>-0.016154</td>\n",
       "      <td>-0.015648</td>\n",
       "      <td>-0.010780</td>\n",
       "      <td>-0.001775</td>\n",
       "      <td>-0.002973</td>\n",
       "      <td>-0.002871</td>\n",
       "    </tr>\n",
       "  </tbody>\n",
       "</table>\n",
       "<p>5 rows × 36 columns</p>\n",
       "</div>"
      ],
      "text/plain": [
       "            open_BTC  high_BTC  low_BTC  close_BTC  vwap_BTC    volume_BTC  \\\n",
       "dtime                                                                        \n",
       "2020-05-11    8716.5    9175.0   8190.0     8570.8    8700.5  18291.827689   \n",
       "2020-05-12    8570.8    8975.0   8531.8     8823.7    8779.9   7354.103412   \n",
       "2020-05-13    8823.7    9411.0   8808.1     9317.1    9117.1   9472.110878   \n",
       "2020-05-14    9317.1    9947.0   9256.9     9788.5    9632.3  12966.020534   \n",
       "2020-05-15    9788.5    9847.1   9128.0     9312.1    9476.7  11077.654457   \n",
       "\n",
       "            count_BTC  log_high_BTC  log_low_BTC  log_vwap_BTC  ...  \\\n",
       "dtime                                                           ...   \n",
       "2020-05-11      49333      9.124238     9.010669      9.071136  ...   \n",
       "2020-05-12      22313      9.102198     9.051556      9.080220  ...   \n",
       "2020-05-13      27926      9.149634     9.083427      9.117907  ...   \n",
       "2020-05-14      37987      9.205026     9.133124      9.172877  ...   \n",
       "2020-05-15      35216      9.194932     9.119102      9.156591  ...   \n",
       "\n",
       "            count_LTC  log_high_LTC  log_low_LTC  log_vwap_LTC  \\\n",
       "dtime                                                            \n",
       "2020-05-11       1944      3.759338     3.673258      3.717953   \n",
       "2020-05-12       1125      3.757939     3.722072      3.742183   \n",
       "2020-05-13        892      3.778720     3.739335      3.760269   \n",
       "2020-05-14       1242      3.792113     3.743368      3.775057   \n",
       "2020-05-15        991      3.788046     3.734808      3.764219   \n",
       "\n",
       "            BTC_daily_return  ETH_daily_return  LTC_daily_return  \\\n",
       "dtime                                                              \n",
       "2020-05-11          0.001508         -0.021585         -0.020690   \n",
       "2020-05-12          0.009126          0.022601          0.024526   \n",
       "2020-05-13          0.038406          0.034497          0.018251   \n",
       "2020-05-14          0.056509          0.026463          0.014898   \n",
       "2020-05-15         -0.016154         -0.015648         -0.010780   \n",
       "\n",
       "            BTC_log_vwap_return  ETH_log_vwap_return  LTC_log_vwap_return  \n",
       "dtime                                                                      \n",
       "2020-05-11             0.000166            -0.004161            -0.005592  \n",
       "2020-05-12             0.001001             0.004279             0.006517  \n",
       "2020-05-13             0.004150             0.006467             0.004833  \n",
       "2020-05-14             0.006029             0.004948             0.003933  \n",
       "2020-05-15            -0.001775            -0.002973            -0.002871  \n",
       "\n",
       "[5 rows x 36 columns]"
      ]
     },
     "execution_count": 18,
     "metadata": {},
     "output_type": "execute_result"
    }
   ],
   "source": [
    "df_test.head()"
   ]
  },
  {
   "cell_type": "code",
   "execution_count": 23,
   "metadata": {},
   "outputs": [
    {
     "data": {
      "text/plain": [
       "Text(0, 0.5, 'VWAP ($)')"
      ]
     },
     "execution_count": 23,
     "metadata": {},
     "output_type": "execute_result"
    },
    {
     "data": {
      "image/png": "[encoded data removed]",
      "text/plain": [
       "<Figure size 1440x360 with 1 Axes>"
      ]
     },
     "metadata": {
      "needs_background": "light"
     },
     "output_type": "display_data"
    }
   ],
   "source": [
    "df_test.plot(y=['vwap_BTC'], figsize = (20, 5))\n",
    "plt.title('BTC Daily VWAP - Test', size = 24)\n",
    "plt.xlabel(\"Time\", size = 16)\n",
    "plt.xticks(rotation = 90)\n",
    "plt.ylabel(\"VWAP ($)\", size = 16)"
   ]
  },
  {
   "cell_type": "code",
   "execution_count": 24,
   "metadata": {},
   "outputs": [
    {
     "data": {
      "text/plain": [
       "Text(0, 0.5, 'VWAP ($)')"
      ]
     },
     "execution_count": 24,
     "metadata": {},
     "output_type": "execute_result"
    },
    {
     "data": {
      "image/png": "[encoded data removed]",
      "text/plain": [
       "<Figure size 1440x360 with 1 Axes>"
      ]
     },
     "metadata": {
      "needs_background": "light"
     },
     "output_type": "display_data"
    }
   ],
   "source": [
    "df.plot(y=['vwap_BTC'], figsize=(20, 5))\n",
    "plt.title(\"BTC Daily VWAP - Training\", size = 24)\n",
    "plt.xlabel(\"Time\", size = 16)\n",
    "plt.ylabel(\"VWAP ($)\", size = 16)"
   ]
  },
  {
   "cell_type": "markdown",
   "metadata": {},
   "source": [
    "---"
   ]
  },
  {
   "cell_type": "markdown",
   "metadata": {},
   "source": [
    "## Time-Series tests before modeling"
   ]
  },
  {
   "cell_type": "code",
   "execution_count": 25,
   "metadata": {},
   "outputs": [],
   "source": [
    "import pandas as pd \n",
    "import numpy as np \n",
    "import matplotlib.pyplot as plt \n",
    "import statsmodels.graphics.tsaplots as sgt \n",
    "import statsmodels.tsa.stattools as sts \n",
    "from statsmodels.tsa.seasonal import seasonal_decompose\n",
    "import seaborn as sns\n",
    "sns.set()"
   ]
  },
  {
   "cell_type": "markdown",
   "metadata": {},
   "source": [
    "Test different Bitcoin series and returns for stationarity."
   ]
  },
  {
   "cell_type": "code",
   "execution_count": 26,
   "metadata": {},
   "outputs": [
    {
     "data": {
      "text/plain": [
       "(-1.585490557344349,\n",
       " 0.4908778753587304,\n",
       " 3,\n",
       " 572,\n",
       " {'1%': -3.441834071558759,\n",
       "  '5%': -2.8666061267054626,\n",
       "  '10%': -2.569468095872659},\n",
       " 7712.914887742388)"
      ]
     },
     "execution_count": 26,
     "metadata": {},
     "output_type": "execute_result"
    }
   ],
   "source": [
    "sts.adfuller(df['vwap_BTC'])"
   ]
  },
  {
   "cell_type": "code",
   "execution_count": 27,
   "metadata": {},
   "outputs": [
    {
     "data": {
      "text/plain": [
       "(-1.3599561670655649,\n",
       " 0.6013160657572709,\n",
       " 3,\n",
       " 572,\n",
       " {'1%': -3.441834071558759,\n",
       "  '5%': -2.8666061267054626,\n",
       "  '10%': -2.569468095872659},\n",
       " -2241.0753377132223)"
      ]
     },
     "execution_count": 27,
     "metadata": {},
     "output_type": "execute_result"
    }
   ],
   "source": [
    "sts.adfuller(df['log_vwap_BTC'])"
   ]
  },
  {
   "cell_type": "markdown",
   "metadata": {},
   "source": [
    "Bitcoin high and log_high prices are non-stationary. We'll need an integrated model if we're going to forecast"
   ]
  },
  {
   "cell_type": "markdown",
   "metadata": {},
   "source": [
    "### ETH tests for stationarity."
   ]
  },
  {
   "cell_type": "code",
   "execution_count": 28,
   "metadata": {},
   "outputs": [
    {
     "data": {
      "text/plain": [
       "(-2.9917337663384416,\n",
       " 0.03567360686719971,\n",
       " 13,\n",
       " 562,\n",
       " {'1%': -3.442039359113542,\n",
       "  '5%': -2.8666965134862514,\n",
       "  '10%': -2.5695162601790758},\n",
       " 3770.7904483001266)"
      ]
     },
     "execution_count": 28,
     "metadata": {},
     "output_type": "execute_result"
    }
   ],
   "source": [
    "sts.adfuller(df['vwap_ETH'])"
   ]
  },
  {
   "cell_type": "markdown",
   "metadata": {},
   "source": [
    "We can reject the null hypothesis at 5% significance, thus time series is stationary."
   ]
  },
  {
   "cell_type": "code",
   "execution_count": 29,
   "metadata": {},
   "outputs": [
    {
     "data": {
      "text/plain": [
       "(-2.379055192845863,\n",
       " 0.14773539175406836,\n",
       " 8,\n",
       " 567,\n",
       " {'1%': -3.441935806025943,\n",
       "  '5%': -2.8666509204896093,\n",
       "  '10%': -2.5694919649816947},\n",
       " -2014.398768513995)"
      ]
     },
     "execution_count": 29,
     "metadata": {},
     "output_type": "execute_result"
    }
   ],
   "source": [
    "sts.adfuller(df['log_vwap_ETH'])"
   ]
  },
  {
   "cell_type": "markdown",
   "metadata": {},
   "source": [
    "Fail to reject null hypothesis on log_vwap_ETH at 5%.\n",
    "\n",
    "If test statistic is < critical value, we can reject H0 at that level of significance.\n",
    "\n",
    "https://machinelearningmastery.com/time-series-data-stationary-python/"
   ]
  },
  {
   "cell_type": "markdown",
   "metadata": {},
   "source": [
    "## LTC tests for stationarity"
   ]
  },
  {
   "cell_type": "code",
   "execution_count": 30,
   "metadata": {},
   "outputs": [
    {
     "data": {
      "text/plain": [
       "(-1.765666224335389,\n",
       " 0.39763569586445713,\n",
       " 13,\n",
       " 562,\n",
       " {'1%': -3.442039359113542,\n",
       "  '5%': -2.8666965134862514,\n",
       "  '10%': -2.5695162601790758},\n",
       " 2710.653147218805)"
      ]
     },
     "execution_count": 30,
     "metadata": {},
     "output_type": "execute_result"
    }
   ],
   "source": [
    "sts.adfuller(df['vwap_LTC'])"
   ]
  },
  {
   "cell_type": "markdown",
   "metadata": {},
   "source": [
    "Fail to reject H0"
   ]
  },
  {
   "cell_type": "code",
   "execution_count": 31,
   "metadata": {},
   "outputs": [
    {
     "data": {
      "text/plain": [
       "(-1.6651487349653655,\n",
       " 0.44915238914777933,\n",
       " 4,\n",
       " 571,\n",
       " {'1%': -3.4418542752662518,\n",
       "  '5%': -2.8666150225357914,\n",
       "  '10%': -2.569472836146374},\n",
       " -1923.2085801483731)"
      ]
     },
     "execution_count": 31,
     "metadata": {},
     "output_type": "execute_result"
    }
   ],
   "source": [
    "sts.adfuller(df['log_vwap_LTC'])"
   ]
  },
  {
   "cell_type": "markdown",
   "metadata": {},
   "source": [
    "Fail to reject H0"
   ]
  },
  {
   "cell_type": "markdown",
   "metadata": {},
   "source": [
    "### Checking Returns for Stationarity"
   ]
  },
  {
   "cell_type": "markdown",
   "metadata": {},
   "source": [
    "#### BTC daily and log daily returns"
   ]
  },
  {
   "cell_type": "code",
   "execution_count": 33,
   "metadata": {},
   "outputs": [
    {
     "data": {
      "text/plain": [
       "(-13.511750068810803,\n",
       " 2.844436744300932e-25,\n",
       " 2,\n",
       " 716,\n",
       " {'1%': -3.439516060164992,\n",
       "  '5%': -2.8655850998755263,\n",
       "  '10%': -2.5689240826597173},\n",
       " -2929.3539175892597)"
      ]
     },
     "execution_count": 33,
     "metadata": {},
     "output_type": "execute_result"
    }
   ],
   "source": [
    "sts.adfuller(df_copy['BTC_daily_return'][1:])"
   ]
  },
  {
   "cell_type": "code",
   "execution_count": 34,
   "metadata": {},
   "outputs": [
    {
     "data": {
      "text/plain": [
       "(-13.380732145056772,\n",
       " 4.98396244316169e-25,\n",
       " 2,\n",
       " 716,\n",
       " {'1%': -3.439516060164992,\n",
       "  '5%': -2.8655850998755263,\n",
       "  '10%': -2.5689240826597173},\n",
       " -5965.050310489711)"
      ]
     },
     "execution_count": 34,
     "metadata": {},
     "output_type": "execute_result"
    }
   ],
   "source": [
    "sts.adfuller(df_copy['BTC_log_vwap_return'][1:])"
   ]
  },
  {
   "cell_type": "markdown",
   "metadata": {},
   "source": [
    "Both tests returned p-values below 0.05 indicating they BTC daily and log daily returns are stationary and white noise."
   ]
  },
  {
   "cell_type": "markdown",
   "metadata": {},
   "source": [
    "#### ETH daily and log daily returns"
   ]
  },
  {
   "cell_type": "code",
   "execution_count": 35,
   "metadata": {},
   "outputs": [
    {
     "data": {
      "text/plain": [
       "(-9.598714100281528,\n",
       " 1.9465696497588713e-16,\n",
       " 7,\n",
       " 711,\n",
       " {'1%': -3.439580754053961,\n",
       "  '5%': -2.865613606467485,\n",
       "  '10%': -2.568939269723711},\n",
       " -2617.6761747553205)"
      ]
     },
     "execution_count": 35,
     "metadata": {},
     "output_type": "execute_result"
    }
   ],
   "source": [
    "sts.adfuller(df_copy['ETH_daily_return'][1:])"
   ]
  },
  {
   "cell_type": "code",
   "execution_count": 36,
   "metadata": {},
   "outputs": [
    {
     "data": {
      "text/plain": [
       "(-9.58961444037714,\n",
       " 2.0527647509343458e-16,\n",
       " 7,\n",
       " 711,\n",
       " {'1%': -3.439580754053961,\n",
       "  '5%': -2.865613606467485,\n",
       "  '10%': -2.568939269723711},\n",
       " -4895.172198867682)"
      ]
     },
     "execution_count": 36,
     "metadata": {},
     "output_type": "execute_result"
    }
   ],
   "source": [
    "sts.adfuller(df_copy['ETH_log_vwap_return'][1:])"
   ]
  },
  {
   "cell_type": "markdown",
   "metadata": {},
   "source": [
    "Both are stationary."
   ]
  },
  {
   "cell_type": "markdown",
   "metadata": {},
   "source": [
    "#### LTC daily and log daily returns"
   ]
  },
  {
   "cell_type": "code",
   "execution_count": 37,
   "metadata": {},
   "outputs": [
    {
     "data": {
      "text/plain": [
       "(-13.841400750331408,\n",
       " 7.281260914912836e-26,\n",
       " 2,\n",
       " 716,\n",
       " {'1%': -3.439516060164992,\n",
       "  '5%': -2.8655850998755263,\n",
       "  '10%': -2.5689240826597173},\n",
       " -2520.8626415942304)"
      ]
     },
     "execution_count": 37,
     "metadata": {},
     "output_type": "execute_result"
    }
   ],
   "source": [
    "sts.adfuller(df_copy['LTC_daily_return'][1:])"
   ]
  },
  {
   "cell_type": "code",
   "execution_count": 38,
   "metadata": {},
   "outputs": [
    {
     "data": {
      "text/plain": [
       "(-11.37661053635313,\n",
       " 8.714318853911398e-21,\n",
       " 4,\n",
       " 714,\n",
       " {'1%': -3.4395418285955563,\n",
       "  '5%': -2.865596454500293,\n",
       "  '10%': -2.5689301318958955},\n",
       " -4429.785845688006)"
      ]
     },
     "execution_count": 38,
     "metadata": {},
     "output_type": "execute_result"
    }
   ],
   "source": [
    "sts.adfuller(df_copy['LTC_log_vwap_return'][1:])"
   ]
  },
  {
   "cell_type": "markdown",
   "metadata": {},
   "source": [
    "Both are statistically significant at all levels indiciating stationarity."
   ]
  },
  {
   "cell_type": "markdown",
   "metadata": {},
   "source": [
    "---"
   ]
  },
  {
   "cell_type": "markdown",
   "metadata": {},
   "source": [
    "## Auto Arima models for prices, daily returns."
   ]
  },
  {
   "cell_type": "code",
   "execution_count": 40,
   "metadata": {},
   "outputs": [],
   "source": [
    "from pmdarima.arima import auto_arima"
   ]
  },
  {
   "cell_type": "markdown",
   "metadata": {},
   "source": [
    "### BTC"
   ]
  },
  {
   "cell_type": "code",
   "execution_count": 41,
   "metadata": {},
   "outputs": [],
   "source": [
    "model_BTC = auto_arima(df_copy['vwap_BTC'])"
   ]
  },
  {
   "cell_type": "code",
   "execution_count": 42,
   "metadata": {},
   "outputs": [
    {
     "data": {
      "text/html": [
       "<table class=\"simpletable\">\n",
       "<caption>SARIMAX Results</caption>\n",
       "<tr>\n",
       "  <th>Dep. Variable:</th>           <td>y</td>        <th>  No. Observations:  </th>    <td>720</td>   \n",
       "</tr>\n",
       "<tr>\n",
       "  <th>Model:</th>           <td>SARIMAX(0, 1, 2)</td> <th>  Log Likelihood     </th> <td>-4939.256</td>\n",
       "</tr>\n",
       "<tr>\n",
       "  <th>Date:</th>            <td>Mon, 05 Oct 2020</td> <th>  AIC                </th> <td>9884.512</td> \n",
       "</tr>\n",
       "<tr>\n",
       "  <th>Time:</th>                <td>16:32:18</td>     <th>  BIC                </th> <td>9898.245</td> \n",
       "</tr>\n",
       "<tr>\n",
       "  <th>Sample:</th>                  <td>0</td>        <th>  HQIC               </th> <td>9889.814</td> \n",
       "</tr>\n",
       "<tr>\n",
       "  <th></th>                      <td> - 720</td>      <th>                     </th>     <td> </td>    \n",
       "</tr>\n",
       "<tr>\n",
       "  <th>Covariance Type:</th>        <td>opg</td>       <th>                     </th>     <td> </td>    \n",
       "</tr>\n",
       "</table>\n",
       "<table class=\"simpletable\">\n",
       "<tr>\n",
       "     <td></td>       <th>coef</th>     <th>std err</th>      <th>z</th>      <th>P>|z|</th>  <th>[0.025</th>    <th>0.975]</th>  \n",
       "</tr>\n",
       "<tr>\n",
       "  <th>ma.L1</th>  <td>    0.3113</td> <td>    0.020</td> <td>   15.234</td> <td> 0.000</td> <td>    0.271</td> <td>    0.351</td>\n",
       "</tr>\n",
       "<tr>\n",
       "  <th>ma.L2</th>  <td>   -0.0743</td> <td>    0.026</td> <td>   -2.822</td> <td> 0.005</td> <td>   -0.126</td> <td>   -0.023</td>\n",
       "</tr>\n",
       "<tr>\n",
       "  <th>sigma2</th> <td> 5.475e+04</td> <td> 1337.650</td> <td>   40.932</td> <td> 0.000</td> <td> 5.21e+04</td> <td> 5.74e+04</td>\n",
       "</tr>\n",
       "</table>\n",
       "<table class=\"simpletable\">\n",
       "<tr>\n",
       "  <th>Ljung-Box (Q):</th>          <td>32.60</td> <th>  Jarque-Bera (JB):  </th> <td>1894.85</td>\n",
       "</tr>\n",
       "<tr>\n",
       "  <th>Prob(Q):</th>                <td>0.79</td>  <th>  Prob(JB):          </th>  <td>0.00</td>  \n",
       "</tr>\n",
       "<tr>\n",
       "  <th>Heteroskedasticity (H):</th> <td>2.55</td>  <th>  Skew:              </th>  <td>-0.44</td> \n",
       "</tr>\n",
       "<tr>\n",
       "  <th>Prob(H) (two-sided):</th>    <td>0.00</td>  <th>  Kurtosis:          </th>  <td>10.90</td> \n",
       "</tr>\n",
       "</table><br/><br/>Warnings:<br/>[1] Covariance matrix calculated using the outer product of gradients (complex-step)."
      ],
      "text/plain": [
       "<class 'statsmodels.iolib.summary.Summary'>\n",
       "\"\"\"\n",
       "                               SARIMAX Results                                \n",
       "==============================================================================\n",
       "Dep. Variable:                      y   No. Observations:                  720\n",
       "Model:               SARIMAX(0, 1, 2)   Log Likelihood               -4939.256\n",
       "Date:                Mon, 05 Oct 2020   AIC                           9884.512\n",
       "Time:                        16:32:18   BIC                           9898.245\n",
       "Sample:                             0   HQIC                          9889.814\n",
       "                                - 720                                         \n",
       "Covariance Type:                  opg                                         \n",
       "==============================================================================\n",
       "                 coef    std err          z      P>|z|      [0.025      0.975]\n",
       "------------------------------------------------------------------------------\n",
       "ma.L1          0.3113      0.020     15.234      0.000       0.271       0.351\n",
       "ma.L2         -0.0743      0.026     -2.822      0.005      -0.126      -0.023\n",
       "sigma2      5.475e+04   1337.650     40.932      0.000    5.21e+04    5.74e+04\n",
       "===================================================================================\n",
       "Ljung-Box (Q):                       32.60   Jarque-Bera (JB):              1894.85\n",
       "Prob(Q):                              0.79   Prob(JB):                         0.00\n",
       "Heteroskedasticity (H):               2.55   Skew:                            -0.44\n",
       "Prob(H) (two-sided):                  0.00   Kurtosis:                        10.90\n",
       "===================================================================================\n",
       "\n",
       "Warnings:\n",
       "[1] Covariance matrix calculated using the outer product of gradients (complex-step).\n",
       "\"\"\""
      ]
     },
     "execution_count": 42,
     "metadata": {},
     "output_type": "execute_result"
    }
   ],
   "source": [
    "model_BTC.summary()"
   ]
  },
  {
   "cell_type": "markdown",
   "metadata": {},
   "source": [
    "SARIMAX Model with (0, 1, 2) is actually ARIMA(0, 1, 2) since no seasonal pattern or exogenous variables."
   ]
  },
  {
   "cell_type": "code",
   "execution_count": 43,
   "metadata": {},
   "outputs": [],
   "source": [
    "model_BTC_daily_returns = auto_arima(df_copy['BTC_daily_return'][1:])"
   ]
  },
  {
   "cell_type": "code",
   "execution_count": 44,
   "metadata": {},
   "outputs": [
    {
     "data": {
      "text/html": [
       "<table class=\"simpletable\">\n",
       "<caption>SARIMAX Results</caption>\n",
       "<tr>\n",
       "  <th>Dep. Variable:</th>           <td>y</td>        <th>  No. Observations:  </th>    <td>719</td>   \n",
       "</tr>\n",
       "<tr>\n",
       "  <th>Model:</th>           <td>SARIMAX(1, 0, 1)</td> <th>  Log Likelihood     </th> <td>1521.361</td> \n",
       "</tr>\n",
       "<tr>\n",
       "  <th>Date:</th>            <td>Mon, 05 Oct 2020</td> <th>  AIC                </th> <td>-3036.722</td>\n",
       "</tr>\n",
       "<tr>\n",
       "  <th>Time:</th>                <td>16:34:42</td>     <th>  BIC                </th> <td>-3022.988</td>\n",
       "</tr>\n",
       "<tr>\n",
       "  <th>Sample:</th>                  <td>0</td>        <th>  HQIC               </th> <td>-3031.419</td>\n",
       "</tr>\n",
       "<tr>\n",
       "  <th></th>                      <td> - 719</td>      <th>                     </th>     <td> </td>    \n",
       "</tr>\n",
       "<tr>\n",
       "  <th>Covariance Type:</th>        <td>opg</td>       <th>                     </th>     <td> </td>    \n",
       "</tr>\n",
       "</table>\n",
       "<table class=\"simpletable\">\n",
       "<tr>\n",
       "     <td></td>       <th>coef</th>     <th>std err</th>      <th>z</th>      <th>P>|z|</th>  <th>[0.025</th>    <th>0.975]</th>  \n",
       "</tr>\n",
       "<tr>\n",
       "  <th>ar.L1</th>  <td>   -0.2106</td> <td>    0.069</td> <td>   -3.069</td> <td> 0.002</td> <td>   -0.345</td> <td>   -0.076</td>\n",
       "</tr>\n",
       "<tr>\n",
       "  <th>ma.L1</th>  <td>    0.5459</td> <td>    0.062</td> <td>    8.776</td> <td> 0.000</td> <td>    0.424</td> <td>    0.668</td>\n",
       "</tr>\n",
       "<tr>\n",
       "  <th>sigma2</th> <td>    0.0009</td> <td> 2.17e-05</td> <td>   39.195</td> <td> 0.000</td> <td>    0.001</td> <td>    0.001</td>\n",
       "</tr>\n",
       "</table>\n",
       "<table class=\"simpletable\">\n",
       "<tr>\n",
       "  <th>Ljung-Box (Q):</th>          <td>29.57</td> <th>  Jarque-Bera (JB):  </th> <td>1358.05</td>\n",
       "</tr>\n",
       "<tr>\n",
       "  <th>Prob(Q):</th>                <td>0.89</td>  <th>  Prob(JB):          </th>  <td>0.00</td>  \n",
       "</tr>\n",
       "<tr>\n",
       "  <th>Heteroskedasticity (H):</th> <td>1.16</td>  <th>  Skew:              </th>  <td>-0.09</td> \n",
       "</tr>\n",
       "<tr>\n",
       "  <th>Prob(H) (two-sided):</th>    <td>0.25</td>  <th>  Kurtosis:          </th>  <td>9.73</td>  \n",
       "</tr>\n",
       "</table><br/><br/>Warnings:<br/>[1] Covariance matrix calculated using the outer product of gradients (complex-step)."
      ],
      "text/plain": [
       "<class 'statsmodels.iolib.summary.Summary'>\n",
       "\"\"\"\n",
       "                               SARIMAX Results                                \n",
       "==============================================================================\n",
       "Dep. Variable:                      y   No. Observations:                  719\n",
       "Model:               SARIMAX(1, 0, 1)   Log Likelihood                1521.361\n",
       "Date:                Mon, 05 Oct 2020   AIC                          -3036.722\n",
       "Time:                        16:34:42   BIC                          -3022.988\n",
       "Sample:                             0   HQIC                         -3031.419\n",
       "                                - 719                                         \n",
       "Covariance Type:                  opg                                         \n",
       "==============================================================================\n",
       "                 coef    std err          z      P>|z|      [0.025      0.975]\n",
       "------------------------------------------------------------------------------\n",
       "ar.L1         -0.2106      0.069     -3.069      0.002      -0.345      -0.076\n",
       "ma.L1          0.5459      0.062      8.776      0.000       0.424       0.668\n",
       "sigma2         0.0009   2.17e-05     39.195      0.000       0.001       0.001\n",
       "===================================================================================\n",
       "Ljung-Box (Q):                       29.57   Jarque-Bera (JB):              1358.05\n",
       "Prob(Q):                              0.89   Prob(JB):                         0.00\n",
       "Heteroskedasticity (H):               1.16   Skew:                            -0.09\n",
       "Prob(H) (two-sided):                  0.25   Kurtosis:                         9.73\n",
       "===================================================================================\n",
       "\n",
       "Warnings:\n",
       "[1] Covariance matrix calculated using the outer product of gradients (complex-step).\n",
       "\"\"\""
      ]
     },
     "execution_count": 44,
     "metadata": {},
     "output_type": "execute_result"
    }
   ],
   "source": [
    "model_BTC_daily_returns.summary()"
   ]
  },
  {
   "cell_type": "markdown",
   "metadata": {},
   "source": [
    "Returns a simple ARMA(1, 1) model"
   ]
  },
  {
   "cell_type": "markdown",
   "metadata": {},
   "source": [
    "### ETH modeling"
   ]
  },
  {
   "cell_type": "code",
   "execution_count": 45,
   "metadata": {},
   "outputs": [
    {
     "name": "stderr",
     "output_type": "stream",
     "text": [
      "C:\\Users\\pam\\anaconda3\\lib\\site-packages\\pmdarima\\arima\\_validation.py:75: UserWarning: stepwise model cannot be fit in parallel (n_jobs=1). Falling back to stepwise parameter search.\n",
      "  'Falling back to stepwise parameter search.' % n_jobs)\n"
     ]
    }
   ],
   "source": [
    "model_ETH = auto_arima(df_copy['vwap_ETH'])"
   ]
  },
  {
   "cell_type": "code",
   "execution_count": 46,
   "metadata": {},
   "outputs": [
    {
     "data": {
      "text/html": [
       "<table class=\"simpletable\">\n",
       "<caption>SARIMAX Results</caption>\n",
       "<tr>\n",
       "  <th>Dep. Variable:</th>           <td>y</td>        <th>  No. Observations:  </th>    <td>720</td>   \n",
       "</tr>\n",
       "<tr>\n",
       "  <th>Model:</th>           <td>SARIMAX(0, 1, 3)</td> <th>  Log Likelihood     </th> <td>-2479.665</td>\n",
       "</tr>\n",
       "<tr>\n",
       "  <th>Date:</th>            <td>Mon, 05 Oct 2020</td> <th>  AIC                </th> <td>4967.329</td> \n",
       "</tr>\n",
       "<tr>\n",
       "  <th>Time:</th>                <td>16:38:15</td>     <th>  BIC                </th> <td>4985.641</td> \n",
       "</tr>\n",
       "<tr>\n",
       "  <th>Sample:</th>                  <td>0</td>        <th>  HQIC               </th> <td>4974.399</td> \n",
       "</tr>\n",
       "<tr>\n",
       "  <th></th>                      <td> - 720</td>      <th>                     </th>     <td> </td>    \n",
       "</tr>\n",
       "<tr>\n",
       "  <th>Covariance Type:</th>        <td>opg</td>       <th>                     </th>     <td> </td>    \n",
       "</tr>\n",
       "</table>\n",
       "<table class=\"simpletable\">\n",
       "<tr>\n",
       "     <td></td>       <th>coef</th>     <th>std err</th>      <th>z</th>      <th>P>|z|</th>  <th>[0.025</th>    <th>0.975]</th>  \n",
       "</tr>\n",
       "<tr>\n",
       "  <th>ma.L1</th>  <td>    0.3338</td> <td>    0.023</td> <td>   14.555</td> <td> 0.000</td> <td>    0.289</td> <td>    0.379</td>\n",
       "</tr>\n",
       "<tr>\n",
       "  <th>ma.L2</th>  <td>   -0.0224</td> <td>    0.026</td> <td>   -0.860</td> <td> 0.390</td> <td>   -0.073</td> <td>    0.029</td>\n",
       "</tr>\n",
       "<tr>\n",
       "  <th>ma.L3</th>  <td>    0.0702</td> <td>    0.026</td> <td>    2.665</td> <td> 0.008</td> <td>    0.019</td> <td>    0.122</td>\n",
       "</tr>\n",
       "<tr>\n",
       "  <th>sigma2</th> <td>   57.9422</td> <td>    1.643</td> <td>   35.256</td> <td> 0.000</td> <td>   54.721</td> <td>   61.163</td>\n",
       "</tr>\n",
       "</table>\n",
       "<table class=\"simpletable\">\n",
       "<tr>\n",
       "  <th>Ljung-Box (Q):</th>          <td>54.62</td> <th>  Jarque-Bera (JB):  </th> <td>845.42</td>\n",
       "</tr>\n",
       "<tr>\n",
       "  <th>Prob(Q):</th>                <td>0.06</td>  <th>  Prob(JB):          </th>  <td>0.00</td> \n",
       "</tr>\n",
       "<tr>\n",
       "  <th>Heteroskedasticity (H):</th> <td>2.12</td>  <th>  Skew:              </th>  <td>-0.67</td>\n",
       "</tr>\n",
       "<tr>\n",
       "  <th>Prob(H) (two-sided):</th>    <td>0.00</td>  <th>  Kurtosis:          </th>  <td>8.14</td> \n",
       "</tr>\n",
       "</table><br/><br/>Warnings:<br/>[1] Covariance matrix calculated using the outer product of gradients (complex-step)."
      ],
      "text/plain": [
       "<class 'statsmodels.iolib.summary.Summary'>\n",
       "\"\"\"\n",
       "                               SARIMAX Results                                \n",
       "==============================================================================\n",
       "Dep. Variable:                      y   No. Observations:                  720\n",
       "Model:               SARIMAX(0, 1, 3)   Log Likelihood               -2479.665\n",
       "Date:                Mon, 05 Oct 2020   AIC                           4967.329\n",
       "Time:                        16:38:15   BIC                           4985.641\n",
       "Sample:                             0   HQIC                          4974.399\n",
       "                                - 720                                         \n",
       "Covariance Type:                  opg                                         \n",
       "==============================================================================\n",
       "                 coef    std err          z      P>|z|      [0.025      0.975]\n",
       "------------------------------------------------------------------------------\n",
       "ma.L1          0.3338      0.023     14.555      0.000       0.289       0.379\n",
       "ma.L2         -0.0224      0.026     -0.860      0.390      -0.073       0.029\n",
       "ma.L3          0.0702      0.026      2.665      0.008       0.019       0.122\n",
       "sigma2        57.9422      1.643     35.256      0.000      54.721      61.163\n",
       "===================================================================================\n",
       "Ljung-Box (Q):                       54.62   Jarque-Bera (JB):               845.42\n",
       "Prob(Q):                              0.06   Prob(JB):                         0.00\n",
       "Heteroskedasticity (H):               2.12   Skew:                            -0.67\n",
       "Prob(H) (two-sided):                  0.00   Kurtosis:                         8.14\n",
       "===================================================================================\n",
       "\n",
       "Warnings:\n",
       "[1] Covariance matrix calculated using the outer product of gradients (complex-step).\n",
       "\"\"\""
      ]
     },
     "execution_count": 46,
     "metadata": {},
     "output_type": "execute_result"
    }
   ],
   "source": [
    "model_ETH.summary()"
   ]
  },
  {
   "cell_type": "markdown",
   "metadata": {},
   "source": [
    "Looks like ARIMA(0, 1, 3) model."
   ]
  },
  {
   "cell_type": "code",
   "execution_count": 47,
   "metadata": {},
   "outputs": [
    {
     "name": "stderr",
     "output_type": "stream",
     "text": [
      "C:\\Users\\pam\\anaconda3\\lib\\site-packages\\statsmodels\\tsa\\statespace\\sarimax.py:963: UserWarning: Non-stationary starting autoregressive parameters found. Using zeros as starting parameters.\n",
      "  warn('Non-stationary starting autoregressive parameters'\n",
      "C:\\Users\\pam\\anaconda3\\lib\\site-packages\\statsmodels\\tsa\\statespace\\sarimax.py:975: UserWarning: Non-invertible starting MA parameters found. Using zeros as starting parameters.\n",
      "  warn('Non-invertible starting MA parameters found.'\n",
      "C:\\Users\\pam\\anaconda3\\lib\\site-packages\\statsmodels\\base\\model.py:568: ConvergenceWarning: Maximum Likelihood optimization failed to converge. Check mle_retvals\n",
      "  \"Check mle_retvals\", ConvergenceWarning)\n",
      "C:\\Users\\pam\\anaconda3\\lib\\site-packages\\statsmodels\\tsa\\statespace\\sarimax.py:963: UserWarning: Non-stationary starting autoregressive parameters found. Using zeros as starting parameters.\n",
      "  warn('Non-stationary starting autoregressive parameters'\n",
      "C:\\Users\\pam\\anaconda3\\lib\\site-packages\\statsmodels\\tsa\\statespace\\sarimax.py:975: UserWarning: Non-invertible starting MA parameters found. Using zeros as starting parameters.\n",
      "  warn('Non-invertible starting MA parameters found.'\n",
      "C:\\Users\\pam\\anaconda3\\lib\\site-packages\\statsmodels\\tsa\\statespace\\sarimax.py:963: UserWarning: Non-stationary starting autoregressive parameters found. Using zeros as starting parameters.\n",
      "  warn('Non-stationary starting autoregressive parameters'\n",
      "C:\\Users\\pam\\anaconda3\\lib\\site-packages\\statsmodels\\base\\model.py:568: ConvergenceWarning: Maximum Likelihood optimization failed to converge. Check mle_retvals\n",
      "  \"Check mle_retvals\", ConvergenceWarning)\n",
      "C:\\Users\\pam\\anaconda3\\lib\\site-packages\\statsmodels\\base\\model.py:568: ConvergenceWarning: Maximum Likelihood optimization failed to converge. Check mle_retvals\n",
      "  \"Check mle_retvals\", ConvergenceWarning)\n",
      "C:\\Users\\pam\\anaconda3\\lib\\site-packages\\statsmodels\\base\\model.py:568: ConvergenceWarning: Maximum Likelihood optimization failed to converge. Check mle_retvals\n",
      "  \"Check mle_retvals\", ConvergenceWarning)\n",
      "C:\\Users\\pam\\anaconda3\\lib\\site-packages\\statsmodels\\base\\model.py:568: ConvergenceWarning: Maximum Likelihood optimization failed to converge. Check mle_retvals\n",
      "  \"Check mle_retvals\", ConvergenceWarning)\n",
      "C:\\Users\\pam\\anaconda3\\lib\\site-packages\\statsmodels\\base\\model.py:568: ConvergenceWarning: Maximum Likelihood optimization failed to converge. Check mle_retvals\n",
      "  \"Check mle_retvals\", ConvergenceWarning)\n",
      "C:\\Users\\pam\\anaconda3\\lib\\site-packages\\statsmodels\\base\\model.py:568: ConvergenceWarning: Maximum Likelihood optimization failed to converge. Check mle_retvals\n",
      "  \"Check mle_retvals\", ConvergenceWarning)\n",
      "C:\\Users\\pam\\anaconda3\\lib\\site-packages\\statsmodels\\base\\model.py:568: ConvergenceWarning: Maximum Likelihood optimization failed to converge. Check mle_retvals\n",
      "  \"Check mle_retvals\", ConvergenceWarning)\n",
      "C:\\Users\\pam\\anaconda3\\lib\\site-packages\\statsmodels\\base\\model.py:568: ConvergenceWarning: Maximum Likelihood optimization failed to converge. Check mle_retvals\n",
      "  \"Check mle_retvals\", ConvergenceWarning)\n",
      "C:\\Users\\pam\\anaconda3\\lib\\site-packages\\statsmodels\\tsa\\statespace\\sarimax.py:963: UserWarning: Non-stationary starting autoregressive parameters found. Using zeros as starting parameters.\n",
      "  warn('Non-stationary starting autoregressive parameters'\n",
      "C:\\Users\\pam\\anaconda3\\lib\\site-packages\\statsmodels\\tsa\\statespace\\sarimax.py:975: UserWarning: Non-invertible starting MA parameters found. Using zeros as starting parameters.\n",
      "  warn('Non-invertible starting MA parameters found.'\n",
      "C:\\Users\\pam\\anaconda3\\lib\\site-packages\\statsmodels\\base\\model.py:568: ConvergenceWarning: Maximum Likelihood optimization failed to converge. Check mle_retvals\n",
      "  \"Check mle_retvals\", ConvergenceWarning)\n",
      "C:\\Users\\pam\\anaconda3\\lib\\site-packages\\statsmodels\\base\\model.py:568: ConvergenceWarning: Maximum Likelihood optimization failed to converge. Check mle_retvals\n",
      "  \"Check mle_retvals\", ConvergenceWarning)\n",
      "C:\\Users\\pam\\anaconda3\\lib\\site-packages\\statsmodels\\tsa\\statespace\\sarimax.py:963: UserWarning: Non-stationary starting autoregressive parameters found. Using zeros as starting parameters.\n",
      "  warn('Non-stationary starting autoregressive parameters'\n",
      "C:\\Users\\pam\\anaconda3\\lib\\site-packages\\statsmodels\\base\\model.py:568: ConvergenceWarning: Maximum Likelihood optimization failed to converge. Check mle_retvals\n",
      "  \"Check mle_retvals\", ConvergenceWarning)\n"
     ]
    }
   ],
   "source": [
    "model_ETH_ret = auto_arima(df_copy['ETH_daily_return'][1:])"
   ]
  },
  {
   "cell_type": "code",
   "execution_count": 48,
   "metadata": {},
   "outputs": [
    {
     "data": {
      "text/html": [
       "<table class=\"simpletable\">\n",
       "<caption>SARIMAX Results</caption>\n",
       "<tr>\n",
       "  <th>Dep. Variable:</th>           <td>y</td>        <th>  No. Observations:  </th>    <td>719</td>   \n",
       "</tr>\n",
       "<tr>\n",
       "  <th>Model:</th>           <td>SARIMAX(2, 0, 3)</td> <th>  Log Likelihood     </th> <td>1363.942</td> \n",
       "</tr>\n",
       "<tr>\n",
       "  <th>Date:</th>            <td>Mon, 05 Oct 2020</td> <th>  AIC                </th> <td>-2715.883</td>\n",
       "</tr>\n",
       "<tr>\n",
       "  <th>Time:</th>                <td>16:40:01</td>     <th>  BIC                </th> <td>-2688.416</td>\n",
       "</tr>\n",
       "<tr>\n",
       "  <th>Sample:</th>                  <td>0</td>        <th>  HQIC               </th> <td>-2705.279</td>\n",
       "</tr>\n",
       "<tr>\n",
       "  <th></th>                      <td> - 719</td>      <th>                     </th>     <td> </td>    \n",
       "</tr>\n",
       "<tr>\n",
       "  <th>Covariance Type:</th>        <td>opg</td>       <th>                     </th>     <td> </td>    \n",
       "</tr>\n",
       "</table>\n",
       "<table class=\"simpletable\">\n",
       "<tr>\n",
       "     <td></td>       <th>coef</th>     <th>std err</th>      <th>z</th>      <th>P>|z|</th>  <th>[0.025</th>    <th>0.975]</th>  \n",
       "</tr>\n",
       "<tr>\n",
       "  <th>ar.L1</th>  <td>    0.9213</td> <td>    0.117</td> <td>    7.884</td> <td> 0.000</td> <td>    0.692</td> <td>    1.150</td>\n",
       "</tr>\n",
       "<tr>\n",
       "  <th>ar.L2</th>  <td>   -0.6790</td> <td>    0.122</td> <td>   -5.565</td> <td> 0.000</td> <td>   -0.918</td> <td>   -0.440</td>\n",
       "</tr>\n",
       "<tr>\n",
       "  <th>ma.L1</th>  <td>   -0.6231</td> <td>    0.113</td> <td>   -5.503</td> <td> 0.000</td> <td>   -0.845</td> <td>   -0.401</td>\n",
       "</tr>\n",
       "<tr>\n",
       "  <th>ma.L2</th>  <td>    0.3366</td> <td>    0.110</td> <td>    3.062</td> <td> 0.002</td> <td>    0.121</td> <td>    0.552</td>\n",
       "</tr>\n",
       "<tr>\n",
       "  <th>ma.L3</th>  <td>    0.3247</td> <td>    0.039</td> <td>    8.318</td> <td> 0.000</td> <td>    0.248</td> <td>    0.401</td>\n",
       "</tr>\n",
       "<tr>\n",
       "  <th>sigma2</th> <td>    0.0013</td> <td> 4.29e-05</td> <td>   30.888</td> <td> 0.000</td> <td>    0.001</td> <td>    0.001</td>\n",
       "</tr>\n",
       "</table>\n",
       "<table class=\"simpletable\">\n",
       "<tr>\n",
       "  <th>Ljung-Box (Q):</th>          <td>42.34</td> <th>  Jarque-Bera (JB):  </th> <td>549.43</td>\n",
       "</tr>\n",
       "<tr>\n",
       "  <th>Prob(Q):</th>                <td>0.37</td>  <th>  Prob(JB):          </th>  <td>0.00</td> \n",
       "</tr>\n",
       "<tr>\n",
       "  <th>Heteroskedasticity (H):</th> <td>0.95</td>  <th>  Skew:              </th>  <td>-0.35</td>\n",
       "</tr>\n",
       "<tr>\n",
       "  <th>Prob(H) (two-sided):</th>    <td>0.67</td>  <th>  Kurtosis:          </th>  <td>7.22</td> \n",
       "</tr>\n",
       "</table><br/><br/>Warnings:<br/>[1] Covariance matrix calculated using the outer product of gradients (complex-step)."
      ],
      "text/plain": [
       "<class 'statsmodels.iolib.summary.Summary'>\n",
       "\"\"\"\n",
       "                               SARIMAX Results                                \n",
       "==============================================================================\n",
       "Dep. Variable:                      y   No. Observations:                  719\n",
       "Model:               SARIMAX(2, 0, 3)   Log Likelihood                1363.942\n",
       "Date:                Mon, 05 Oct 2020   AIC                          -2715.883\n",
       "Time:                        16:40:01   BIC                          -2688.416\n",
       "Sample:                             0   HQIC                         -2705.279\n",
       "                                - 719                                         \n",
       "Covariance Type:                  opg                                         \n",
       "==============================================================================\n",
       "                 coef    std err          z      P>|z|      [0.025      0.975]\n",
       "------------------------------------------------------------------------------\n",
       "ar.L1          0.9213      0.117      7.884      0.000       0.692       1.150\n",
       "ar.L2         -0.6790      0.122     -5.565      0.000      -0.918      -0.440\n",
       "ma.L1         -0.6231      0.113     -5.503      0.000      -0.845      -0.401\n",
       "ma.L2          0.3366      0.110      3.062      0.002       0.121       0.552\n",
       "ma.L3          0.3247      0.039      8.318      0.000       0.248       0.401\n",
       "sigma2         0.0013   4.29e-05     30.888      0.000       0.001       0.001\n",
       "===================================================================================\n",
       "Ljung-Box (Q):                       42.34   Jarque-Bera (JB):               549.43\n",
       "Prob(Q):                              0.37   Prob(JB):                         0.00\n",
       "Heteroskedasticity (H):               0.95   Skew:                            -0.35\n",
       "Prob(H) (two-sided):                  0.67   Kurtosis:                         7.22\n",
       "===================================================================================\n",
       "\n",
       "Warnings:\n",
       "[1] Covariance matrix calculated using the outer product of gradients (complex-step).\n",
       "\"\"\""
      ]
     },
     "execution_count": 48,
     "metadata": {},
     "output_type": "execute_result"
    }
   ],
   "source": [
    "model_ETH_ret.summary()"
   ]
  },
  {
   "cell_type": "markdown",
   "metadata": {},
   "source": [
    "Threw out some weird warnings about non-stationary time series and model not converging.\n",
    "\n",
    "Ended with ARMA(2, 3) model."
   ]
  },
  {
   "cell_type": "markdown",
   "metadata": {},
   "source": [
    "### LTC Models"
   ]
  },
  {
   "cell_type": "code",
   "execution_count": 49,
   "metadata": {},
   "outputs": [
    {
     "name": "stderr",
     "output_type": "stream",
     "text": [
      "C:\\Users\\pam\\anaconda3\\lib\\site-packages\\statsmodels\\base\\model.py:568: ConvergenceWarning: Maximum Likelihood optimization failed to converge. Check mle_retvals\n",
      "  \"Check mle_retvals\", ConvergenceWarning)\n",
      "C:\\Users\\pam\\anaconda3\\lib\\site-packages\\statsmodels\\tsa\\statespace\\sarimax.py:963: UserWarning: Non-stationary starting autoregressive parameters found. Using zeros as starting parameters.\n",
      "  warn('Non-stationary starting autoregressive parameters'\n",
      "C:\\Users\\pam\\anaconda3\\lib\\site-packages\\statsmodels\\tsa\\statespace\\sarimax.py:975: UserWarning: Non-invertible starting MA parameters found. Using zeros as starting parameters.\n",
      "  warn('Non-invertible starting MA parameters found.'\n",
      "C:\\Users\\pam\\anaconda3\\lib\\site-packages\\statsmodels\\base\\model.py:568: ConvergenceWarning: Maximum Likelihood optimization failed to converge. Check mle_retvals\n",
      "  \"Check mle_retvals\", ConvergenceWarning)\n",
      "C:\\Users\\pam\\anaconda3\\lib\\site-packages\\statsmodels\\base\\model.py:568: ConvergenceWarning: Maximum Likelihood optimization failed to converge. Check mle_retvals\n",
      "  \"Check mle_retvals\", ConvergenceWarning)\n",
      "C:\\Users\\pam\\anaconda3\\lib\\site-packages\\statsmodels\\tsa\\statespace\\sarimax.py:963: UserWarning: Non-stationary starting autoregressive parameters found. Using zeros as starting parameters.\n",
      "  warn('Non-stationary starting autoregressive parameters'\n",
      "C:\\Users\\pam\\anaconda3\\lib\\site-packages\\statsmodels\\tsa\\statespace\\sarimax.py:975: UserWarning: Non-invertible starting MA parameters found. Using zeros as starting parameters.\n",
      "  warn('Non-invertible starting MA parameters found.'\n",
      "C:\\Users\\pam\\anaconda3\\lib\\site-packages\\statsmodels\\base\\model.py:568: ConvergenceWarning: Maximum Likelihood optimization failed to converge. Check mle_retvals\n",
      "  \"Check mle_retvals\", ConvergenceWarning)\n"
     ]
    }
   ],
   "source": [
    "model_LTC = auto_arima(df_copy['vwap_LTC'])"
   ]
  },
  {
   "cell_type": "code",
   "execution_count": 50,
   "metadata": {},
   "outputs": [
    {
     "data": {
      "text/html": [
       "<table class=\"simpletable\">\n",
       "<caption>SARIMAX Results</caption>\n",
       "<tr>\n",
       "  <th>Dep. Variable:</th>           <td>y</td>        <th>  No. Observations:  </th>    <td>720</td>   \n",
       "</tr>\n",
       "<tr>\n",
       "  <th>Model:</th>           <td>SARIMAX(4, 1, 2)</td> <th>  Log Likelihood     </th> <td>-1674.338</td>\n",
       "</tr>\n",
       "<tr>\n",
       "  <th>Date:</th>            <td>Mon, 05 Oct 2020</td> <th>  AIC                </th> <td>3362.676</td> \n",
       "</tr>\n",
       "<tr>\n",
       "  <th>Time:</th>                <td>16:42:19</td>     <th>  BIC                </th> <td>3394.721</td> \n",
       "</tr>\n",
       "<tr>\n",
       "  <th>Sample:</th>                  <td>0</td>        <th>  HQIC               </th> <td>3375.048</td> \n",
       "</tr>\n",
       "<tr>\n",
       "  <th></th>                      <td> - 720</td>      <th>                     </th>     <td> </td>    \n",
       "</tr>\n",
       "<tr>\n",
       "  <th>Covariance Type:</th>        <td>opg</td>       <th>                     </th>     <td> </td>    \n",
       "</tr>\n",
       "</table>\n",
       "<table class=\"simpletable\">\n",
       "<tr>\n",
       "     <td></td>       <th>coef</th>     <th>std err</th>      <th>z</th>      <th>P>|z|</th>  <th>[0.025</th>    <th>0.975]</th>  \n",
       "</tr>\n",
       "<tr>\n",
       "  <th>ar.L1</th>  <td>    1.8508</td> <td>    0.050</td> <td>   36.722</td> <td> 0.000</td> <td>    1.752</td> <td>    1.950</td>\n",
       "</tr>\n",
       "<tr>\n",
       "  <th>ar.L2</th>  <td>   -1.4926</td> <td>    0.073</td> <td>  -20.315</td> <td> 0.000</td> <td>   -1.637</td> <td>   -1.349</td>\n",
       "</tr>\n",
       "<tr>\n",
       "  <th>ar.L3</th>  <td>    0.6438</td> <td>    0.051</td> <td>   12.533</td> <td> 0.000</td> <td>    0.543</td> <td>    0.744</td>\n",
       "</tr>\n",
       "<tr>\n",
       "  <th>ar.L4</th>  <td>   -0.2591</td> <td>    0.025</td> <td>  -10.186</td> <td> 0.000</td> <td>   -0.309</td> <td>   -0.209</td>\n",
       "</tr>\n",
       "<tr>\n",
       "  <th>ma.L1</th>  <td>   -1.5811</td> <td>    0.047</td> <td>  -33.475</td> <td> 0.000</td> <td>   -1.674</td> <td>   -1.488</td>\n",
       "</tr>\n",
       "<tr>\n",
       "  <th>ma.L2</th>  <td>    0.8556</td> <td>    0.047</td> <td>   18.399</td> <td> 0.000</td> <td>    0.764</td> <td>    0.947</td>\n",
       "</tr>\n",
       "<tr>\n",
       "  <th>sigma2</th> <td>    6.1650</td> <td>    0.174</td> <td>   35.480</td> <td> 0.000</td> <td>    5.824</td> <td>    6.506</td>\n",
       "</tr>\n",
       "</table>\n",
       "<table class=\"simpletable\">\n",
       "<tr>\n",
       "  <th>Ljung-Box (Q):</th>          <td>58.64</td> <th>  Jarque-Bera (JB):  </th> <td>1503.76</td>\n",
       "</tr>\n",
       "<tr>\n",
       "  <th>Prob(Q):</th>                <td>0.03</td>  <th>  Prob(JB):          </th>  <td>0.00</td>  \n",
       "</tr>\n",
       "<tr>\n",
       "  <th>Heteroskedasticity (H):</th> <td>0.53</td>  <th>  Skew:              </th>  <td>-0.00</td> \n",
       "</tr>\n",
       "<tr>\n",
       "  <th>Prob(H) (two-sided):</th>    <td>0.00</td>  <th>  Kurtosis:          </th>  <td>10.08</td> \n",
       "</tr>\n",
       "</table><br/><br/>Warnings:<br/>[1] Covariance matrix calculated using the outer product of gradients (complex-step)."
      ],
      "text/plain": [
       "<class 'statsmodels.iolib.summary.Summary'>\n",
       "\"\"\"\n",
       "                               SARIMAX Results                                \n",
       "==============================================================================\n",
       "Dep. Variable:                      y   No. Observations:                  720\n",
       "Model:               SARIMAX(4, 1, 2)   Log Likelihood               -1674.338\n",
       "Date:                Mon, 05 Oct 2020   AIC                           3362.676\n",
       "Time:                        16:42:19   BIC                           3394.721\n",
       "Sample:                             0   HQIC                          3375.048\n",
       "                                - 720                                         \n",
       "Covariance Type:                  opg                                         \n",
       "==============================================================================\n",
       "                 coef    std err          z      P>|z|      [0.025      0.975]\n",
       "------------------------------------------------------------------------------\n",
       "ar.L1          1.8508      0.050     36.722      0.000       1.752       1.950\n",
       "ar.L2         -1.4926      0.073    -20.315      0.000      -1.637      -1.349\n",
       "ar.L3          0.6438      0.051     12.533      0.000       0.543       0.744\n",
       "ar.L4         -0.2591      0.025    -10.186      0.000      -0.309      -0.209\n",
       "ma.L1         -1.5811      0.047    -33.475      0.000      -1.674      -1.488\n",
       "ma.L2          0.8556      0.047     18.399      0.000       0.764       0.947\n",
       "sigma2         6.1650      0.174     35.480      0.000       5.824       6.506\n",
       "===================================================================================\n",
       "Ljung-Box (Q):                       58.64   Jarque-Bera (JB):              1503.76\n",
       "Prob(Q):                              0.03   Prob(JB):                         0.00\n",
       "Heteroskedasticity (H):               0.53   Skew:                            -0.00\n",
       "Prob(H) (two-sided):                  0.00   Kurtosis:                        10.08\n",
       "===================================================================================\n",
       "\n",
       "Warnings:\n",
       "[1] Covariance matrix calculated using the outer product of gradients (complex-step).\n",
       "\"\"\""
      ]
     },
     "execution_count": 50,
     "metadata": {},
     "output_type": "execute_result"
    }
   ],
   "source": [
    "model_LTC.summary()"
   ]
  },
  {
   "cell_type": "markdown",
   "metadata": {},
   "source": [
    "ARIMA(4, 1, 2)"
   ]
  },
  {
   "cell_type": "code",
   "execution_count": 51,
   "metadata": {},
   "outputs": [
    {
     "name": "stderr",
     "output_type": "stream",
     "text": [
      "C:\\Users\\pam\\anaconda3\\lib\\site-packages\\statsmodels\\base\\model.py:568: ConvergenceWarning: Maximum Likelihood optimization failed to converge. Check mle_retvals\n",
      "  \"Check mle_retvals\", ConvergenceWarning)\n",
      "C:\\Users\\pam\\anaconda3\\lib\\site-packages\\statsmodels\\base\\model.py:568: ConvergenceWarning: Maximum Likelihood optimization failed to converge. Check mle_retvals\n",
      "  \"Check mle_retvals\", ConvergenceWarning)\n",
      "C:\\Users\\pam\\anaconda3\\lib\\site-packages\\statsmodels\\base\\model.py:568: ConvergenceWarning: Maximum Likelihood optimization failed to converge. Check mle_retvals\n",
      "  \"Check mle_retvals\", ConvergenceWarning)\n",
      "C:\\Users\\pam\\anaconda3\\lib\\site-packages\\statsmodels\\tsa\\statespace\\sarimax.py:963: UserWarning: Non-stationary starting autoregressive parameters found. Using zeros as starting parameters.\n",
      "  warn('Non-stationary starting autoregressive parameters'\n",
      "C:\\Users\\pam\\anaconda3\\lib\\site-packages\\statsmodels\\tsa\\statespace\\sarimax.py:975: UserWarning: Non-invertible starting MA parameters found. Using zeros as starting parameters.\n",
      "  warn('Non-invertible starting MA parameters found.'\n",
      "C:\\Users\\pam\\anaconda3\\lib\\site-packages\\statsmodels\\base\\model.py:568: ConvergenceWarning: Maximum Likelihood optimization failed to converge. Check mle_retvals\n",
      "  \"Check mle_retvals\", ConvergenceWarning)\n",
      "C:\\Users\\pam\\anaconda3\\lib\\site-packages\\statsmodels\\base\\model.py:568: ConvergenceWarning: Maximum Likelihood optimization failed to converge. Check mle_retvals\n",
      "  \"Check mle_retvals\", ConvergenceWarning)\n",
      "C:\\Users\\pam\\anaconda3\\lib\\site-packages\\statsmodels\\base\\model.py:568: ConvergenceWarning: Maximum Likelihood optimization failed to converge. Check mle_retvals\n",
      "  \"Check mle_retvals\", ConvergenceWarning)\n",
      "C:\\Users\\pam\\anaconda3\\lib\\site-packages\\statsmodels\\base\\model.py:568: ConvergenceWarning: Maximum Likelihood optimization failed to converge. Check mle_retvals\n",
      "  \"Check mle_retvals\", ConvergenceWarning)\n",
      "C:\\Users\\pam\\anaconda3\\lib\\site-packages\\statsmodels\\tsa\\statespace\\sarimax.py:963: UserWarning: Non-stationary starting autoregressive parameters found. Using zeros as starting parameters.\n",
      "  warn('Non-stationary starting autoregressive parameters'\n",
      "C:\\Users\\pam\\anaconda3\\lib\\site-packages\\statsmodels\\tsa\\statespace\\sarimax.py:975: UserWarning: Non-invertible starting MA parameters found. Using zeros as starting parameters.\n",
      "  warn('Non-invertible starting MA parameters found.'\n",
      "C:\\Users\\pam\\anaconda3\\lib\\site-packages\\statsmodels\\base\\model.py:568: ConvergenceWarning: Maximum Likelihood optimization failed to converge. Check mle_retvals\n",
      "  \"Check mle_retvals\", ConvergenceWarning)\n",
      "C:\\Users\\pam\\anaconda3\\lib\\site-packages\\statsmodels\\base\\model.py:568: ConvergenceWarning: Maximum Likelihood optimization failed to converge. Check mle_retvals\n",
      "  \"Check mle_retvals\", ConvergenceWarning)\n",
      "C:\\Users\\pam\\anaconda3\\lib\\site-packages\\statsmodels\\tsa\\statespace\\sarimax.py:963: UserWarning: Non-stationary starting autoregressive parameters found. Using zeros as starting parameters.\n",
      "  warn('Non-stationary starting autoregressive parameters'\n",
      "C:\\Users\\pam\\anaconda3\\lib\\site-packages\\statsmodels\\tsa\\statespace\\sarimax.py:975: UserWarning: Non-invertible starting MA parameters found. Using zeros as starting parameters.\n",
      "  warn('Non-invertible starting MA parameters found.'\n",
      "C:\\Users\\pam\\anaconda3\\lib\\site-packages\\statsmodels\\base\\model.py:568: ConvergenceWarning: Maximum Likelihood optimization failed to converge. Check mle_retvals\n",
      "  \"Check mle_retvals\", ConvergenceWarning)\n",
      "C:\\Users\\pam\\anaconda3\\lib\\site-packages\\statsmodels\\base\\model.py:568: ConvergenceWarning: Maximum Likelihood optimization failed to converge. Check mle_retvals\n",
      "  \"Check mle_retvals\", ConvergenceWarning)\n",
      "C:\\Users\\pam\\anaconda3\\lib\\site-packages\\statsmodels\\base\\model.py:568: ConvergenceWarning: Maximum Likelihood optimization failed to converge. Check mle_retvals\n",
      "  \"Check mle_retvals\", ConvergenceWarning)\n",
      "C:\\Users\\pam\\anaconda3\\lib\\site-packages\\statsmodels\\base\\model.py:568: ConvergenceWarning: Maximum Likelihood optimization failed to converge. Check mle_retvals\n",
      "  \"Check mle_retvals\", ConvergenceWarning)\n",
      "C:\\Users\\pam\\anaconda3\\lib\\site-packages\\statsmodels\\base\\model.py:568: ConvergenceWarning: Maximum Likelihood optimization failed to converge. Check mle_retvals\n",
      "  \"Check mle_retvals\", ConvergenceWarning)\n"
     ]
    }
   ],
   "source": [
    "model_LTC_ret = auto_arima(df_copy['LTC_daily_return'][1:])"
   ]
  },
  {
   "cell_type": "code",
   "execution_count": 52,
   "metadata": {},
   "outputs": [
    {
     "data": {
      "text/html": [
       "<table class=\"simpletable\">\n",
       "<caption>SARIMAX Results</caption>\n",
       "<tr>\n",
       "  <th>Dep. Variable:</th>           <td>y</td>        <th>  No. Observations:  </th>    <td>719</td>   \n",
       "</tr>\n",
       "<tr>\n",
       "  <th>Model:</th>           <td>SARIMAX(2, 0, 3)</td> <th>  Log Likelihood     </th> <td>1313.647</td> \n",
       "</tr>\n",
       "<tr>\n",
       "  <th>Date:</th>            <td>Mon, 05 Oct 2020</td> <th>  AIC                </th> <td>-2615.293</td>\n",
       "</tr>\n",
       "<tr>\n",
       "  <th>Time:</th>                <td>16:44:13</td>     <th>  BIC                </th> <td>-2587.826</td>\n",
       "</tr>\n",
       "<tr>\n",
       "  <th>Sample:</th>                  <td>0</td>        <th>  HQIC               </th> <td>-2604.689</td>\n",
       "</tr>\n",
       "<tr>\n",
       "  <th></th>                      <td> - 719</td>      <th>                     </th>     <td> </td>    \n",
       "</tr>\n",
       "<tr>\n",
       "  <th>Covariance Type:</th>        <td>opg</td>       <th>                     </th>     <td> </td>    \n",
       "</tr>\n",
       "</table>\n",
       "<table class=\"simpletable\">\n",
       "<tr>\n",
       "     <td></td>       <th>coef</th>     <th>std err</th>      <th>z</th>      <th>P>|z|</th>  <th>[0.025</th>    <th>0.975]</th>  \n",
       "</tr>\n",
       "<tr>\n",
       "  <th>ar.L1</th>  <td>   -0.6602</td> <td>    0.135</td> <td>   -4.876</td> <td> 0.000</td> <td>   -0.926</td> <td>   -0.395</td>\n",
       "</tr>\n",
       "<tr>\n",
       "  <th>ar.L2</th>  <td>   -0.7654</td> <td>    0.118</td> <td>   -6.479</td> <td> 0.000</td> <td>   -0.997</td> <td>   -0.534</td>\n",
       "</tr>\n",
       "<tr>\n",
       "  <th>ma.L1</th>  <td>    0.9712</td> <td>    0.141</td> <td>    6.876</td> <td> 0.000</td> <td>    0.694</td> <td>    1.248</td>\n",
       "</tr>\n",
       "<tr>\n",
       "  <th>ma.L2</th>  <td>    0.8965</td> <td>    0.150</td> <td>    5.973</td> <td> 0.000</td> <td>    0.602</td> <td>    1.191</td>\n",
       "</tr>\n",
       "<tr>\n",
       "  <th>ma.L3</th>  <td>    0.1683</td> <td>    0.064</td> <td>    2.639</td> <td> 0.008</td> <td>    0.043</td> <td>    0.293</td>\n",
       "</tr>\n",
       "<tr>\n",
       "  <th>sigma2</th> <td>    0.0015</td> <td> 4.66e-05</td> <td>   32.638</td> <td> 0.000</td> <td>    0.001</td> <td>    0.002</td>\n",
       "</tr>\n",
       "</table>\n",
       "<table class=\"simpletable\">\n",
       "<tr>\n",
       "  <th>Ljung-Box (Q):</th>          <td>28.49</td> <th>  Jarque-Bera (JB):  </th> <td>945.34</td>\n",
       "</tr>\n",
       "<tr>\n",
       "  <th>Prob(Q):</th>                <td>0.91</td>  <th>  Prob(JB):          </th>  <td>0.00</td> \n",
       "</tr>\n",
       "<tr>\n",
       "  <th>Heteroskedasticity (H):</th> <td>0.67</td>  <th>  Skew:              </th>  <td>0.17</td> \n",
       "</tr>\n",
       "<tr>\n",
       "  <th>Prob(H) (two-sided):</th>    <td>0.00</td>  <th>  Kurtosis:          </th>  <td>8.61</td> \n",
       "</tr>\n",
       "</table><br/><br/>Warnings:<br/>[1] Covariance matrix calculated using the outer product of gradients (complex-step)."
      ],
      "text/plain": [
       "<class 'statsmodels.iolib.summary.Summary'>\n",
       "\"\"\"\n",
       "                               SARIMAX Results                                \n",
       "==============================================================================\n",
       "Dep. Variable:                      y   No. Observations:                  719\n",
       "Model:               SARIMAX(2, 0, 3)   Log Likelihood                1313.647\n",
       "Date:                Mon, 05 Oct 2020   AIC                          -2615.293\n",
       "Time:                        16:44:13   BIC                          -2587.826\n",
       "Sample:                             0   HQIC                         -2604.689\n",
       "                                - 719                                         \n",
       "Covariance Type:                  opg                                         \n",
       "==============================================================================\n",
       "                 coef    std err          z      P>|z|      [0.025      0.975]\n",
       "------------------------------------------------------------------------------\n",
       "ar.L1         -0.6602      0.135     -4.876      0.000      -0.926      -0.395\n",
       "ar.L2         -0.7654      0.118     -6.479      0.000      -0.997      -0.534\n",
       "ma.L1          0.9712      0.141      6.876      0.000       0.694       1.248\n",
       "ma.L2          0.8965      0.150      5.973      0.000       0.602       1.191\n",
       "ma.L3          0.1683      0.064      2.639      0.008       0.043       0.293\n",
       "sigma2         0.0015   4.66e-05     32.638      0.000       0.001       0.002\n",
       "===================================================================================\n",
       "Ljung-Box (Q):                       28.49   Jarque-Bera (JB):               945.34\n",
       "Prob(Q):                              0.91   Prob(JB):                         0.00\n",
       "Heteroskedasticity (H):               0.67   Skew:                             0.17\n",
       "Prob(H) (two-sided):                  0.00   Kurtosis:                         8.61\n",
       "===================================================================================\n",
       "\n",
       "Warnings:\n",
       "[1] Covariance matrix calculated using the outer product of gradients (complex-step).\n",
       "\"\"\""
      ]
     },
     "execution_count": 52,
     "metadata": {},
     "output_type": "execute_result"
    }
   ],
   "source": [
    "model_LTC_ret.summary()"
   ]
  },
  {
   "cell_type": "markdown",
   "metadata": {},
   "source": [
    "ARMA(2, 3) model for LTC returns."
   ]
  },
  {
   "cell_type": "markdown",
   "metadata": {},
   "source": [
    "---"
   ]
  },
  {
   "cell_type": "markdown",
   "metadata": {},
   "source": [
    "Try forecasting tomorrow, see how that turns out."
   ]
  },
  {
   "cell_type": "markdown",
   "metadata": {},
   "source": [
    "---"
   ]
  },
  {
   "cell_type": "markdown",
   "metadata": {},
   "source": [
    "### Regression Models, Price then Returns."
   ]
  },
  {
   "cell_type": "code",
   "execution_count": null,
   "metadata": {},
   "outputs": [],
   "source": []
  }
 ],
 "metadata": {
  "kernelspec": {
   "display_name": "Python 3",
   "language": "python",
   "name": "python3"
  },
  "language_info": {
   "codemirror_mode": {
    "name": "ipython",
    "version": 3
   },
   "file_extension": ".py",
   "mimetype": "text/x-python",
   "name": "python",
   "nbconvert_exporter": "python",
   "pygments_lexer": "ipython3",
   "version": "3.7.6"
  }
 },
 "nbformat": 4,
 "nbformat_minor": 4
}
